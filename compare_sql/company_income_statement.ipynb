{
 "cells": [
  {
   "attachments": {},
   "cell_type": "markdown",
   "metadata": {},
   "source": [
    "Library"
   ]
  },
  {
   "cell_type": "code",
   "execution_count": 1,
   "metadata": {},
   "outputs": [],
   "source": [
    "# Import libraries\n",
    "import pandas as pd\n",
    "import numpy as np\n",
    "import datetime as dt"
   ]
  },
  {
   "attachments": {},
   "cell_type": "markdown",
   "metadata": {},
   "source": [
    "Symbol"
   ]
  },
  {
   "cell_type": "code",
   "execution_count": 2,
   "metadata": {},
   "outputs": [],
   "source": [
    "# Save as a table\n",
    "sql_symbol = pd.read_csv(\"symbol_id.csv\")\n",
    "sql_symbol.drop(['Unnamed: 0'], axis=1, inplace=True)\n",
    "\n",
    "# Save as a dict\n",
    "dict_sql_symbol = dict(zip(sql_symbol['SymbolID'], sql_symbol['Symbol']))"
   ]
  },
  {
   "attachments": {},
   "cell_type": "markdown",
   "metadata": {},
   "source": [
    "Pathlink"
   ]
  },
  {
   "cell_type": "code",
   "execution_count": 3,
   "metadata": {},
   "outputs": [],
   "source": [
    "# Assign pathlink: Income Statement Bank\n",
    "algo_pathlink = r\"/Users/rainmeteror/Desktop/BSC_Algo_Database_UAT/OneDrive_1_5-29-2023/company/algo_cis.xlsx\"\n",
    "sql_pathlink = r\"/Users/rainmeteror/Desktop/BSC_Algo_Database_UAT/OneDrive_1_5-29-2023/company/sql_cis.xlsx\"\n",
    "same_field_data = r\"/Users/rainmeteror/Desktop/BSC_Algo_Database_UAT/OneDrive_1_5-29-2023/company/cis_datafield.xlsx\"\n",
    "result_pathlink = r\"/Users/rainmeteror/Desktop/BSC_Algo_Database_UAT/OneDrive_1_5-29-2023/result\""
   ]
  },
  {
   "attachments": {},
   "cell_type": "markdown",
   "metadata": {},
   "source": [
    "Algo Database"
   ]
  },
  {
   "cell_type": "code",
   "execution_count": 4,
   "metadata": {},
   "outputs": [
    {
     "name": "stdout",
     "output_type": "stream",
     "text": [
      "ALGO DATABASE COMPANY: There are: 15397 rows\n",
      "ALGO DATABASE COMPANY: There are: 28 columns\n"
     ]
    }
   ],
   "source": [
    "# Read data from algo database\n",
    "df_algo = pd.read_excel(algo_pathlink)\n",
    "df_algo.drop(['Unnamed: 0', 'SCN', 'REPORTED_DATE', 'AUDITED', 'MONTH_IN_PERIOD', 'CREATED_DATE', 'UPDATED_DATE'], axis=1, inplace=True)\n",
    "df_algo = df_algo.loc[df_algo['FREQ_CODE'] != 'Y']\n",
    "df_algo['YEAR'] = df_algo['REPORT_DATE'].dt.year\n",
    "df_algo['QUARTER'] = df_algo['REPORT_DATE'].dt.quarter\n",
    "df_algo.drop(['REPORT_DATE', 'FREQ_CODE'], axis=1, inplace=True)\n",
    "\n",
    "# Sort Values\n",
    "df_algo.sort_values(by=['YEAR', 'QUARTER', 'SECURITY_CODE'], ascending=[True, True, True], inplace=True)\n",
    "\n",
    "# Print how many rows are used\n",
    "print(\"ALGO DATABASE COMPANY: There are: \" + str(len(df_algo)) + \" rows\")\n",
    "print(\"ALGO DATABASE COMPANY: There are: \" + str(len(df_algo.columns)) + \" columns\")"
   ]
  },
  {
   "cell_type": "code",
   "execution_count": 5,
   "metadata": {},
   "outputs": [
    {
     "data": {
      "text/html": [
       "<div>\n",
       "<style scoped>\n",
       "    .dataframe tbody tr th:only-of-type {\n",
       "        vertical-align: middle;\n",
       "    }\n",
       "\n",
       "    .dataframe tbody tr th {\n",
       "        vertical-align: top;\n",
       "    }\n",
       "\n",
       "    .dataframe thead th {\n",
       "        text-align: right;\n",
       "    }\n",
       "</style>\n",
       "<table border=\"1\" class=\"dataframe\">\n",
       "  <thead>\n",
       "    <tr style=\"text-align: right;\">\n",
       "      <th></th>\n",
       "      <th>SECURITY_CODE</th>\n",
       "      <th>CIS_1</th>\n",
       "      <th>CIS_2</th>\n",
       "      <th>CIS_10</th>\n",
       "      <th>CIS_11</th>\n",
       "      <th>CIS_20</th>\n",
       "      <th>CIS_21</th>\n",
       "      <th>CIS_22</th>\n",
       "      <th>CIS_23</th>\n",
       "      <th>CIS_24</th>\n",
       "      <th>...</th>\n",
       "      <th>CIS_51</th>\n",
       "      <th>CIS_52</th>\n",
       "      <th>CIS_521</th>\n",
       "      <th>CIS_60</th>\n",
       "      <th>CIS_62</th>\n",
       "      <th>CIS_61</th>\n",
       "      <th>CIS_70</th>\n",
       "      <th>CIS_71</th>\n",
       "      <th>YEAR</th>\n",
       "      <th>QUARTER</th>\n",
       "    </tr>\n",
       "  </thead>\n",
       "  <tbody>\n",
       "    <tr>\n",
       "      <th>4072</th>\n",
       "      <td>AAA</td>\n",
       "      <td>1.573568e+12</td>\n",
       "      <td>-1.220192e+09</td>\n",
       "      <td>1.572347e+12</td>\n",
       "      <td>-1.393582e+12</td>\n",
       "      <td>1.787656e+11</td>\n",
       "      <td>3.604300e+10</td>\n",
       "      <td>-5.699372e+10</td>\n",
       "      <td>-5.052415e+10</td>\n",
       "      <td>191019839.0</td>\n",
       "      <td>...</td>\n",
       "      <td>-1.129647e+10</td>\n",
       "      <td>44342055.0</td>\n",
       "      <td>-1.125213e+10</td>\n",
       "      <td>6.265842e+10</td>\n",
       "      <td>4.173949e+09</td>\n",
       "      <td>5.848447e+10</td>\n",
       "      <td>0.0</td>\n",
       "      <td>0.0</td>\n",
       "      <td>2020</td>\n",
       "      <td>1</td>\n",
       "    </tr>\n",
       "  </tbody>\n",
       "</table>\n",
       "<p>1 rows × 28 columns</p>\n",
       "</div>"
      ],
      "text/plain": [
       "     SECURITY_CODE         CIS_1         CIS_2        CIS_10        CIS_11   \n",
       "4072           AAA  1.573568e+12 -1.220192e+09  1.572347e+12 -1.393582e+12  \\\n",
       "\n",
       "            CIS_20        CIS_21        CIS_22        CIS_23       CIS_24   \n",
       "4072  1.787656e+11  3.604300e+10 -5.699372e+10 -5.052415e+10  191019839.0  \\\n",
       "\n",
       "      ...        CIS_51      CIS_52       CIS_521        CIS_60        CIS_62   \n",
       "4072  ... -1.129647e+10  44342055.0 -1.125213e+10  6.265842e+10  4.173949e+09  \\\n",
       "\n",
       "            CIS_61  CIS_70  CIS_71  YEAR  QUARTER  \n",
       "4072  5.848447e+10     0.0     0.0  2020        1  \n",
       "\n",
       "[1 rows x 28 columns]"
      ]
     },
     "execution_count": 5,
     "metadata": {},
     "output_type": "execute_result"
    }
   ],
   "source": [
    "df_algo.head(1)"
   ]
  },
  {
   "cell_type": "code",
   "execution_count": 6,
   "metadata": {},
   "outputs": [
    {
     "data": {
      "text/plain": [
       "Index(['SECURITY_CODE', 'CIS_1', 'CIS_2', 'CIS_10', 'CIS_11', 'CIS_20',\n",
       "       'CIS_21', 'CIS_22', 'CIS_23', 'CIS_24', 'CIS_25', 'CIS_26', 'CIS_30',\n",
       "       'CIS_31', 'CIS_32', 'CIS_40', 'CIS_241', 'CIS_50', 'CIS_51', 'CIS_52',\n",
       "       'CIS_521', 'CIS_60', 'CIS_62', 'CIS_61', 'CIS_70', 'CIS_71', 'YEAR',\n",
       "       'QUARTER'],\n",
       "      dtype='object')"
      ]
     },
     "execution_count": 6,
     "metadata": {},
     "output_type": "execute_result"
    }
   ],
   "source": [
    "df_algo.columns"
   ]
  },
  {
   "attachments": {},
   "cell_type": "markdown",
   "metadata": {},
   "source": [
    "Stockbiz Database"
   ]
  },
  {
   "cell_type": "code",
   "execution_count": 7,
   "metadata": {},
   "outputs": [
    {
     "name": "stdout",
     "output_type": "stream",
     "text": [
      "STOCKBIZ DATABASE COMPANY: There are: 13876 rows\n",
      "STOCKBIZ DATABASE COMPANY: There are: 29 columns\n"
     ]
    }
   ],
   "source": [
    "# Read data from sql database\n",
    "df_sql = pd.read_excel(sql_pathlink)\n",
    "df_sql.drop(['Unnamed: 0', 'ReportID', 'LastUpdated', 'ApprovedBy', 'Currency', 'CreatedBy', 'LastUpdatedBy',\n",
    "             'ReportStatus', 'AssignedTo', 'CreatedAt'], axis=1, inplace=True)\n",
    "df_sql = df_sql.loc[(df_sql['Quarter'] != 0) & (df_sql['Year'] > 2019)]\n",
    "df_sql.sort_values(by=['Year', 'Quarter'], ascending=[True, True], inplace=True)\n",
    "\n",
    "# Change the name of tickers\n",
    "df_sql['SymbolID'] = df_sql['SymbolID'].map(dict_sql_symbol)\n",
    "\n",
    "# Change the name of column SymbolID\n",
    "df_sql.rename(\n",
    "    columns={\"SymbolID\": \"SECURITY_CODE\",\n",
    "             \"Year\": \"YEAR\",\n",
    "             \"Quarter\": \"QUARTER\"},\n",
    "    inplace=True\n",
    ")\n",
    "\n",
    "# Print how many rows are used\n",
    "print(\"STOCKBIZ DATABASE COMPANY: There are: \" + str(len(df_sql)) + \" rows\")\n",
    "print(\"STOCKBIZ DATABASE COMPANY: There are: \" + str(len(df_sql.columns)) + \" columns\")"
   ]
  },
  {
   "cell_type": "code",
   "execution_count": 8,
   "metadata": {},
   "outputs": [
    {
     "data": {
      "text/html": [
       "<div>\n",
       "<style scoped>\n",
       "    .dataframe tbody tr th:only-of-type {\n",
       "        vertical-align: middle;\n",
       "    }\n",
       "\n",
       "    .dataframe tbody tr th {\n",
       "        vertical-align: top;\n",
       "    }\n",
       "\n",
       "    .dataframe thead th {\n",
       "        text-align: right;\n",
       "    }\n",
       "</style>\n",
       "<table border=\"1\" class=\"dataframe\">\n",
       "  <thead>\n",
       "    <tr style=\"text-align: right;\">\n",
       "      <th></th>\n",
       "      <th>SECURITY_CODE</th>\n",
       "      <th>QUARTER</th>\n",
       "      <th>YEAR</th>\n",
       "      <th>GrossSaleRevenues</th>\n",
       "      <th>DeductionRevenues</th>\n",
       "      <th>NetSales</th>\n",
       "      <th>CostOfGoodsSold</th>\n",
       "      <th>GrossProfit</th>\n",
       "      <th>FinancialActivitiesRevenues</th>\n",
       "      <th>FinancialExpenses</th>\n",
       "      <th>...</th>\n",
       "      <th>PresentCorporateIncomeTaxExpenses</th>\n",
       "      <th>DeferredIncomeTaxesExpenses</th>\n",
       "      <th>CorporateIncomeTaxExpenses</th>\n",
       "      <th>ProfitAfterIncomeTaxes</th>\n",
       "      <th>ProfitAttributableToMinorityInterestsAndFavourDevidends</th>\n",
       "      <th>ProfitAfterCorporateIncomeTaxes</th>\n",
       "      <th>Shares</th>\n",
       "      <th>EPS</th>\n",
       "      <th>DilutedEPS</th>\n",
       "      <th>Dividend</th>\n",
       "    </tr>\n",
       "  </thead>\n",
       "  <tbody>\n",
       "    <tr>\n",
       "      <th>3</th>\n",
       "      <td>AGF</td>\n",
       "      <td>1</td>\n",
       "      <td>2020</td>\n",
       "      <td>1.733421e+11</td>\n",
       "      <td>1.052826e+09</td>\n",
       "      <td>1.722893e+11</td>\n",
       "      <td>1.510313e+11</td>\n",
       "      <td>2.125797e+10</td>\n",
       "      <td>325020739.0</td>\n",
       "      <td>1.055632e+10</td>\n",
       "      <td>...</td>\n",
       "      <td>0.0</td>\n",
       "      <td>0.0</td>\n",
       "      <td>0.0</td>\n",
       "      <td>-2090244699</td>\n",
       "      <td>0.0</td>\n",
       "      <td>-2090244699</td>\n",
       "      <td>NaN</td>\n",
       "      <td>NaN</td>\n",
       "      <td>NaN</td>\n",
       "      <td>NaN</td>\n",
       "    </tr>\n",
       "  </tbody>\n",
       "</table>\n",
       "<p>1 rows × 29 columns</p>\n",
       "</div>"
      ],
      "text/plain": [
       "  SECURITY_CODE  QUARTER  YEAR  GrossSaleRevenues  DeductionRevenues   \n",
       "3           AGF        1  2020       1.733421e+11       1.052826e+09  \\\n",
       "\n",
       "       NetSales  CostOfGoodsSold   GrossProfit  FinancialActivitiesRevenues   \n",
       "3  1.722893e+11     1.510313e+11  2.125797e+10                  325020739.0  \\\n",
       "\n",
       "   FinancialExpenses  ...  PresentCorporateIncomeTaxExpenses   \n",
       "3       1.055632e+10  ...                                0.0  \\\n",
       "\n",
       "   DeferredIncomeTaxesExpenses  CorporateIncomeTaxExpenses   \n",
       "3                          0.0                         0.0  \\\n",
       "\n",
       "   ProfitAfterIncomeTaxes   \n",
       "3             -2090244699  \\\n",
       "\n",
       "   ProfitAttributableToMinorityInterestsAndFavourDevidends   \n",
       "3                                                0.0        \\\n",
       "\n",
       "   ProfitAfterCorporateIncomeTaxes  Shares  EPS  DilutedEPS  Dividend  \n",
       "3                      -2090244699     NaN  NaN         NaN       NaN  \n",
       "\n",
       "[1 rows x 29 columns]"
      ]
     },
     "execution_count": 8,
     "metadata": {},
     "output_type": "execute_result"
    }
   ],
   "source": [
    "df_sql.head(1)"
   ]
  },
  {
   "cell_type": "code",
   "execution_count": 9,
   "metadata": {},
   "outputs": [
    {
     "data": {
      "text/plain": [
       "Index(['SECURITY_CODE', 'QUARTER', 'YEAR', 'GrossSaleRevenues',\n",
       "       'DeductionRevenues', 'NetSales', 'CostOfGoodsSold', 'GrossProfit',\n",
       "       'FinancialActivitiesRevenues', 'FinancialExpenses',\n",
       "       'OfWhichInterestExpenses', 'SellingExpenses', 'ManagingExpenses',\n",
       "       'NetProfitFromOperatingActivities', 'OtherIncomes', 'OtherExpenses',\n",
       "       'OtherProfits', 'ProfitOrLossInAssociates', 'TotalProfitBeforeTaxes',\n",
       "       'PresentCorporateIncomeTaxExpenses', 'DeferredIncomeTaxesExpenses',\n",
       "       'CorporateIncomeTaxExpenses', 'ProfitAfterIncomeTaxes',\n",
       "       'ProfitAttributableToMinorityInterestsAndFavourDevidends',\n",
       "       'ProfitAfterCorporateIncomeTaxes', 'Shares', 'EPS', 'DilutedEPS',\n",
       "       'Dividend'],\n",
       "      dtype='object')"
      ]
     },
     "execution_count": 9,
     "metadata": {},
     "output_type": "execute_result"
    }
   ],
   "source": [
    "df_sql.columns"
   ]
  },
  {
   "cell_type": "code",
   "execution_count": 10,
   "metadata": {},
   "outputs": [
    {
     "name": "stdout",
     "output_type": "stream",
     "text": [
      "There are: 1168 stocks\n"
     ]
    }
   ],
   "source": [
    "# Get Symbol in banking sectors\n",
    "general_symbol = df_sql['SECURITY_CODE'].unique()\n",
    "\n",
    "print(\"There are: \"+ str(len(general_symbol)) + \" stocks\")"
   ]
  },
  {
   "attachments": {},
   "cell_type": "markdown",
   "metadata": {},
   "source": [
    "Process 2 tables"
   ]
  },
  {
   "cell_type": "code",
   "execution_count": 11,
   "metadata": {},
   "outputs": [],
   "source": [
    "# Change the name of columns\n",
    "same_column_name = pd.read_excel(same_field_data)\n",
    "same_column_name.dropna(axis=0, inplace=True)\n",
    "\n",
    "# Create a dict with key from bbs_sql and value from bbs_algo\n",
    "dict_column_name = dict(zip(same_column_name['cis_sql'], same_column_name['cis_algo']))"
   ]
  },
  {
   "cell_type": "code",
   "execution_count": 12,
   "metadata": {},
   "outputs": [
    {
     "data": {
      "text/html": [
       "<div>\n",
       "<style scoped>\n",
       "    .dataframe tbody tr th:only-of-type {\n",
       "        vertical-align: middle;\n",
       "    }\n",
       "\n",
       "    .dataframe tbody tr th {\n",
       "        vertical-align: top;\n",
       "    }\n",
       "\n",
       "    .dataframe thead th {\n",
       "        text-align: right;\n",
       "    }\n",
       "</style>\n",
       "<table border=\"1\" class=\"dataframe\">\n",
       "  <thead>\n",
       "    <tr style=\"text-align: right;\">\n",
       "      <th></th>\n",
       "      <th>cis_algo</th>\n",
       "      <th>cis_sql</th>\n",
       "    </tr>\n",
       "  </thead>\n",
       "  <tbody>\n",
       "    <tr>\n",
       "      <th>0</th>\n",
       "      <td>CIS_1</td>\n",
       "      <td>GrossSaleRevenues</td>\n",
       "    </tr>\n",
       "  </tbody>\n",
       "</table>\n",
       "</div>"
      ],
      "text/plain": [
       "  cis_algo            cis_sql\n",
       "0    CIS_1  GrossSaleRevenues"
      ]
     },
     "execution_count": 12,
     "metadata": {},
     "output_type": "execute_result"
    }
   ],
   "source": [
    "same_column_name.head(1)"
   ]
  },
  {
   "cell_type": "code",
   "execution_count": 13,
   "metadata": {},
   "outputs": [],
   "source": [
    "# Change the name of df_sql based on name of the similar data field in df_algo\n",
    "df_sql.rename(\n",
    "    columns=dict_column_name,\n",
    "    inplace=True\n",
    ")"
   ]
  },
  {
   "cell_type": "code",
   "execution_count": 14,
   "metadata": {},
   "outputs": [
    {
     "data": {
      "text/plain": [
       "Index(['SECURITY_CODE', 'QUARTER', 'YEAR', 'CIS_1', 'CIS_2', 'CIS_10',\n",
       "       'CIS_11', 'CIS_20', 'CIS_21', 'CIS_22', 'CIS_23', 'CIS_25', 'CIS_26',\n",
       "       'CIS_30', 'CIS_31', 'CIS_32', 'CIS_40', 'CIS_24', 'CIS_50', 'CIS_51',\n",
       "       'CIS_52', 'CIS_521', 'CIS_61', 'CIS_62', 'CIS_60', 'Shares', 'CIS_70',\n",
       "       'CIS_71', 'Dividend'],\n",
       "      dtype='object')"
      ]
     },
     "execution_count": 14,
     "metadata": {},
     "output_type": "execute_result"
    }
   ],
   "source": [
    "df_sql.columns"
   ]
  },
  {
   "cell_type": "code",
   "execution_count": 15,
   "metadata": {},
   "outputs": [],
   "source": [
    "# Fill NA values in df_sql\n",
    "df_sql = df_sql.fillna(0)\n",
    "\n",
    "# Change the type of data which is same between two tables\n",
    "df_sql[same_column_name['cis_algo']] = df_sql[same_column_name['cis_algo']].astype('Int64')"
   ]
  },
  {
   "cell_type": "code",
   "execution_count": 16,
   "metadata": {},
   "outputs": [
    {
     "data": {
      "text/plain": [
       "SECURITY_CODE     object\n",
       "CIS_1            float64\n",
       "CIS_2            float64\n",
       "CIS_10           float64\n",
       "CIS_11           float64\n",
       "CIS_20           float64\n",
       "CIS_21           float64\n",
       "CIS_22           float64\n",
       "CIS_23           float64\n",
       "CIS_24           float64\n",
       "CIS_25           float64\n",
       "CIS_26           float64\n",
       "CIS_30           float64\n",
       "CIS_31           float64\n",
       "CIS_32           float64\n",
       "CIS_40           float64\n",
       "CIS_241            int64\n",
       "CIS_50           float64\n",
       "CIS_51           float64\n",
       "CIS_52           float64\n",
       "CIS_521          float64\n",
       "CIS_60           float64\n",
       "CIS_62           float64\n",
       "CIS_61           float64\n",
       "CIS_70           float64\n",
       "CIS_71           float64\n",
       "YEAR               int32\n",
       "QUARTER            int32\n",
       "dtype: object"
      ]
     },
     "execution_count": 16,
     "metadata": {},
     "output_type": "execute_result"
    }
   ],
   "source": [
    "df_algo.dtypes"
   ]
  },
  {
   "cell_type": "code",
   "execution_count": 17,
   "metadata": {},
   "outputs": [],
   "source": [
    "for i in df_algo.columns:\n",
    "    if df_algo[i].dtypes == \"float64\":\n",
    "        df_algo[i] = np.floor(pd.to_numeric(df_algo[i], errors='coerce')).astype('Int64')\n",
    "    else:\n",
    "        pass"
   ]
  },
  {
   "cell_type": "code",
   "execution_count": 18,
   "metadata": {},
   "outputs": [
    {
     "data": {
      "text/plain": [
       "SECURITY_CODE    object\n",
       "CIS_1             Int64\n",
       "CIS_2             Int64\n",
       "CIS_10            Int64\n",
       "CIS_11            Int64\n",
       "CIS_20            Int64\n",
       "CIS_21            Int64\n",
       "CIS_22            Int64\n",
       "CIS_23            Int64\n",
       "CIS_24            Int64\n",
       "CIS_25            Int64\n",
       "CIS_26            Int64\n",
       "CIS_30            Int64\n",
       "CIS_31            Int64\n",
       "CIS_32            Int64\n",
       "CIS_40            Int64\n",
       "CIS_241           int64\n",
       "CIS_50            Int64\n",
       "CIS_51            Int64\n",
       "CIS_52            Int64\n",
       "CIS_521           Int64\n",
       "CIS_60            Int64\n",
       "CIS_62            Int64\n",
       "CIS_61            Int64\n",
       "CIS_70            Int64\n",
       "CIS_71            Int64\n",
       "YEAR              int32\n",
       "QUARTER           int32\n",
       "dtype: object"
      ]
     },
     "execution_count": 18,
     "metadata": {},
     "output_type": "execute_result"
    }
   ],
   "source": [
    "df_algo.dtypes"
   ]
  },
  {
   "cell_type": "code",
   "execution_count": 19,
   "metadata": {},
   "outputs": [],
   "source": [
    "# Change the type of data in df_algo\n",
    "# Just get the same data between two tables\n",
    "# df_algo[same_column_name['cis_algo']] = df_algo[same_column_name['cis_algo']].apply(pd.to_numeric, errors='coerce').astype('Int64')\n",
    "\n",
    "# Change the type of YEAR and QUARTER\n",
    "df_algo =  df_algo.astype(\n",
    "    {\"YEAR\": \"Int64\",\n",
    "     \"QUARTER\": \"Int64\"},\n",
    ")\n",
    "\n",
    "# Get the data with same value in banking sector\n",
    "df_algo = df_algo.loc[df_algo['SECURITY_CODE'].isin(general_symbol)]"
   ]
  },
  {
   "cell_type": "code",
   "execution_count": 20,
   "metadata": {},
   "outputs": [
    {
     "data": {
      "text/html": [
       "<div>\n",
       "<style scoped>\n",
       "    .dataframe tbody tr th:only-of-type {\n",
       "        vertical-align: middle;\n",
       "    }\n",
       "\n",
       "    .dataframe tbody tr th {\n",
       "        vertical-align: top;\n",
       "    }\n",
       "\n",
       "    .dataframe thead th {\n",
       "        text-align: right;\n",
       "    }\n",
       "</style>\n",
       "<table border=\"1\" class=\"dataframe\">\n",
       "  <thead>\n",
       "    <tr style=\"text-align: right;\">\n",
       "      <th></th>\n",
       "      <th>SECURITY_CODE</th>\n",
       "      <th>CIS_1</th>\n",
       "      <th>CIS_2</th>\n",
       "      <th>CIS_10</th>\n",
       "      <th>CIS_11</th>\n",
       "      <th>CIS_20</th>\n",
       "      <th>CIS_21</th>\n",
       "      <th>CIS_22</th>\n",
       "      <th>CIS_23</th>\n",
       "      <th>CIS_24</th>\n",
       "      <th>...</th>\n",
       "      <th>CIS_51</th>\n",
       "      <th>CIS_52</th>\n",
       "      <th>CIS_521</th>\n",
       "      <th>CIS_60</th>\n",
       "      <th>CIS_62</th>\n",
       "      <th>CIS_61</th>\n",
       "      <th>CIS_70</th>\n",
       "      <th>CIS_71</th>\n",
       "      <th>YEAR</th>\n",
       "      <th>QUARTER</th>\n",
       "    </tr>\n",
       "  </thead>\n",
       "  <tbody>\n",
       "    <tr>\n",
       "      <th>4072</th>\n",
       "      <td>AAA</td>\n",
       "      <td>1573567523917</td>\n",
       "      <td>-1220192091</td>\n",
       "      <td>1572347331826</td>\n",
       "      <td>-1393581779831</td>\n",
       "      <td>178765551995</td>\n",
       "      <td>36043002254</td>\n",
       "      <td>-56993723826</td>\n",
       "      <td>-50524146818</td>\n",
       "      <td>191019839</td>\n",
       "      <td>...</td>\n",
       "      <td>-11296469822</td>\n",
       "      <td>44342055</td>\n",
       "      <td>-11252127767</td>\n",
       "      <td>62658415975</td>\n",
       "      <td>4173949172</td>\n",
       "      <td>58484466803</td>\n",
       "      <td>0</td>\n",
       "      <td>0</td>\n",
       "      <td>2020</td>\n",
       "      <td>1</td>\n",
       "    </tr>\n",
       "    <tr>\n",
       "      <th>1881</th>\n",
       "      <td>AAM</td>\n",
       "      <td>41176954729</td>\n",
       "      <td>0</td>\n",
       "      <td>41176954729</td>\n",
       "      <td>-36136952828</td>\n",
       "      <td>5040001901</td>\n",
       "      <td>647222306</td>\n",
       "      <td>-9706573</td>\n",
       "      <td>-8899244</td>\n",
       "      <td>0</td>\n",
       "      <td>...</td>\n",
       "      <td>-89671229</td>\n",
       "      <td>0</td>\n",
       "      <td>-89671229</td>\n",
       "      <td>665805415</td>\n",
       "      <td>0</td>\n",
       "      <td>665805415</td>\n",
       "      <td>53</td>\n",
       "      <td>53</td>\n",
       "      <td>2020</td>\n",
       "      <td>1</td>\n",
       "    </tr>\n",
       "    <tr>\n",
       "      <th>7147</th>\n",
       "      <td>AAT</td>\n",
       "      <td>45982506053</td>\n",
       "      <td>0</td>\n",
       "      <td>45982506053</td>\n",
       "      <td>-38706873531</td>\n",
       "      <td>7275632522</td>\n",
       "      <td>34281976</td>\n",
       "      <td>-3036461139</td>\n",
       "      <td>-3013551586</td>\n",
       "      <td>0</td>\n",
       "      <td>...</td>\n",
       "      <td>-2053040107</td>\n",
       "      <td>0</td>\n",
       "      <td>-2053040107</td>\n",
       "      <td>8195431429</td>\n",
       "      <td>0</td>\n",
       "      <td>8195431429</td>\n",
       "      <td>236</td>\n",
       "      <td>236</td>\n",
       "      <td>2020</td>\n",
       "      <td>1</td>\n",
       "    </tr>\n",
       "    <tr>\n",
       "      <th>3941</th>\n",
       "      <td>AAV</td>\n",
       "      <td>91801696821</td>\n",
       "      <td>0</td>\n",
       "      <td>91801696821</td>\n",
       "      <td>-81492687679</td>\n",
       "      <td>10309009142</td>\n",
       "      <td>564761076</td>\n",
       "      <td>-1186605924</td>\n",
       "      <td>-1174714924</td>\n",
       "      <td>0</td>\n",
       "      <td>...</td>\n",
       "      <td>-1429428326</td>\n",
       "      <td>0</td>\n",
       "      <td>-1429428326</td>\n",
       "      <td>4366043385</td>\n",
       "      <td>585431998</td>\n",
       "      <td>3780611387</td>\n",
       "      <td>0</td>\n",
       "      <td>0</td>\n",
       "      <td>2020</td>\n",
       "      <td>1</td>\n",
       "    </tr>\n",
       "    <tr>\n",
       "      <th>1923</th>\n",
       "      <td>ABC</td>\n",
       "      <td>1032526888153</td>\n",
       "      <td>-642778419</td>\n",
       "      <td>1031884109734</td>\n",
       "      <td>-1007096427677</td>\n",
       "      <td>24787682057</td>\n",
       "      <td>5052100033</td>\n",
       "      <td>-893583481</td>\n",
       "      <td>-893583481</td>\n",
       "      <td>68502776</td>\n",
       "      <td>...</td>\n",
       "      <td>-2882482476</td>\n",
       "      <td>0</td>\n",
       "      <td>-2882482476</td>\n",
       "      <td>11136755943</td>\n",
       "      <td>2652758083</td>\n",
       "      <td>8483997860</td>\n",
       "      <td>416</td>\n",
       "      <td>0</td>\n",
       "      <td>2020</td>\n",
       "      <td>1</td>\n",
       "    </tr>\n",
       "    <tr>\n",
       "      <th>...</th>\n",
       "      <td>...</td>\n",
       "      <td>...</td>\n",
       "      <td>...</td>\n",
       "      <td>...</td>\n",
       "      <td>...</td>\n",
       "      <td>...</td>\n",
       "      <td>...</td>\n",
       "      <td>...</td>\n",
       "      <td>...</td>\n",
       "      <td>...</td>\n",
       "      <td>...</td>\n",
       "      <td>...</td>\n",
       "      <td>...</td>\n",
       "      <td>...</td>\n",
       "      <td>...</td>\n",
       "      <td>...</td>\n",
       "      <td>...</td>\n",
       "      <td>...</td>\n",
       "      <td>...</td>\n",
       "      <td>...</td>\n",
       "      <td>...</td>\n",
       "    </tr>\n",
       "    <tr>\n",
       "      <th>18053</th>\n",
       "      <td>XHC</td>\n",
       "      <td>139148487679</td>\n",
       "      <td>-2347488000</td>\n",
       "      <td>136800999679</td>\n",
       "      <td>-118615493905</td>\n",
       "      <td>18185505774</td>\n",
       "      <td>3023812</td>\n",
       "      <td>-4480574619</td>\n",
       "      <td>-4373577001</td>\n",
       "      <td>0</td>\n",
       "      <td>...</td>\n",
       "      <td>-60037256</td>\n",
       "      <td>0</td>\n",
       "      <td>-60037256</td>\n",
       "      <td>240013035</td>\n",
       "      <td>0</td>\n",
       "      <td>240013035</td>\n",
       "      <td>11</td>\n",
       "      <td>0</td>\n",
       "      <td>2023</td>\n",
       "      <td>1</td>\n",
       "    </tr>\n",
       "    <tr>\n",
       "      <th>13765</th>\n",
       "      <td>XMC</td>\n",
       "      <td>235020883034</td>\n",
       "      <td>-555907450</td>\n",
       "      <td>234464975584</td>\n",
       "      <td>-224724955544</td>\n",
       "      <td>9740020040</td>\n",
       "      <td>44068547850</td>\n",
       "      <td>-31977934921</td>\n",
       "      <td>-31965284921</td>\n",
       "      <td>0</td>\n",
       "      <td>...</td>\n",
       "      <td>-3673564558</td>\n",
       "      <td>0</td>\n",
       "      <td>-3673564558</td>\n",
       "      <td>-7823074046</td>\n",
       "      <td>-258158359</td>\n",
       "      <td>-7564915687</td>\n",
       "      <td>0</td>\n",
       "      <td>0</td>\n",
       "      <td>2023</td>\n",
       "      <td>1</td>\n",
       "    </tr>\n",
       "    <tr>\n",
       "      <th>17270</th>\n",
       "      <td>XMP</td>\n",
       "      <td>20266073240</td>\n",
       "      <td>0</td>\n",
       "      <td>20266073240</td>\n",
       "      <td>-7761028732</td>\n",
       "      <td>12505044508</td>\n",
       "      <td>2026089</td>\n",
       "      <td>-7054367263</td>\n",
       "      <td>-7054367263</td>\n",
       "      <td>0</td>\n",
       "      <td>...</td>\n",
       "      <td>0</td>\n",
       "      <td>0</td>\n",
       "      <td>0</td>\n",
       "      <td>4194400441</td>\n",
       "      <td>0</td>\n",
       "      <td>4194400441</td>\n",
       "      <td>0</td>\n",
       "      <td>0</td>\n",
       "      <td>2023</td>\n",
       "      <td>1</td>\n",
       "    </tr>\n",
       "    <tr>\n",
       "      <th>16087</th>\n",
       "      <td>XPH</td>\n",
       "      <td>8314766783</td>\n",
       "      <td>-568874378</td>\n",
       "      <td>7745892405</td>\n",
       "      <td>-5863686021</td>\n",
       "      <td>1882206384</td>\n",
       "      <td>266942623</td>\n",
       "      <td>0</td>\n",
       "      <td>0</td>\n",
       "      <td>0</td>\n",
       "      <td>...</td>\n",
       "      <td>0</td>\n",
       "      <td>0</td>\n",
       "      <td>0</td>\n",
       "      <td>-2282129853</td>\n",
       "      <td>0</td>\n",
       "      <td>-2282129853</td>\n",
       "      <td>0</td>\n",
       "      <td>0</td>\n",
       "      <td>2023</td>\n",
       "      <td>1</td>\n",
       "    </tr>\n",
       "    <tr>\n",
       "      <th>13654</th>\n",
       "      <td>YEG</td>\n",
       "      <td>61774689781</td>\n",
       "      <td>-1145993085</td>\n",
       "      <td>60628696696</td>\n",
       "      <td>-32503742032</td>\n",
       "      <td>28124954664</td>\n",
       "      <td>5697821375</td>\n",
       "      <td>-3903071132</td>\n",
       "      <td>-3903071132</td>\n",
       "      <td>1255948725</td>\n",
       "      <td>...</td>\n",
       "      <td>0</td>\n",
       "      <td>0</td>\n",
       "      <td>0</td>\n",
       "      <td>4009017312</td>\n",
       "      <td>-126814687</td>\n",
       "      <td>4135831999</td>\n",
       "      <td>132</td>\n",
       "      <td>132</td>\n",
       "      <td>2023</td>\n",
       "      <td>1</td>\n",
       "    </tr>\n",
       "  </tbody>\n",
       "</table>\n",
       "<p>13824 rows × 28 columns</p>\n",
       "</div>"
      ],
      "text/plain": [
       "      SECURITY_CODE          CIS_1        CIS_2         CIS_10   \n",
       "4072            AAA  1573567523917  -1220192091  1572347331826  \\\n",
       "1881            AAM    41176954729            0    41176954729   \n",
       "7147            AAT    45982506053            0    45982506053   \n",
       "3941            AAV    91801696821            0    91801696821   \n",
       "1923            ABC  1032526888153   -642778419  1031884109734   \n",
       "...             ...            ...          ...            ...   \n",
       "18053           XHC   139148487679  -2347488000   136800999679   \n",
       "13765           XMC   235020883034   -555907450   234464975584   \n",
       "17270           XMP    20266073240            0    20266073240   \n",
       "16087           XPH     8314766783   -568874378     7745892405   \n",
       "13654           YEG    61774689781  -1145993085    60628696696   \n",
       "\n",
       "               CIS_11        CIS_20       CIS_21        CIS_22        CIS_23   \n",
       "4072   -1393581779831  178765551995  36043002254  -56993723826  -50524146818  \\\n",
       "1881     -36136952828    5040001901    647222306      -9706573      -8899244   \n",
       "7147     -38706873531    7275632522     34281976   -3036461139   -3013551586   \n",
       "3941     -81492687679   10309009142    564761076   -1186605924   -1174714924   \n",
       "1923   -1007096427677   24787682057   5052100033    -893583481    -893583481   \n",
       "...               ...           ...          ...           ...           ...   \n",
       "18053   -118615493905   18185505774      3023812   -4480574619   -4373577001   \n",
       "13765   -224724955544    9740020040  44068547850  -31977934921  -31965284921   \n",
       "17270     -7761028732   12505044508      2026089   -7054367263   -7054367263   \n",
       "16087     -5863686021    1882206384    266942623             0             0   \n",
       "13654    -32503742032   28124954664   5697821375   -3903071132   -3903071132   \n",
       "\n",
       "           CIS_24  ...        CIS_51    CIS_52       CIS_521       CIS_60   \n",
       "4072    191019839  ...  -11296469822  44342055  -11252127767  62658415975  \\\n",
       "1881            0  ...     -89671229         0     -89671229    665805415   \n",
       "7147            0  ...   -2053040107         0   -2053040107   8195431429   \n",
       "3941            0  ...   -1429428326         0   -1429428326   4366043385   \n",
       "1923     68502776  ...   -2882482476         0   -2882482476  11136755943   \n",
       "...           ...  ...           ...       ...           ...          ...   \n",
       "18053           0  ...     -60037256         0     -60037256    240013035   \n",
       "13765           0  ...   -3673564558         0   -3673564558  -7823074046   \n",
       "17270           0  ...             0         0             0   4194400441   \n",
       "16087           0  ...             0         0             0  -2282129853   \n",
       "13654  1255948725  ...             0         0             0   4009017312   \n",
       "\n",
       "           CIS_62       CIS_61  CIS_70  CIS_71  YEAR  QUARTER  \n",
       "4072   4173949172  58484466803       0       0  2020        1  \n",
       "1881            0    665805415      53      53  2020        1  \n",
       "7147            0   8195431429     236     236  2020        1  \n",
       "3941    585431998   3780611387       0       0  2020        1  \n",
       "1923   2652758083   8483997860     416       0  2020        1  \n",
       "...           ...          ...     ...     ...   ...      ...  \n",
       "18053           0    240013035      11       0  2023        1  \n",
       "13765  -258158359  -7564915687       0       0  2023        1  \n",
       "17270           0   4194400441       0       0  2023        1  \n",
       "16087           0  -2282129853       0       0  2023        1  \n",
       "13654  -126814687   4135831999     132     132  2023        1  \n",
       "\n",
       "[13824 rows x 28 columns]"
      ]
     },
     "execution_count": 20,
     "metadata": {},
     "output_type": "execute_result"
    }
   ],
   "source": [
    "df_algo"
   ]
  },
  {
   "cell_type": "code",
   "execution_count": 21,
   "metadata": {},
   "outputs": [],
   "source": [
    "# Get the final same columns\n",
    "final_column = [\"SECURITY_CODE\", \"YEAR\", \"QUARTER\"]\n",
    "\n",
    "for i in same_column_name['cis_algo']:\n",
    "    final_column.append(i)"
   ]
  },
  {
   "cell_type": "code",
   "execution_count": 22,
   "metadata": {},
   "outputs": [],
   "source": [
    "df_sql = df_sql[final_column]\n",
    "df_algo = df_algo[final_column]"
   ]
  },
  {
   "cell_type": "code",
   "execution_count": 23,
   "metadata": {},
   "outputs": [],
   "source": [
    "def compare_table(df1, df2, columns) -> pd.DataFrame():\n",
    "    \n",
    "    return pd.merge(df1, df2, on=columns, how='outer', indicator=True).query(\"_merge != 'both'\")"
   ]
  },
  {
   "cell_type": "code",
   "execution_count": 24,
   "metadata": {},
   "outputs": [],
   "source": [
    "final_result = {\"field\": [], \"value_not_same\": []}\n",
    "for i in range(3, len(final_column)):\n",
    "    check_columns = [\"SECURITY_CODE\", 'YEAR', 'QUARTER', final_column[i]]\n",
    "    result = compare_table(\n",
    "        df1=df_sql[check_columns], \n",
    "        df2=df_algo[check_columns], \n",
    "        columns=check_columns)\n",
    "    \n",
    "    value_not_same = len(result)/(len(df_algo) + len(df_sql))*100\n",
    "    \n",
    "    final_result[\"field\"].append(final_column[i])\n",
    "    final_result[\"value_not_same\"].append(value_not_same)"
   ]
  },
  {
   "cell_type": "code",
   "execution_count": 25,
   "metadata": {},
   "outputs": [],
   "source": [
    "df = pd.DataFrame(final_result)"
   ]
  },
  {
   "cell_type": "code",
   "execution_count": 26,
   "metadata": {},
   "outputs": [],
   "source": [
    "df.to_excel(result_pathlink+\"/check_cis.xlsx\")"
   ]
  }
 ],
 "metadata": {
  "kernelspec": {
   "display_name": "quant_p",
   "language": "python",
   "name": "python3"
  },
  "language_info": {
   "codemirror_mode": {
    "name": "ipython",
    "version": 3
   },
   "file_extension": ".py",
   "mimetype": "text/x-python",
   "name": "python",
   "nbconvert_exporter": "python",
   "pygments_lexer": "ipython3",
   "version": "3.11.2"
  },
  "orig_nbformat": 4
 },
 "nbformat": 4,
 "nbformat_minor": 2
}
