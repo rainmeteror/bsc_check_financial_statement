{
 "cells": [
  {
   "attachments": {},
   "cell_type": "markdown",
   "metadata": {},
   "source": [
    "# SECURITIES BALANCE SHEET"
   ]
  },
  {
   "attachments": {},
   "cell_type": "markdown",
   "metadata": {},
   "source": [
    "Library"
   ]
  },
  {
   "cell_type": "code",
   "execution_count": 1,
   "metadata": {},
   "outputs": [],
   "source": [
    "# Import libraries\n",
    "import pandas as pd\n",
    "import numpy as np\n",
    "import datetime as dt"
   ]
  },
  {
   "attachments": {},
   "cell_type": "markdown",
   "metadata": {},
   "source": [
    "Symbol"
   ]
  },
  {
   "cell_type": "code",
   "execution_count": 2,
   "metadata": {},
   "outputs": [],
   "source": [
    "# Save as a table\n",
    "sql_symbol = pd.read_csv(\"symbol_id.csv\")\n",
    "sql_symbol.drop(['Unnamed: 0'], axis=1, inplace=True)\n",
    "\n",
    "# Save as a dict\n",
    "dict_sql_symbol = dict(zip(sql_symbol['SymbolID'], sql_symbol['Symbol']))"
   ]
  },
  {
   "attachments": {},
   "cell_type": "markdown",
   "metadata": {},
   "source": [
    "Pathlink"
   ]
  },
  {
   "cell_type": "code",
   "execution_count": 3,
   "metadata": {},
   "outputs": [],
   "source": [
    "# Assign pathlink\n",
    "algo_pathlink = r\"/Users/rainmeteror/Desktop/BSC_Algo_Database_UAT/OneDrive_1_5-29-2023/securities/algo_sbs.xlsx\"\n",
    "sql_pathlink = r\"/Users/rainmeteror/Desktop/BSC_Algo_Database_UAT/OneDrive_1_5-29-2023/securities/sql_sbs.xlsx\"\n",
    "same_field_data = r\"/Users/rainmeteror/Desktop/BSC_Algo_Database_UAT/OneDrive_1_5-29-2023/securities/sbs_datafield.xlsx\""
   ]
  },
  {
   "attachments": {},
   "cell_type": "markdown",
   "metadata": {},
   "source": [
    "Algo Database"
   ]
  },
  {
   "cell_type": "code",
   "execution_count": 4,
   "metadata": {},
   "outputs": [
    {
     "name": "stdout",
     "output_type": "stream",
     "text": [
      "ALGO DATABASE SECURITIES: There are: 1017 rows\n",
      "ALGO DATABASE SECURITIES: There are: 177 columns\n"
     ]
    }
   ],
   "source": [
    "# Read data from algo database\n",
    "df_algo = pd.read_excel(algo_pathlink)\n",
    "df_algo.drop(['Unnamed: 0', 'SCN', 'REPORTED_DATE', 'AUDITED', 'MONTH_IN_PERIOD', 'CREATED_DATE', 'UPDATED_DATE'], axis=1, inplace=True)\n",
    "df_algo = df_algo.loc[df_algo['FREQ_CODE'] != 'Y']\n",
    "df_algo['YEAR'] = df_algo['REPORT_DATE'].dt.year\n",
    "df_algo['QUARTER'] = df_algo['REPORT_DATE'].dt.quarter\n",
    "df_algo.drop(['REPORT_DATE', 'FREQ_CODE'], axis=1, inplace=True)\n",
    "\n",
    "# Sort Values\n",
    "df_algo.sort_values(by=['YEAR', 'QUARTER', 'SECURITY_CODE'], ascending=[True, True, True], inplace=True)\n",
    "\n",
    "# Print how many rows are used\n",
    "print(\"ALGO DATABASE SECURITIES: There are: \" + str(len(df_algo)) + \" rows\")\n",
    "print(\"ALGO DATABASE SECURITIES: There are: \" + str(len(df_algo.columns)) + \" columns\")"
   ]
  },
  {
   "cell_type": "code",
   "execution_count": 5,
   "metadata": {},
   "outputs": [
    {
     "data": {
      "text/html": [
       "<div>\n",
       "<style scoped>\n",
       "    .dataframe tbody tr th:only-of-type {\n",
       "        vertical-align: middle;\n",
       "    }\n",
       "\n",
       "    .dataframe tbody tr th {\n",
       "        vertical-align: top;\n",
       "    }\n",
       "\n",
       "    .dataframe thead th {\n",
       "        text-align: right;\n",
       "    }\n",
       "</style>\n",
       "<table border=\"1\" class=\"dataframe\">\n",
       "  <thead>\n",
       "    <tr style=\"text-align: right;\">\n",
       "      <th></th>\n",
       "      <th>SECURITY_CODE</th>\n",
       "      <th>SBS_100</th>\n",
       "      <th>SBS_110</th>\n",
       "      <th>SBS_111</th>\n",
       "      <th>SBS_111_1</th>\n",
       "      <th>SBS_111_3</th>\n",
       "      <th>SBS_111_2</th>\n",
       "      <th>SBS_111_4</th>\n",
       "      <th>SBS_112</th>\n",
       "      <th>SBS_113</th>\n",
       "      <th>...</th>\n",
       "      <th>SBS_420_1</th>\n",
       "      <th>SBS_420_2</th>\n",
       "      <th>SBS_420_3</th>\n",
       "      <th>SBS_418_1</th>\n",
       "      <th>SBS_440</th>\n",
       "      <th>SBS_440_1</th>\n",
       "      <th>SBS_440_2</th>\n",
       "      <th>SBS_119</th>\n",
       "      <th>YEAR</th>\n",
       "      <th>QUARTER</th>\n",
       "    </tr>\n",
       "  </thead>\n",
       "  <tbody>\n",
       "    <tr>\n",
       "      <th>0</th>\n",
       "      <td>AAS</td>\n",
       "      <td>366356284852</td>\n",
       "      <td>365863712642</td>\n",
       "      <td>31333663618</td>\n",
       "      <td>31333663618</td>\n",
       "      <td>0.0</td>\n",
       "      <td>0</td>\n",
       "      <td>299558574910</td>\n",
       "      <td>74935886154</td>\n",
       "      <td>198052054800</td>\n",
       "      <td>...</td>\n",
       "      <td>0</td>\n",
       "      <td>0.0</td>\n",
       "      <td>0.0</td>\n",
       "      <td>0</td>\n",
       "      <td>410272838374</td>\n",
       "      <td>0.0</td>\n",
       "      <td>NaN</td>\n",
       "      <td>NaN</td>\n",
       "      <td>2020</td>\n",
       "      <td>1</td>\n",
       "    </tr>\n",
       "  </tbody>\n",
       "</table>\n",
       "<p>1 rows × 177 columns</p>\n",
       "</div>"
      ],
      "text/plain": [
       "  SECURITY_CODE       SBS_100       SBS_110      SBS_111    SBS_111_1   \n",
       "0           AAS  366356284852  365863712642  31333663618  31333663618  \\\n",
       "\n",
       "   SBS_111_3  SBS_111_2     SBS_111_4      SBS_112       SBS_113  ...   \n",
       "0        0.0          0  299558574910  74935886154  198052054800  ...  \\\n",
       "\n",
       "   SBS_420_1  SBS_420_2  SBS_420_3  SBS_418_1       SBS_440  SBS_440_1   \n",
       "0          0        0.0        0.0          0  410272838374        0.0  \\\n",
       "\n",
       "   SBS_440_2  SBS_119  YEAR  QUARTER  \n",
       "0        NaN      NaN  2020        1  \n",
       "\n",
       "[1 rows x 177 columns]"
      ]
     },
     "execution_count": 5,
     "metadata": {},
     "output_type": "execute_result"
    }
   ],
   "source": [
    "df_algo.head(1)"
   ]
  },
  {
   "attachments": {},
   "cell_type": "markdown",
   "metadata": {},
   "source": [
    "Stockbiz Database"
   ]
  },
  {
   "cell_type": "code",
   "execution_count": 6,
   "metadata": {},
   "outputs": [
    {
     "name": "stdout",
     "output_type": "stream",
     "text": [
      "STOCKBIZ DATABASE SECURITIES: There are: 450 rows\n",
      "STOCKBIZ DATABASE SECURITIES: There are: 129 rows\n"
     ]
    }
   ],
   "source": [
    "# Read data from sql database\n",
    "df_sql = pd.read_excel(sql_pathlink)\n",
    "df_sql.drop(['Unnamed: 0', 'ReportID', 'LastUpdated', 'ApprovedBy', 'CreatedBy', 'LastUpdatedBy',\n",
    "             'ReportStatus', 'AssignedTo', 'CreatedAt'], axis=1, inplace=True)\n",
    "df_sql = df_sql.loc[(df_sql['Quarter'] != 0) & (df_sql['Year'] > 2019)]\n",
    "df_sql.sort_values(by=['Year', 'Quarter'], ascending=[True, True], inplace=True)\n",
    "\n",
    "# Change the name of tickers\n",
    "df_sql['SymbolID'] = df_sql['SymbolID'].map(dict_sql_symbol)\n",
    "\n",
    "# Change the name of column SymbolID\n",
    "df_sql.rename(\n",
    "    columns={\"SymbolID\": \"SECURITY_CODE\",\n",
    "             \"Year\": \"YEAR\",\n",
    "             \"Quarter\": \"QUARTER\"},\n",
    "    inplace=True\n",
    ")\n",
    "\n",
    "# Print how many rows are used\n",
    "print(\"STOCKBIZ DATABASE SECURITIES: There are: \" + str(len(df_sql)) + \" rows\")\n",
    "print(\"STOCKBIZ DATABASE SECURITIES: There are: \" + str(len(df_sql.columns)) + \" rows\")"
   ]
  },
  {
   "cell_type": "code",
   "execution_count": 7,
   "metadata": {},
   "outputs": [
    {
     "data": {
      "text/html": [
       "<div>\n",
       "<style scoped>\n",
       "    .dataframe tbody tr th:only-of-type {\n",
       "        vertical-align: middle;\n",
       "    }\n",
       "\n",
       "    .dataframe tbody tr th {\n",
       "        vertical-align: top;\n",
       "    }\n",
       "\n",
       "    .dataframe thead th {\n",
       "        text-align: right;\n",
       "    }\n",
       "</style>\n",
       "<table border=\"1\" class=\"dataframe\">\n",
       "  <thead>\n",
       "    <tr style=\"text-align: right;\">\n",
       "      <th></th>\n",
       "      <th>SECURITY_CODE</th>\n",
       "      <th>QUARTER</th>\n",
       "      <th>YEAR</th>\n",
       "      <th>F1</th>\n",
       "      <th>F2</th>\n",
       "      <th>F3</th>\n",
       "      <th>F4</th>\n",
       "      <th>F5</th>\n",
       "      <th>F6</th>\n",
       "      <th>F7</th>\n",
       "      <th>...</th>\n",
       "      <th>F120</th>\n",
       "      <th>F121</th>\n",
       "      <th>F122</th>\n",
       "      <th>F123</th>\n",
       "      <th>F124</th>\n",
       "      <th>F125</th>\n",
       "      <th>F126</th>\n",
       "      <th>F97</th>\n",
       "      <th>F98</th>\n",
       "      <th>F103</th>\n",
       "    </tr>\n",
       "  </thead>\n",
       "  <tbody>\n",
       "    <tr>\n",
       "      <th>3</th>\n",
       "      <td>SSI</td>\n",
       "      <td>1</td>\n",
       "      <td>2020</td>\n",
       "      <td>21677442390472</td>\n",
       "      <td>21635844678933</td>\n",
       "      <td>282437672957</td>\n",
       "      <td>2.512291e+11</td>\n",
       "      <td>3.120858e+10</td>\n",
       "      <td>6.478018e+12</td>\n",
       "      <td>1.051199e+13</td>\n",
       "      <td>...</td>\n",
       "      <td>3.496463e+12</td>\n",
       "      <td>-5.417922e+11</td>\n",
       "      <td>6.421930e+10</td>\n",
       "      <td>0.0</td>\n",
       "      <td>2.749951e+13</td>\n",
       "      <td>NaN</td>\n",
       "      <td>NaN</td>\n",
       "      <td>5.313716e+10</td>\n",
       "      <td>0.0</td>\n",
       "      <td>0.0</td>\n",
       "    </tr>\n",
       "  </tbody>\n",
       "</table>\n",
       "<p>1 rows × 129 columns</p>\n",
       "</div>"
      ],
      "text/plain": [
       "  SECURITY_CODE  QUARTER  YEAR              F1              F2            F3   \n",
       "3           SSI        1  2020  21677442390472  21635844678933  282437672957  \\\n",
       "\n",
       "             F4            F5            F6            F7  ...          F120   \n",
       "3  2.512291e+11  3.120858e+10  6.478018e+12  1.051199e+13  ...  3.496463e+12  \\\n",
       "\n",
       "           F121          F122  F123          F124  F125  F126           F97   \n",
       "3 -5.417922e+11  6.421930e+10   0.0  2.749951e+13   NaN   NaN  5.313716e+10  \\\n",
       "\n",
       "   F98  F103  \n",
       "3  0.0   0.0  \n",
       "\n",
       "[1 rows x 129 columns]"
      ]
     },
     "execution_count": 7,
     "metadata": {},
     "output_type": "execute_result"
    }
   ],
   "source": [
    "df_sql.head(1)"
   ]
  },
  {
   "cell_type": "code",
   "execution_count": 8,
   "metadata": {},
   "outputs": [],
   "source": [
    "# Get Symbol in insurance sectors\n",
    "securities_symbol = df_sql['SECURITY_CODE'].unique()"
   ]
  },
  {
   "cell_type": "code",
   "execution_count": 9,
   "metadata": {},
   "outputs": [
    {
     "name": "stdout",
     "output_type": "stream",
     "text": [
      "There are: 36 stocks\n"
     ]
    }
   ],
   "source": [
    "print(\"There are: \"+ str(len(securities_symbol))+ \" stocks\")"
   ]
  },
  {
   "attachments": {},
   "cell_type": "markdown",
   "metadata": {},
   "source": [
    "Process 2 tables"
   ]
  },
  {
   "cell_type": "code",
   "execution_count": 10,
   "metadata": {},
   "outputs": [],
   "source": [
    "# Change the name of columns\n",
    "same_column_name = pd.read_excel(same_field_data)\n",
    "same_column_name.dropna(axis=0, inplace=True)\n",
    "\n",
    "# Create a dict with key from bbs_sql and value from bbs_algo\n",
    "dict_column_name = dict(zip(same_column_name['sbs_sql'], same_column_name['sbs_algo']))"
   ]
  },
  {
   "cell_type": "code",
   "execution_count": 11,
   "metadata": {},
   "outputs": [
    {
     "data": {
      "text/html": [
       "<div>\n",
       "<style scoped>\n",
       "    .dataframe tbody tr th:only-of-type {\n",
       "        vertical-align: middle;\n",
       "    }\n",
       "\n",
       "    .dataframe tbody tr th {\n",
       "        vertical-align: top;\n",
       "    }\n",
       "\n",
       "    .dataframe thead th {\n",
       "        text-align: right;\n",
       "    }\n",
       "</style>\n",
       "<table border=\"1\" class=\"dataframe\">\n",
       "  <thead>\n",
       "    <tr style=\"text-align: right;\">\n",
       "      <th></th>\n",
       "      <th>sbs_algo</th>\n",
       "      <th>sbs_sql</th>\n",
       "    </tr>\n",
       "  </thead>\n",
       "  <tbody>\n",
       "    <tr>\n",
       "      <th>0</th>\n",
       "      <td>SBS_100</td>\n",
       "      <td>F1</td>\n",
       "    </tr>\n",
       "  </tbody>\n",
       "</table>\n",
       "</div>"
      ],
      "text/plain": [
       "  sbs_algo sbs_sql\n",
       "0  SBS_100      F1"
      ]
     },
     "execution_count": 11,
     "metadata": {},
     "output_type": "execute_result"
    }
   ],
   "source": [
    "same_column_name.head(1)"
   ]
  },
  {
   "cell_type": "code",
   "execution_count": 12,
   "metadata": {},
   "outputs": [
    {
     "data": {
      "text/plain": [
       "SECURITY_CODE     object\n",
       "QUARTER            int64\n",
       "YEAR               int64\n",
       "F1                 int64\n",
       "F2                 int64\n",
       "                  ...   \n",
       "F125             float64\n",
       "F126             float64\n",
       "F97              float64\n",
       "F98              float64\n",
       "F103             float64\n",
       "Length: 129, dtype: object"
      ]
     },
     "execution_count": 12,
     "metadata": {},
     "output_type": "execute_result"
    }
   ],
   "source": [
    "df_sql.dtypes"
   ]
  },
  {
   "cell_type": "code",
   "execution_count": 13,
   "metadata": {},
   "outputs": [],
   "source": [
    "# Change the name of df_sql based on name of the similar data field in df_algo\n",
    "df_sql.rename(\n",
    "    columns=dict_column_name,\n",
    "    inplace=True\n",
    ")\n",
    "\n",
    "# Fill NA values in df_sql\n",
    "df_sql = df_sql.fillna(0)\n",
    "\n",
    "# Change the type of data which is same between two tables\n",
    "df_sql[same_column_name['sbs_algo']] = df_sql[same_column_name['sbs_algo']].astype('Int64')"
   ]
  },
  {
   "cell_type": "code",
   "execution_count": 14,
   "metadata": {},
   "outputs": [],
   "source": [
    "# Change the type of data in df_algo\n",
    "# Just get the same data between two tables\n",
    "df_algo[same_column_name['sbs_algo']] = df_algo[same_column_name['sbs_algo']].astype('Int64')\n",
    "\n",
    "# Change the type of YEAR and QUARTER\n",
    "df_algo =  df_algo.astype(\n",
    "    {\"YEAR\": \"Int64\",\n",
    "     \"QUARTER\": \"Int64\"},\n",
    ")\n",
    "\n",
    "# Get the data with same value in banking sector\n",
    "df_algo = df_algo.loc[df_algo['SECURITY_CODE'].isin(securities_symbol)]"
   ]
  },
  {
   "cell_type": "code",
   "execution_count": 15,
   "metadata": {},
   "outputs": [],
   "source": [
    "# Get the final same columns\n",
    "final_column = [\"SECURITY_CODE\", \"YEAR\", \"QUARTER\"]\n",
    "\n",
    "for i in same_column_name['sbs_algo']:\n",
    "    final_column.append(i)"
   ]
  },
  {
   "cell_type": "code",
   "execution_count": 16,
   "metadata": {},
   "outputs": [],
   "source": [
    "df_sql = df_sql[final_column]\n",
    "df_algo = df_algo[final_column]"
   ]
  },
  {
   "cell_type": "code",
   "execution_count": 17,
   "metadata": {},
   "outputs": [],
   "source": [
    "def compare_table(df1, df2, columns) -> pd.DataFrame():\n",
    "    \n",
    "    return pd.merge(df1, df2, on=columns, how='outer', indicator=True).query(\"_merge != 'both'\")"
   ]
  },
  {
   "cell_type": "code",
   "execution_count": 18,
   "metadata": {},
   "outputs": [],
   "source": [
    "final_result = {\"field\": [], \"value_not_same\": []}\n",
    "for i in range(3, len(final_column)):\n",
    "    check_columns = [\"SECURITY_CODE\", 'YEAR', 'QUARTER', final_column[i]]\n",
    "    result = compare_table(\n",
    "        df1=df_sql[check_columns], \n",
    "        df2=df_algo[check_columns], \n",
    "        columns=check_columns)\n",
    "    \n",
    "    value_not_same = len(result)/(len(df_algo) + len(df_sql))*100\n",
    "    \n",
    "    final_result[\"field\"].append(final_column[i])\n",
    "    final_result[\"value_not_same\"].append(value_not_same)"
   ]
  },
  {
   "cell_type": "code",
   "execution_count": 19,
   "metadata": {},
   "outputs": [],
   "source": [
    "pd.DataFrame(final_result).to_excel(\"check_sbs.xlsx\")"
   ]
  },
  {
   "cell_type": "code",
   "execution_count": null,
   "metadata": {},
   "outputs": [],
   "source": []
  }
 ],
 "metadata": {
  "kernelspec": {
   "display_name": "quant_p",
   "language": "python",
   "name": "python3"
  },
  "language_info": {
   "codemirror_mode": {
    "name": "ipython",
    "version": 3
   },
   "file_extension": ".py",
   "mimetype": "text/x-python",
   "name": "python",
   "nbconvert_exporter": "python",
   "pygments_lexer": "ipython3",
   "version": "3.11.2"
  },
  "orig_nbformat": 4
 },
 "nbformat": 4,
 "nbformat_minor": 2
}
