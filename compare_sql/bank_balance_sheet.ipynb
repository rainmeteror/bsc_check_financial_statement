{
 "cells": [
  {
   "attachments": {},
   "cell_type": "markdown",
   "metadata": {},
   "source": [
    "Library"
   ]
  },
  {
   "cell_type": "code",
   "execution_count": 1,
   "metadata": {},
   "outputs": [],
   "source": [
    "# Import libraries\n",
    "import pandas as pd\n",
    "import numpy as np\n",
    "import datetime as dt"
   ]
  },
  {
   "attachments": {},
   "cell_type": "markdown",
   "metadata": {},
   "source": [
    "Symbol"
   ]
  },
  {
   "cell_type": "code",
   "execution_count": 2,
   "metadata": {},
   "outputs": [],
   "source": [
    "# Save as a table\n",
    "sql_symbol = pd.read_csv(\"symbol_id.csv\")\n",
    "sql_symbol.drop(['Unnamed: 0'], axis=1, inplace=True)\n",
    "\n",
    "# Save as a dict\n",
    "dict_sql_symbol = dict(zip(sql_symbol['SymbolID'], sql_symbol['Symbol']))"
   ]
  },
  {
   "attachments": {},
   "cell_type": "markdown",
   "metadata": {},
   "source": [
    "Pathlink"
   ]
  },
  {
   "cell_type": "code",
   "execution_count": 3,
   "metadata": {},
   "outputs": [],
   "source": [
    "# Assign pathlink\n",
    "algo_bbs_pathlink = r\"/Users/rainmeteror/Desktop/BSC_Algo_Database_UAT/OneDrive_1_5-29-2023/bank/algo_bbs.xlsx\"\n",
    "sql_bbs_pathlink = r\"/Users/rainmeteror/Desktop/BSC_Algo_Database_UAT/OneDrive_1_5-29-2023/bank/sql_bbs.xlsx\"\n",
    "same_field_data = r\"/Users/rainmeteror/Desktop/BSC_Algo_Database_UAT/OneDrive_1_5-29-2023/bank/bbs_datafield.xlsx\""
   ]
  },
  {
   "attachments": {},
   "cell_type": "markdown",
   "metadata": {},
   "source": [
    "Algo Database"
   ]
  },
  {
   "cell_type": "code",
   "execution_count": 4,
   "metadata": {},
   "outputs": [
    {
     "name": "stdout",
     "output_type": "stream",
     "text": [
      "ALGO DATABASE BANKS: There are: 403 rows\n"
     ]
    }
   ],
   "source": [
    "# Read data from algo database\n",
    "df_algo = pd.read_excel(algo_bbs_pathlink)\n",
    "df_algo.drop(['Unnamed: 0', 'SCN', 'REPORTED_DATE', 'AUDITED', 'MONTH_IN_PERIOD', 'CREATED_DATE', 'UPDATED_DATE'], axis=1, inplace=True)\n",
    "df_algo = df_algo.loc[df_algo['FREQ_CODE'] != 'Y']\n",
    "df_algo['YEAR'] = df_algo['REPORT_DATE'].dt.year\n",
    "df_algo['QUARTER'] = df_algo['REPORT_DATE'].dt.quarter\n",
    "df_algo.drop(['REPORT_DATE', 'FREQ_CODE'], axis=1, inplace=True)\n",
    "\n",
    "# Sort Values\n",
    "df_algo.sort_values(by=['YEAR', 'QUARTER', 'SECURITY_CODE'], ascending=[True, True, True], inplace=True)\n",
    "\n",
    "# Print how many rows are used\n",
    "print(\"ALGO DATABASE BANKS: There are: \" + str(len(df_algo)) + \" rows\")"
   ]
  },
  {
   "attachments": {},
   "cell_type": "markdown",
   "metadata": {},
   "source": [
    "Stockbiz Database"
   ]
  },
  {
   "cell_type": "code",
   "execution_count": 5,
   "metadata": {},
   "outputs": [
    {
     "name": "stdout",
     "output_type": "stream",
     "text": [
      "ALGO DATABASE BANKS: There are: 372 rows\n"
     ]
    }
   ],
   "source": [
    "# Read data from sql database\n",
    "df_sql = pd.read_excel(sql_bbs_pathlink)\n",
    "df_sql.drop(['Unnamed: 0', 'ReportID', 'LastUpdated', 'ApprovedBy', 'Currency', 'CreatedBy', 'LastUpdatedBy',\n",
    "             'ReportStatus', 'AssignedTo', 'CreatedAt'], axis=1, inplace=True)\n",
    "df_sql = df_sql.loc[(df_sql['Quarter'] != 0) & (df_sql['Year'] > 2019)]\n",
    "df_sql.sort_values(by=['Year', 'Quarter'], ascending=[True, True], inplace=True)\n",
    "\n",
    "# Change the name of tickers\n",
    "df_sql['SymbolID'] = df_sql['SymbolID'].map(dict_sql_symbol)\n",
    "\n",
    "# Change the name of column SymbolID\n",
    "df_sql.rename(\n",
    "    columns={\"SymbolID\": \"SECURITY_CODE\",\n",
    "             \"Year\": \"YEAR\",\n",
    "             \"Quarter\": \"QUARTER\"},\n",
    "    inplace=True\n",
    ")\n",
    "\n",
    "# Print how many rows are used\n",
    "print(\"ALGO DATABASE BANKS: There are: \" + str(len(df_sql)) + \" rows\")"
   ]
  },
  {
   "cell_type": "code",
   "execution_count": 6,
   "metadata": {},
   "outputs": [],
   "source": [
    "# Get Symbol in banking sectors\n",
    "banking_symbol = df_sql['SECURITY_CODE'].unique()"
   ]
  },
  {
   "attachments": {},
   "cell_type": "markdown",
   "metadata": {},
   "source": [
    "Process 2 tables"
   ]
  },
  {
   "cell_type": "code",
   "execution_count": 7,
   "metadata": {},
   "outputs": [],
   "source": [
    "# Change the name of columns\n",
    "same_column_name = pd.read_excel(same_field_data)\n",
    "same_column_name.dropna(axis=0, inplace=True)\n",
    "\n",
    "# Create a dict with key from bbs_sql and value from bbs_algo\n",
    "dict_column_name = dict(zip(same_column_name['bbs_sql'], same_column_name['bbs_algo']))"
   ]
  },
  {
   "cell_type": "code",
   "execution_count": 8,
   "metadata": {},
   "outputs": [],
   "source": [
    "# Change the name of df_sql based on name of the similar data field in df_algo\n",
    "df_sql.rename(\n",
    "    columns=dict_column_name,\n",
    "    inplace=True\n",
    ")\n",
    "\n",
    "# Fill NA values in df_sql\n",
    "df_sql = df_sql.fillna(0)\n",
    "\n",
    "# Change the type of data which is same between two tables\n",
    "df_sql[same_column_name['bbs_algo']] = df_sql[same_column_name['bbs_algo']].astype('Int64')"
   ]
  },
  {
   "cell_type": "code",
   "execution_count": 9,
   "metadata": {},
   "outputs": [],
   "source": [
    "# Change the type of data in df_algo\n",
    "# Just get the same data between two tables\n",
    "df_algo[same_column_name['bbs_algo']] = df_algo[same_column_name['bbs_algo']].apply(pd.to_numeric, errors=\"ignore\")\n",
    "\n",
    "# Change the type of YEAR and QUARTER\n",
    "df_algo =  df_algo.astype(\n",
    "    {\"YEAR\": \"Int64\",\n",
    "     \"QUARTER\": \"Int64\"},\n",
    ")\n",
    "\n",
    "# Get the data with same value in banking sector\n",
    "df_algo = df_algo.loc[df_algo['SECURITY_CODE'].isin(banking_symbol)]"
   ]
  },
  {
   "cell_type": "code",
   "execution_count": 10,
   "metadata": {},
   "outputs": [],
   "source": [
    "# Get the final same columns\n",
    "final_column = [\"SECURITY_CODE\", \"YEAR\", \"QUARTER\"]\n",
    "\n",
    "for i in same_column_name['bbs_algo']:\n",
    "    final_column.append(i)"
   ]
  },
  {
   "cell_type": "code",
   "execution_count": 11,
   "metadata": {},
   "outputs": [],
   "source": [
    "df_sql = df_sql[final_column]\n",
    "df_algo = df_algo[final_column]"
   ]
  },
  {
   "cell_type": "code",
   "execution_count": 12,
   "metadata": {},
   "outputs": [],
   "source": [
    "def compare_table(df1, df2, columns) -> pd.DataFrame():\n",
    "    \n",
    "    return pd.merge(df1, df2, on=columns, how='outer', indicator=True).query(\"_merge != 'both'\")"
   ]
  },
  {
   "cell_type": "code",
   "execution_count": 13,
   "metadata": {},
   "outputs": [],
   "source": [
    "final_result = {\"field\": [], \"value_not_same\": []}\n",
    "for i in range(3, len(final_column)):\n",
    "    check_columns = [\"SECURITY_CODE\", 'YEAR', 'QUARTER', final_column[i]]\n",
    "    result = compare_table(\n",
    "        df1=df_sql[check_columns], \n",
    "        df2=df_algo[check_columns], \n",
    "        columns=check_columns)\n",
    "    \n",
    "    value_not_same = len(result)/(len(df_algo) + len(df_sql))*100\n",
    "    \n",
    "    final_result[\"field\"].append(final_column[i])\n",
    "    final_result[\"value_not_same\"].append(value_not_same)"
   ]
  },
  {
   "cell_type": "code",
   "execution_count": 15,
   "metadata": {},
   "outputs": [],
   "source": [
    "pd.DataFrame(final_result).to_excel(r\"/Users/rainmeteror/Desktop/BSC_Algo_Database_UAT/OneDrive_1_5-29-2023/result/check_bbs.xlsx\")"
   ]
  },
  {
   "cell_type": "code",
   "execution_count": null,
   "metadata": {},
   "outputs": [],
   "source": []
  }
 ],
 "metadata": {
  "kernelspec": {
   "display_name": "quant_p",
   "language": "python",
   "name": "python3"
  },
  "language_info": {
   "codemirror_mode": {
    "name": "ipython",
    "version": 3
   },
   "file_extension": ".py",
   "mimetype": "text/x-python",
   "name": "python",
   "nbconvert_exporter": "python",
   "pygments_lexer": "ipython3",
   "version": "3.11.2"
  },
  "orig_nbformat": 4
 },
 "nbformat": 4,
 "nbformat_minor": 2
}
