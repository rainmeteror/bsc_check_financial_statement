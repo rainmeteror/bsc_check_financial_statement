{
 "cells": [
  {
   "attachments": {},
   "cell_type": "markdown",
   "metadata": {},
   "source": [
    "Library"
   ]
  },
  {
   "cell_type": "code",
   "execution_count": 2,
   "metadata": {},
   "outputs": [],
   "source": [
    "# Import libraries\n",
    "import pandas as pd\n",
    "import numpy as np\n",
    "import datetime as dt"
   ]
  },
  {
   "attachments": {},
   "cell_type": "markdown",
   "metadata": {},
   "source": [
    "Symbol"
   ]
  },
  {
   "cell_type": "code",
   "execution_count": 3,
   "metadata": {},
   "outputs": [],
   "source": [
    "# Save as a table\n",
    "sql_symbol = pd.read_csv(\"symbol_id.csv\")\n",
    "sql_symbol.drop(['Unnamed: 0'], axis=1, inplace=True)\n",
    "\n",
    "# Save as a dict\n",
    "dict_sql_symbol = dict(zip(sql_symbol['SymbolID'], sql_symbol['Symbol']))"
   ]
  },
  {
   "attachments": {},
   "cell_type": "markdown",
   "metadata": {},
   "source": [
    "Pathlink"
   ]
  },
  {
   "cell_type": "code",
   "execution_count": 4,
   "metadata": {},
   "outputs": [],
   "source": [
    "# Assign pathlink: Income Statement Bank\n",
    "algo_bis_pathlink = r\"/Users/rainmeteror/Desktop/BSC_Algo_Database_UAT/OneDrive_1_5-29-2023/bank/algo_bis.xlsx\"\n",
    "sql_bis_pathlink = r\"/Users/rainmeteror/Desktop/BSC_Algo_Database_UAT/OneDrive_1_5-29-2023/bank/sql_bis.xlsx\"\n",
    "same_field_data = r\"/Users/rainmeteror/Desktop/BSC_Algo_Database_UAT/OneDrive_1_5-29-2023/bank/bis_datafield.xlsx\""
   ]
  },
  {
   "attachments": {},
   "cell_type": "markdown",
   "metadata": {},
   "source": [
    "Algo Database"
   ]
  },
  {
   "cell_type": "code",
   "execution_count": 5,
   "metadata": {},
   "outputs": [
    {
     "name": "stdout",
     "output_type": "stream",
     "text": [
      "ALGO DATABASE BANKS: There are: 400 rows\n"
     ]
    }
   ],
   "source": [
    "# Read data from algo database\n",
    "df_algo = pd.read_excel(algo_bis_pathlink)\n",
    "df_algo.drop(['Unnamed: 0', 'SCN', 'REPORTED_DATE', 'AUDITED', 'MONTH_IN_PERIOD', 'CREATED_DATE', 'UPDATED_DATE'], axis=1, inplace=True)\n",
    "df_algo = df_algo.loc[df_algo['FREQ_CODE'] != 'Y']\n",
    "df_algo['YEAR'] = df_algo['REPORT_DATE'].dt.year\n",
    "df_algo['QUARTER'] = df_algo['REPORT_DATE'].dt.quarter\n",
    "df_algo.drop(['REPORT_DATE', 'FREQ_CODE'], axis=1, inplace=True)\n",
    "\n",
    "# Sort Values\n",
    "df_algo.sort_values(by=['YEAR', 'QUARTER', 'SECURITY_CODE'], ascending=[True, True, True], inplace=True)\n",
    "\n",
    "# Print how many rows are used\n",
    "print(\"ALGO DATABASE BANKS: There are: \" + str(len(df_algo)) + \" rows\")"
   ]
  },
  {
   "cell_type": "code",
   "execution_count": 6,
   "metadata": {},
   "outputs": [
    {
     "data": {
      "text/html": [
       "<div>\n",
       "<style scoped>\n",
       "    .dataframe tbody tr th:only-of-type {\n",
       "        vertical-align: middle;\n",
       "    }\n",
       "\n",
       "    .dataframe tbody tr th {\n",
       "        vertical-align: top;\n",
       "    }\n",
       "\n",
       "    .dataframe thead th {\n",
       "        text-align: right;\n",
       "    }\n",
       "</style>\n",
       "<table border=\"1\" class=\"dataframe\">\n",
       "  <thead>\n",
       "    <tr style=\"text-align: right;\">\n",
       "      <th></th>\n",
       "      <th>SECURITY_CODE</th>\n",
       "      <th>BIS_1</th>\n",
       "      <th>BIS_2</th>\n",
       "      <th>BIS_3</th>\n",
       "      <th>BIS_4</th>\n",
       "      <th>BIS_5</th>\n",
       "      <th>BIS_6</th>\n",
       "      <th>BIS_7</th>\n",
       "      <th>BIS_8</th>\n",
       "      <th>BIS_9</th>\n",
       "      <th>...</th>\n",
       "      <th>BIS_17</th>\n",
       "      <th>BIS_18</th>\n",
       "      <th>BIS_19</th>\n",
       "      <th>BIS_20</th>\n",
       "      <th>BIS_22</th>\n",
       "      <th>BIS_22A</th>\n",
       "      <th>BIS_23</th>\n",
       "      <th>BIS_21</th>\n",
       "      <th>YEAR</th>\n",
       "      <th>QUARTER</th>\n",
       "    </tr>\n",
       "  </thead>\n",
       "  <tbody>\n",
       "    <tr>\n",
       "      <th>473</th>\n",
       "      <td>ABB</td>\n",
       "      <td>1708669895628</td>\n",
       "      <td>-1176205512866</td>\n",
       "      <td>532464382762</td>\n",
       "      <td>72715267319</td>\n",
       "      <td>-46188566079</td>\n",
       "      <td>26526701240</td>\n",
       "      <td>143424678052</td>\n",
       "      <td>0</td>\n",
       "      <td>167082584092</td>\n",
       "      <td>...</td>\n",
       "      <td>380793754580</td>\n",
       "      <td>-3877223508</td>\n",
       "      <td>0</td>\n",
       "      <td>-3877223508</td>\n",
       "      <td>0</td>\n",
       "      <td>376916531072</td>\n",
       "      <td>0.0</td>\n",
       "      <td>NaN</td>\n",
       "      <td>2020</td>\n",
       "      <td>1</td>\n",
       "    </tr>\n",
       "  </tbody>\n",
       "</table>\n",
       "<p>1 rows × 28 columns</p>\n",
       "</div>"
      ],
      "text/plain": [
       "    SECURITY_CODE          BIS_1          BIS_2         BIS_3        BIS_4   \n",
       "473           ABB  1708669895628 -1176205512866  532464382762  72715267319  \\\n",
       "\n",
       "           BIS_5        BIS_6         BIS_7  BIS_8         BIS_9  ...   \n",
       "473 -46188566079  26526701240  143424678052      0  167082584092  ...  \\\n",
       "\n",
       "           BIS_17      BIS_18  BIS_19      BIS_20  BIS_22       BIS_22A   \n",
       "473  380793754580 -3877223508       0 -3877223508       0  376916531072  \\\n",
       "\n",
       "     BIS_23  BIS_21  YEAR  QUARTER  \n",
       "473     0.0     NaN  2020        1  \n",
       "\n",
       "[1 rows x 28 columns]"
      ]
     },
     "execution_count": 6,
     "metadata": {},
     "output_type": "execute_result"
    }
   ],
   "source": [
    "df_algo.head(1)"
   ]
  },
  {
   "attachments": {},
   "cell_type": "markdown",
   "metadata": {},
   "source": [
    "Stockbiz Database"
   ]
  },
  {
   "cell_type": "code",
   "execution_count": 7,
   "metadata": {},
   "outputs": [
    {
     "name": "stdout",
     "output_type": "stream",
     "text": [
      "STOCKBIZ DATABASE BANKS: There are: 373 rows\n"
     ]
    }
   ],
   "source": [
    "# Read data from sql database\n",
    "df_sql = pd.read_excel(sql_bis_pathlink)\n",
    "df_sql.drop(['Unnamed: 0', 'ReportID', 'LastUpdated', 'ApprovedBy', 'Currency', 'CreatedBy', 'LastUpdatedBy',\n",
    "             'ReportStatus', 'AssignedTo', 'CreatedAt'], axis=1, inplace=True)\n",
    "df_sql = df_sql.loc[(df_sql['Quarter'] != 0) & (df_sql['Year'] > 2019)]\n",
    "df_sql.sort_values(by=['Year', 'Quarter'], ascending=[True, True], inplace=True)\n",
    "\n",
    "# Change the name of tickers\n",
    "df_sql['SymbolID'] = df_sql['SymbolID'].map(dict_sql_symbol)\n",
    "\n",
    "# Change the name of column SymbolID\n",
    "df_sql.rename(\n",
    "    columns={\"SymbolID\": \"SECURITY_CODE\",\n",
    "             \"Year\": \"YEAR\",\n",
    "             \"Quarter\": \"QUARTER\"},\n",
    "    inplace=True\n",
    ")\n",
    "\n",
    "# Print how many rows are used\n",
    "print(\"STOCKBIZ DATABASE BANKS: There are: \" + str(len(df_sql)) + \" rows\")"
   ]
  },
  {
   "cell_type": "code",
   "execution_count": 8,
   "metadata": {},
   "outputs": [
    {
     "data": {
      "text/html": [
       "<div>\n",
       "<style scoped>\n",
       "    .dataframe tbody tr th:only-of-type {\n",
       "        vertical-align: middle;\n",
       "    }\n",
       "\n",
       "    .dataframe tbody tr th {\n",
       "        vertical-align: top;\n",
       "    }\n",
       "\n",
       "    .dataframe thead th {\n",
       "        text-align: right;\n",
       "    }\n",
       "</style>\n",
       "<table border=\"1\" class=\"dataframe\">\n",
       "  <thead>\n",
       "    <tr style=\"text-align: right;\">\n",
       "      <th></th>\n",
       "      <th>SECURITY_CODE</th>\n",
       "      <th>QUARTER</th>\n",
       "      <th>YEAR</th>\n",
       "      <th>InterestAndSimilarIncome</th>\n",
       "      <th>InterestExpenseAndSimilarCharges</th>\n",
       "      <th>NetInterestIncome</th>\n",
       "      <th>ServiceIncome</th>\n",
       "      <th>ServiceExpense</th>\n",
       "      <th>NetServiceIncomeExpense</th>\n",
       "      <th>ForeignExchangeIncomeExpense</th>\n",
       "      <th>...</th>\n",
       "      <th>PresentCorporateIncomeTaxExpenses</th>\n",
       "      <th>DeferredIncomeTaxesExpenses</th>\n",
       "      <th>CorporateIncomeTaxExpenses</th>\n",
       "      <th>NetProfitAfterTaxes</th>\n",
       "      <th>ProfitAttributableToMinorityInterestsAndFavourDevidends</th>\n",
       "      <th>ProfitAfterCorporateIncomeTaxes</th>\n",
       "      <th>Shares</th>\n",
       "      <th>EPS</th>\n",
       "      <th>DilutedEPS</th>\n",
       "      <th>Dividend</th>\n",
       "    </tr>\n",
       "  </thead>\n",
       "  <tbody>\n",
       "    <tr>\n",
       "      <th>33</th>\n",
       "      <td>STB</td>\n",
       "      <td>1</td>\n",
       "      <td>2020</td>\n",
       "      <td>8.486713e+12</td>\n",
       "      <td>-5.646836e+12</td>\n",
       "      <td>2.839877e+12</td>\n",
       "      <td>1.126417e+12</td>\n",
       "      <td>-4.051210e+11</td>\n",
       "      <td>7.212960e+11</td>\n",
       "      <td>2.326830e+11</td>\n",
       "      <td>...</td>\n",
       "      <td>-2.021420e+11</td>\n",
       "      <td>0.0</td>\n",
       "      <td>-2.021420e+11</td>\n",
       "      <td>7.857410e+11</td>\n",
       "      <td>0.0</td>\n",
       "      <td>7.857410e+11</td>\n",
       "      <td>NaN</td>\n",
       "      <td>NaN</td>\n",
       "      <td>NaN</td>\n",
       "      <td>NaN</td>\n",
       "    </tr>\n",
       "  </tbody>\n",
       "</table>\n",
       "<p>1 rows × 30 columns</p>\n",
       "</div>"
      ],
      "text/plain": [
       "   SECURITY_CODE  QUARTER  YEAR  InterestAndSimilarIncome   \n",
       "33           STB        1  2020              8.486713e+12  \\\n",
       "\n",
       "    InterestExpenseAndSimilarCharges  NetInterestIncome  ServiceIncome   \n",
       "33                     -5.646836e+12       2.839877e+12   1.126417e+12  \\\n",
       "\n",
       "    ServiceExpense  NetServiceIncomeExpense  ForeignExchangeIncomeExpense   \n",
       "33   -4.051210e+11             7.212960e+11                  2.326830e+11  \\\n",
       "\n",
       "    ...  PresentCorporateIncomeTaxExpenses  DeferredIncomeTaxesExpenses   \n",
       "33  ...                      -2.021420e+11                          0.0  \\\n",
       "\n",
       "    CorporateIncomeTaxExpenses  NetProfitAfterTaxes   \n",
       "33               -2.021420e+11         7.857410e+11  \\\n",
       "\n",
       "    ProfitAttributableToMinorityInterestsAndFavourDevidends   \n",
       "33                                                0.0        \\\n",
       "\n",
       "    ProfitAfterCorporateIncomeTaxes  Shares  EPS  DilutedEPS  Dividend  \n",
       "33                     7.857410e+11     NaN  NaN         NaN       NaN  \n",
       "\n",
       "[1 rows x 30 columns]"
      ]
     },
     "execution_count": 8,
     "metadata": {},
     "output_type": "execute_result"
    }
   ],
   "source": [
    "df_sql.head(1)"
   ]
  },
  {
   "cell_type": "code",
   "execution_count": 9,
   "metadata": {},
   "outputs": [],
   "source": [
    "# Get Symbol in banking sectors\n",
    "banking_symbol = df_sql['SECURITY_CODE'].unique()"
   ]
  },
  {
   "attachments": {},
   "cell_type": "markdown",
   "metadata": {},
   "source": [
    "Process 2 tables"
   ]
  },
  {
   "cell_type": "code",
   "execution_count": 10,
   "metadata": {},
   "outputs": [],
   "source": [
    "# Change the name of columns\n",
    "same_column_name = pd.read_excel(same_field_data)\n",
    "same_column_name.dropna(axis=0, inplace=True)\n",
    "\n",
    "# Create a dict with key from bbs_sql and value from bbs_algo\n",
    "dict_column_name = dict(zip(same_column_name['bis_algo'], same_column_name['bis_sql']))"
   ]
  },
  {
   "cell_type": "code",
   "execution_count": 11,
   "metadata": {},
   "outputs": [
    {
     "data": {
      "text/html": [
       "<div>\n",
       "<style scoped>\n",
       "    .dataframe tbody tr th:only-of-type {\n",
       "        vertical-align: middle;\n",
       "    }\n",
       "\n",
       "    .dataframe tbody tr th {\n",
       "        vertical-align: top;\n",
       "    }\n",
       "\n",
       "    .dataframe thead th {\n",
       "        text-align: right;\n",
       "    }\n",
       "</style>\n",
       "<table border=\"1\" class=\"dataframe\">\n",
       "  <thead>\n",
       "    <tr style=\"text-align: right;\">\n",
       "      <th></th>\n",
       "      <th>bis_algo</th>\n",
       "      <th>bis_sql</th>\n",
       "    </tr>\n",
       "  </thead>\n",
       "  <tbody>\n",
       "    <tr>\n",
       "      <th>0</th>\n",
       "      <td>BIS_1</td>\n",
       "      <td>InterestAndSimilarIncome</td>\n",
       "    </tr>\n",
       "  </tbody>\n",
       "</table>\n",
       "</div>"
      ],
      "text/plain": [
       "  bis_algo                   bis_sql\n",
       "0    BIS_1  InterestAndSimilarIncome"
      ]
     },
     "execution_count": 11,
     "metadata": {},
     "output_type": "execute_result"
    }
   ],
   "source": [
    "same_column_name.head(1)"
   ]
  },
  {
   "cell_type": "code",
   "execution_count": 12,
   "metadata": {},
   "outputs": [],
   "source": [
    "# Change the name of df_sql based on name of the similar data field in df_algo\n",
    "df_sql.rename(\n",
    "    columns=dict_column_name,\n",
    "    inplace=True\n",
    ")\n",
    "\n",
    "# Fill NA values in df_sql\n",
    "df_sql = df_sql.fillna(0)\n",
    "\n",
    "# Change the type of data which is same between two tables\n",
    "df_sql[same_column_name['bis_algo']] = df_sql[same_column_name['bis_sql']].astype('Int64')"
   ]
  },
  {
   "cell_type": "code",
   "execution_count": 13,
   "metadata": {},
   "outputs": [],
   "source": [
    "# Change the type of data in df_algo\n",
    "# Just get the same data between two tables\n",
    "df_algo[same_column_name['bis_algo']] = df_algo[same_column_name['bis_algo']].apply(pd.to_numeric, errors=\"ignore\")\n",
    "\n",
    "# Change the type of YEAR and QUARTER\n",
    "df_algo =  df_algo.astype(\n",
    "    {\"YEAR\": \"Int64\",\n",
    "     \"QUARTER\": \"Int64\"},\n",
    ")\n",
    "\n",
    "# Get the data with same value in banking sector\n",
    "df_algo = df_algo.loc[df_algo['SECURITY_CODE'].isin(banking_symbol)]"
   ]
  },
  {
   "cell_type": "code",
   "execution_count": 14,
   "metadata": {},
   "outputs": [],
   "source": [
    "df_algo = df_algo.astype(\n",
    "    {\"BIS_21\": \"Int64\"}\n",
    ")"
   ]
  },
  {
   "cell_type": "code",
   "execution_count": 15,
   "metadata": {},
   "outputs": [],
   "source": [
    "# Get the final same columns\n",
    "final_column = [\"SECURITY_CODE\", \"YEAR\", \"QUARTER\"]\n",
    "\n",
    "for i in same_column_name['bis_algo']:\n",
    "    final_column.append(i)"
   ]
  },
  {
   "cell_type": "code",
   "execution_count": 16,
   "metadata": {},
   "outputs": [],
   "source": [
    "df_sql = df_sql[final_column]\n",
    "df_algo = df_algo[final_column]"
   ]
  },
  {
   "cell_type": "code",
   "execution_count": 17,
   "metadata": {},
   "outputs": [],
   "source": [
    "def compare_table(df1, df2, columns) -> pd.DataFrame():\n",
    "    \n",
    "    return pd.merge(df1, df2, on=columns, how='outer', indicator=True).query(\"_merge != 'both'\")"
   ]
  },
  {
   "cell_type": "code",
   "execution_count": 18,
   "metadata": {},
   "outputs": [],
   "source": [
    "final_result = {\"field\": [], \"value_not_same\": []}\n",
    "for i in range(3, len(final_column)):\n",
    "    check_columns = [\"SECURITY_CODE\", 'YEAR', 'QUARTER', final_column[i]]\n",
    "    result = compare_table(\n",
    "        df1=df_sql[check_columns], \n",
    "        df2=df_algo[check_columns], \n",
    "        columns=check_columns)\n",
    "    \n",
    "    value_not_same = len(result)/(len(df_algo) + len(df_sql))*100\n",
    "    \n",
    "    final_result[\"field\"].append(final_column[i])\n",
    "    final_result[\"value_not_same\"].append(value_not_same)"
   ]
  },
  {
   "cell_type": "code",
   "execution_count": 19,
   "metadata": {},
   "outputs": [],
   "source": [
    "pd.DataFrame(final_result).to_excel(r\"/Users/rainmeteror/Desktop/BSC_Algo_Database_UAT/OneDrive_1_5-29-2023/result/check_bis.xlsx\")"
   ]
  },
  {
   "cell_type": "code",
   "execution_count": null,
   "metadata": {},
   "outputs": [],
   "source": []
  }
 ],
 "metadata": {
  "kernelspec": {
   "display_name": "quant_p",
   "language": "python",
   "name": "python3"
  },
  "language_info": {
   "codemirror_mode": {
    "name": "ipython",
    "version": 3
   },
   "file_extension": ".py",
   "mimetype": "text/x-python",
   "name": "python",
   "nbconvert_exporter": "python",
   "pygments_lexer": "ipython3",
   "version": "3.11.2"
  },
  "orig_nbformat": 4
 },
 "nbformat": 4,
 "nbformat_minor": 2
}
