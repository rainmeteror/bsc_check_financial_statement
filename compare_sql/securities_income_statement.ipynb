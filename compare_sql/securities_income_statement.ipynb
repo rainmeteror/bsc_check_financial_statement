{
 "cells": [
  {
   "attachments": {},
   "cell_type": "markdown",
   "metadata": {},
   "source": [
    "# SECURITIES INCOME STATEMENT"
   ]
  },
  {
   "attachments": {},
   "cell_type": "markdown",
   "metadata": {},
   "source": [
    "Library"
   ]
  },
  {
   "cell_type": "code",
   "execution_count": 2,
   "metadata": {},
   "outputs": [],
   "source": [
    "# Import libraries\n",
    "import pandas as pd\n",
    "import numpy as np\n",
    "import datetime as dt"
   ]
  },
  {
   "attachments": {},
   "cell_type": "markdown",
   "metadata": {},
   "source": [
    "Symbol"
   ]
  },
  {
   "cell_type": "code",
   "execution_count": 3,
   "metadata": {},
   "outputs": [],
   "source": [
    "# Save as a table\n",
    "sql_symbol = pd.read_csv(\"symbol_id.csv\")\n",
    "sql_symbol.drop(['Unnamed: 0'], axis=1, inplace=True)\n",
    "\n",
    "# Save as a dict\n",
    "dict_sql_symbol = dict(zip(sql_symbol['SymbolID'], sql_symbol['Symbol']))"
   ]
  },
  {
   "attachments": {},
   "cell_type": "markdown",
   "metadata": {},
   "source": [
    "Pathlink"
   ]
  },
  {
   "cell_type": "code",
   "execution_count": 4,
   "metadata": {},
   "outputs": [],
   "source": [
    "# Assign pathlink\n",
    "algo_pathlink = r\"/Users/rainmeteror/Desktop/BSC_Algo_Database_UAT/OneDrive_1_5-29-2023/securities/algo_sis.xlsx\"\n",
    "sql_pathlink = r\"/Users/rainmeteror/Desktop/BSC_Algo_Database_UAT/OneDrive_1_5-29-2023/securities/sql_sis.xlsx\"\n",
    "same_field_data = r\"/Users/rainmeteror/Desktop/BSC_Algo_Database_UAT/OneDrive_1_5-29-2023/securities/sis_datafield.xlsx\""
   ]
  },
  {
   "attachments": {},
   "cell_type": "markdown",
   "metadata": {},
   "source": [
    "Algo Database"
   ]
  },
  {
   "cell_type": "code",
   "execution_count": 5,
   "metadata": {},
   "outputs": [
    {
     "name": "stdout",
     "output_type": "stream",
     "text": [
      "ALGO DATABASE SECURITIES: There are: 1015 rows\n",
      "ALGO DATABASE SECURITIES: There are: 90 columns\n"
     ]
    }
   ],
   "source": [
    "# Read data from algo database\n",
    "df_algo = pd.read_excel(algo_pathlink)\n",
    "df_algo.drop(['Unnamed: 0', 'SCN', 'REPORTED_DATE', 'AUDITED', 'MONTH_IN_PERIOD', 'CREATED_DATE', 'UPDATED_DATE'], axis=1, inplace=True)\n",
    "df_algo = df_algo.loc[df_algo['FREQ_CODE'] != 'Y']\n",
    "df_algo['YEAR'] = df_algo['REPORT_DATE'].dt.year\n",
    "df_algo['QUARTER'] = df_algo['REPORT_DATE'].dt.quarter\n",
    "df_algo.drop(['REPORT_DATE', 'FREQ_CODE'], axis=1, inplace=True)\n",
    "\n",
    "# Sort Values\n",
    "df_algo.sort_values(by=['YEAR', 'QUARTER', 'SECURITY_CODE'], ascending=[True, True, True], inplace=True)\n",
    "\n",
    "# Print how many rows are used\n",
    "print(\"ALGO DATABASE SECURITIES: There are: \" + str(len(df_algo)) + \" rows\")\n",
    "print(\"ALGO DATABASE SECURITIES: There are: \" + str(len(df_algo.columns)) + \" columns\")"
   ]
  },
  {
   "cell_type": "code",
   "execution_count": 6,
   "metadata": {},
   "outputs": [],
   "source": [
    "df_algo['SIS_7_1'] = df_algo['SIS_7_1'] + df_algo['SIS_7_2']"
   ]
  },
  {
   "cell_type": "code",
   "execution_count": 7,
   "metadata": {},
   "outputs": [
    {
     "data": {
      "text/html": [
       "<div>\n",
       "<style scoped>\n",
       "    .dataframe tbody tr th:only-of-type {\n",
       "        vertical-align: middle;\n",
       "    }\n",
       "\n",
       "    .dataframe tbody tr th {\n",
       "        vertical-align: top;\n",
       "    }\n",
       "\n",
       "    .dataframe thead th {\n",
       "        text-align: right;\n",
       "    }\n",
       "</style>\n",
       "<table border=\"1\" class=\"dataframe\">\n",
       "  <thead>\n",
       "    <tr style=\"text-align: right;\">\n",
       "      <th></th>\n",
       "      <th>SECURITY_CODE</th>\n",
       "      <th>SIS_20</th>\n",
       "      <th>SIS_1</th>\n",
       "      <th>SIS_1_1</th>\n",
       "      <th>SIS_1_2</th>\n",
       "      <th>SIS_1_3</th>\n",
       "      <th>SIS_2</th>\n",
       "      <th>SIS_3</th>\n",
       "      <th>SIS_4</th>\n",
       "      <th>SIS_5</th>\n",
       "      <th>...</th>\n",
       "      <th>SIS_401</th>\n",
       "      <th>SIS_402</th>\n",
       "      <th>SIS_500</th>\n",
       "      <th>SIS_501</th>\n",
       "      <th>SIS_502</th>\n",
       "      <th>SIS_1_4</th>\n",
       "      <th>SIS_21_4</th>\n",
       "      <th>SIS_300</th>\n",
       "      <th>YEAR</th>\n",
       "      <th>QUARTER</th>\n",
       "    </tr>\n",
       "  </thead>\n",
       "  <tbody>\n",
       "    <tr>\n",
       "      <th>362</th>\n",
       "      <td>AAS</td>\n",
       "      <td>NaN</td>\n",
       "      <td>35548163137</td>\n",
       "      <td>9546893708</td>\n",
       "      <td>0</td>\n",
       "      <td>26001269429</td>\n",
       "      <td>3303165875</td>\n",
       "      <td>1229748711</td>\n",
       "      <td>0</td>\n",
       "      <td>0</td>\n",
       "      <td>...</td>\n",
       "      <td>7478373690</td>\n",
       "      <td>0</td>\n",
       "      <td>0</td>\n",
       "      <td>0.0</td>\n",
       "      <td>0.0</td>\n",
       "      <td>NaN</td>\n",
       "      <td>NaN</td>\n",
       "      <td>NaN</td>\n",
       "      <td>2020</td>\n",
       "      <td>1</td>\n",
       "    </tr>\n",
       "  </tbody>\n",
       "</table>\n",
       "<p>1 rows × 90 columns</p>\n",
       "</div>"
      ],
      "text/plain": [
       "    SECURITY_CODE  SIS_20        SIS_1     SIS_1_1  SIS_1_2      SIS_1_3   \n",
       "362           AAS     NaN  35548163137  9546893708        0  26001269429  \\\n",
       "\n",
       "          SIS_2       SIS_3  SIS_4  SIS_5  ...     SIS_401  SIS_402  SIS_500   \n",
       "362  3303165875  1229748711      0      0  ...  7478373690        0        0  \\\n",
       "\n",
       "     SIS_501  SIS_502  SIS_1_4  SIS_21_4  SIS_300  YEAR  QUARTER  \n",
       "362      0.0      0.0      NaN       NaN      NaN  2020        1  \n",
       "\n",
       "[1 rows x 90 columns]"
      ]
     },
     "execution_count": 7,
     "metadata": {},
     "output_type": "execute_result"
    }
   ],
   "source": [
    "df_algo.head(1)"
   ]
  },
  {
   "attachments": {},
   "cell_type": "markdown",
   "metadata": {},
   "source": [
    "Stockbiz Database"
   ]
  },
  {
   "cell_type": "code",
   "execution_count": 8,
   "metadata": {},
   "outputs": [
    {
     "name": "stdout",
     "output_type": "stream",
     "text": [
      "STOCKBIZ DATABASE SECURITIES: There are: 450 rows\n",
      "STOCKBIZ DATABASE SECURITIES: There are: 76 rows\n"
     ]
    }
   ],
   "source": [
    "# Read data from sql database\n",
    "df_sql = pd.read_excel(sql_pathlink)\n",
    "df_sql.drop(['Unnamed: 0', 'ReportID', 'LastUpdated', 'ApprovedBy', 'CreatedBy', 'LastUpdatedBy',\n",
    "             'ReportStatus', 'AssignedTo', 'CreatedAt'], axis=1, inplace=True)\n",
    "df_sql = df_sql.loc[(df_sql['Quarter'] != 0) & (df_sql['Year'] > 2019)]\n",
    "df_sql.sort_values(by=['Year', 'Quarter'], ascending=[True, True], inplace=True)\n",
    "\n",
    "# Change the name of tickers\n",
    "df_sql['SymbolID'] = df_sql['SymbolID'].map(dict_sql_symbol)\n",
    "\n",
    "# Change the name of column SymbolID\n",
    "df_sql.rename(\n",
    "    columns={\"SymbolID\": \"SECURITY_CODE\",\n",
    "             \"Year\": \"YEAR\",\n",
    "             \"Quarter\": \"QUARTER\"},\n",
    "    inplace=True\n",
    ")\n",
    "\n",
    "# Print how many rows are used\n",
    "print(\"STOCKBIZ DATABASE SECURITIES: There are: \" + str(len(df_sql)) + \" rows\")\n",
    "print(\"STOCKBIZ DATABASE SECURITIES: There are: \" + str(len(df_sql.columns)) + \" rows\")"
   ]
  },
  {
   "cell_type": "code",
   "execution_count": 9,
   "metadata": {},
   "outputs": [
    {
     "data": {
      "text/html": [
       "<div>\n",
       "<style scoped>\n",
       "    .dataframe tbody tr th:only-of-type {\n",
       "        vertical-align: middle;\n",
       "    }\n",
       "\n",
       "    .dataframe tbody tr th {\n",
       "        vertical-align: top;\n",
       "    }\n",
       "\n",
       "    .dataframe thead th {\n",
       "        text-align: right;\n",
       "    }\n",
       "</style>\n",
       "<table border=\"1\" class=\"dataframe\">\n",
       "  <thead>\n",
       "    <tr style=\"text-align: right;\">\n",
       "      <th></th>\n",
       "      <th>SECURITY_CODE</th>\n",
       "      <th>QUARTER</th>\n",
       "      <th>YEAR</th>\n",
       "      <th>F2</th>\n",
       "      <th>F3</th>\n",
       "      <th>F4</th>\n",
       "      <th>F5</th>\n",
       "      <th>F6</th>\n",
       "      <th>F7</th>\n",
       "      <th>F8</th>\n",
       "      <th>...</th>\n",
       "      <th>F65</th>\n",
       "      <th>F66</th>\n",
       "      <th>F67</th>\n",
       "      <th>F68</th>\n",
       "      <th>F69</th>\n",
       "      <th>F70</th>\n",
       "      <th>F71</th>\n",
       "      <th>F72</th>\n",
       "      <th>F73</th>\n",
       "      <th>F74</th>\n",
       "    </tr>\n",
       "  </thead>\n",
       "  <tbody>\n",
       "    <tr>\n",
       "      <th>3</th>\n",
       "      <td>SSI</td>\n",
       "      <td>1</td>\n",
       "      <td>2020</td>\n",
       "      <td>1.964231e+11</td>\n",
       "      <td>8.039438e+10</td>\n",
       "      <td>5.827895e+10</td>\n",
       "      <td>5.774981e+10</td>\n",
       "      <td>2.589635e+11</td>\n",
       "      <td>1.454985e+11</td>\n",
       "      <td>1.594694e+11</td>\n",
       "      <td>...</td>\n",
       "      <td>0.0</td>\n",
       "      <td>0.0</td>\n",
       "      <td>0.0</td>\n",
       "      <td>0.0</td>\n",
       "      <td>-2.394768e+11</td>\n",
       "      <td>-2.394768e+11</td>\n",
       "      <td>0.0</td>\n",
       "      <td>NaN</td>\n",
       "      <td>NaN</td>\n",
       "      <td>NaN</td>\n",
       "    </tr>\n",
       "  </tbody>\n",
       "</table>\n",
       "<p>1 rows × 76 columns</p>\n",
       "</div>"
      ],
      "text/plain": [
       "  SECURITY_CODE  QUARTER  YEAR            F2            F3            F4   \n",
       "3           SSI        1  2020  1.964231e+11  8.039438e+10  5.827895e+10  \\\n",
       "\n",
       "             F5            F6            F7            F8  ...  F65  F66  F67   \n",
       "3  5.774981e+10  2.589635e+11  1.454985e+11  1.594694e+11  ...  0.0  0.0  0.0  \\\n",
       "\n",
       "   F68           F69           F70  F71  F72  F73  F74  \n",
       "3  0.0 -2.394768e+11 -2.394768e+11  0.0  NaN  NaN  NaN  \n",
       "\n",
       "[1 rows x 76 columns]"
      ]
     },
     "execution_count": 9,
     "metadata": {},
     "output_type": "execute_result"
    }
   ],
   "source": [
    "df_sql.head(1)"
   ]
  },
  {
   "cell_type": "code",
   "execution_count": 10,
   "metadata": {},
   "outputs": [],
   "source": [
    "# Get Symbol in insurance sectors\n",
    "securities_symbol = df_sql['SECURITY_CODE'].unique()"
   ]
  },
  {
   "cell_type": "code",
   "execution_count": 11,
   "metadata": {},
   "outputs": [
    {
     "name": "stdout",
     "output_type": "stream",
     "text": [
      "There are: 36 stocks\n"
     ]
    }
   ],
   "source": [
    "print(\"There are: \"+ str(len(securities_symbol))+ \" stocks\")"
   ]
  },
  {
   "attachments": {},
   "cell_type": "markdown",
   "metadata": {},
   "source": [
    "Process 2 tables"
   ]
  },
  {
   "cell_type": "code",
   "execution_count": 12,
   "metadata": {},
   "outputs": [],
   "source": [
    "# Change the name of columns\n",
    "same_column_name = pd.read_excel(same_field_data)\n",
    "same_column_name.dropna(axis=0, inplace=True)\n",
    "\n",
    "# Create a dict with key from bbs_sql and value from bbs_algo\n",
    "dict_column_name = dict(zip(same_column_name['sis_sql'], same_column_name['sis_algo']))"
   ]
  },
  {
   "cell_type": "code",
   "execution_count": 13,
   "metadata": {},
   "outputs": [
    {
     "data": {
      "text/html": [
       "<div>\n",
       "<style scoped>\n",
       "    .dataframe tbody tr th:only-of-type {\n",
       "        vertical-align: middle;\n",
       "    }\n",
       "\n",
       "    .dataframe tbody tr th {\n",
       "        vertical-align: top;\n",
       "    }\n",
       "\n",
       "    .dataframe thead th {\n",
       "        text-align: right;\n",
       "    }\n",
       "</style>\n",
       "<table border=\"1\" class=\"dataframe\">\n",
       "  <thead>\n",
       "    <tr style=\"text-align: right;\">\n",
       "      <th></th>\n",
       "      <th>sis_algo</th>\n",
       "      <th>sis_sql</th>\n",
       "    </tr>\n",
       "  </thead>\n",
       "  <tbody>\n",
       "    <tr>\n",
       "      <th>0</th>\n",
       "      <td>SIS_20</td>\n",
       "      <td>F16</td>\n",
       "    </tr>\n",
       "    <tr>\n",
       "      <th>1</th>\n",
       "      <td>SIS_1</td>\n",
       "      <td>F2</td>\n",
       "    </tr>\n",
       "    <tr>\n",
       "      <th>2</th>\n",
       "      <td>SIS_1_1</td>\n",
       "      <td>F3</td>\n",
       "    </tr>\n",
       "    <tr>\n",
       "      <th>3</th>\n",
       "      <td>SIS_1_2</td>\n",
       "      <td>F4</td>\n",
       "    </tr>\n",
       "    <tr>\n",
       "      <th>4</th>\n",
       "      <td>SIS_1_3</td>\n",
       "      <td>F5</td>\n",
       "    </tr>\n",
       "    <tr>\n",
       "      <th>...</th>\n",
       "      <td>...</td>\n",
       "      <td>...</td>\n",
       "    </tr>\n",
       "    <tr>\n",
       "      <th>76</th>\n",
       "      <td>SIS_306</td>\n",
       "      <td>F67</td>\n",
       "    </tr>\n",
       "    <tr>\n",
       "      <th>77</th>\n",
       "      <td>SIS_307</td>\n",
       "      <td>F68</td>\n",
       "    </tr>\n",
       "    <tr>\n",
       "      <th>78</th>\n",
       "      <td>SIS_400</td>\n",
       "      <td>F69</td>\n",
       "    </tr>\n",
       "    <tr>\n",
       "      <th>79</th>\n",
       "      <td>SIS_401</td>\n",
       "      <td>F70</td>\n",
       "    </tr>\n",
       "    <tr>\n",
       "      <th>80</th>\n",
       "      <td>SIS_402</td>\n",
       "      <td>F71</td>\n",
       "    </tr>\n",
       "  </tbody>\n",
       "</table>\n",
       "<p>69 rows × 2 columns</p>\n",
       "</div>"
      ],
      "text/plain": [
       "   sis_algo sis_sql\n",
       "0    SIS_20     F16\n",
       "1     SIS_1      F2\n",
       "2   SIS_1_1      F3\n",
       "3   SIS_1_2      F4\n",
       "4   SIS_1_3      F5\n",
       "..      ...     ...\n",
       "76  SIS_306     F67\n",
       "77  SIS_307     F68\n",
       "78  SIS_400     F69\n",
       "79  SIS_401     F70\n",
       "80  SIS_402     F71\n",
       "\n",
       "[69 rows x 2 columns]"
      ]
     },
     "execution_count": 13,
     "metadata": {},
     "output_type": "execute_result"
    }
   ],
   "source": [
    "same_column_name"
   ]
  },
  {
   "cell_type": "code",
   "execution_count": 14,
   "metadata": {},
   "outputs": [
    {
     "data": {
      "text/plain": [
       "Index(['SECURITY_CODE', 'QUARTER', 'YEAR', 'F2', 'F3', 'F4', 'F5', 'F6', 'F7',\n",
       "       'F8', 'F9', 'F10', 'F11', 'F12', 'F13', 'F14', 'F15', 'F16', 'F17',\n",
       "       'F18', 'F19', 'F20', 'F21', 'F22', 'F23', 'F24', 'F25', 'F26', 'F27',\n",
       "       'F28', 'F29', 'F30', 'F31', 'F32', 'F33', 'F34', 'F35', 'F36', 'F37',\n",
       "       'F38', 'F39', 'F40', 'F41', 'F42', 'F43', 'F44', 'F45', 'F46', 'F47',\n",
       "       'F48', 'F49', 'F50', 'F51', 'F52', 'F53', 'F54', 'F55', 'F56', 'F57',\n",
       "       'F58', 'F59', 'F60', 'F61', 'F62', 'F63', 'F64', 'F65', 'F66', 'F67',\n",
       "       'F68', 'F69', 'F70', 'F71', 'F72', 'F73', 'F74'],\n",
       "      dtype='object')"
      ]
     },
     "execution_count": 14,
     "metadata": {},
     "output_type": "execute_result"
    }
   ],
   "source": [
    "df_sql.columns"
   ]
  },
  {
   "cell_type": "code",
   "execution_count": 15,
   "metadata": {},
   "outputs": [],
   "source": [
    "# Change the name of df_sql based on name of the similar data field in df_algo\n",
    "df_sql.rename(\n",
    "    columns=dict_column_name,\n",
    "    inplace=True\n",
    ")\n",
    "\n",
    "# Fill NA values in df_sql\n",
    "df_sql = df_sql.fillna(0)\n",
    "\n",
    "# Change the type of data which is same between two tables\n",
    "df_sql[same_column_name['sis_algo']] = df_sql[same_column_name['sis_algo']].astype('Int64')"
   ]
  },
  {
   "cell_type": "code",
   "execution_count": 16,
   "metadata": {},
   "outputs": [],
   "source": [
    "# Change the type of data in df_algo\n",
    "# Just get the same data between two tables\n",
    "df_algo[same_column_name['sis_algo']] = df_algo[same_column_name['sis_algo']].astype('Int64')\n",
    "\n",
    "# Change the type of YEAR and QUARTER\n",
    "df_algo =  df_algo.astype(\n",
    "    {\"YEAR\": \"Int64\",\n",
    "     \"QUARTER\": \"Int64\"},\n",
    ")\n",
    "\n",
    "# Get the data with same value in banking sector\n",
    "df_algo = df_algo.loc[df_algo['SECURITY_CODE'].isin(securities_symbol)]"
   ]
  },
  {
   "cell_type": "code",
   "execution_count": 17,
   "metadata": {},
   "outputs": [],
   "source": [
    "# Get the final same columns\n",
    "final_column = [\"SECURITY_CODE\", \"YEAR\", \"QUARTER\"]\n",
    "\n",
    "for i in same_column_name['sis_algo']:\n",
    "    final_column.append(i)"
   ]
  },
  {
   "cell_type": "code",
   "execution_count": 18,
   "metadata": {},
   "outputs": [],
   "source": [
    "df_sql = df_sql[final_column]\n",
    "df_algo = df_algo[final_column]"
   ]
  },
  {
   "cell_type": "code",
   "execution_count": 19,
   "metadata": {},
   "outputs": [],
   "source": [
    "def compare_table(df1, df2, columns) -> pd.DataFrame():\n",
    "    \n",
    "    return pd.merge(df1, df2, on=columns, how='outer', indicator=True).query(\"_merge != 'both'\")"
   ]
  },
  {
   "cell_type": "code",
   "execution_count": 20,
   "metadata": {},
   "outputs": [],
   "source": [
    "final_result = {\"field\": [], \"value_not_same\": []}\n",
    "for i in range(3, len(final_column)):\n",
    "    check_columns = [\"SECURITY_CODE\", 'YEAR', 'QUARTER', final_column[i]]\n",
    "    result = compare_table(\n",
    "        df1=df_sql[check_columns], \n",
    "        df2=df_algo[check_columns], \n",
    "        columns=check_columns)\n",
    "    \n",
    "    value_not_same = len(result)/(len(df_algo) + len(df_sql))*100\n",
    "    \n",
    "    final_result[\"field\"].append(final_column[i])\n",
    "    final_result[\"value_not_same\"].append(value_not_same)"
   ]
  },
  {
   "cell_type": "code",
   "execution_count": 21,
   "metadata": {},
   "outputs": [],
   "source": [
    "pd.DataFrame(final_result).to_excel(\"check_sis.xlsx\")"
   ]
  },
  {
   "cell_type": "code",
   "execution_count": null,
   "metadata": {},
   "outputs": [],
   "source": []
  }
 ],
 "metadata": {
  "kernelspec": {
   "display_name": "quant_p",
   "language": "python",
   "name": "python3"
  },
  "language_info": {
   "codemirror_mode": {
    "name": "ipython",
    "version": 3
   },
   "file_extension": ".py",
   "mimetype": "text/x-python",
   "name": "python",
   "nbconvert_exporter": "python",
   "pygments_lexer": "ipython3",
   "version": "3.11.2"
  },
  "orig_nbformat": 4
 },
 "nbformat": 4,
 "nbformat_minor": 2
}
