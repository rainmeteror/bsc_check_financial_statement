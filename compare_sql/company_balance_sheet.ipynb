{
 "cells": [
  {
   "attachments": {},
   "cell_type": "markdown",
   "metadata": {},
   "source": [
    "Library"
   ]
  },
  {
   "cell_type": "code",
   "execution_count": 6,
   "metadata": {},
   "outputs": [],
   "source": [
    "# Import libraries\n",
    "import pandas as pd\n",
    "import numpy as np\n",
    "import datetime as dt"
   ]
  },
  {
   "attachments": {},
   "cell_type": "markdown",
   "metadata": {},
   "source": [
    "Symbol"
   ]
  },
  {
   "cell_type": "code",
   "execution_count": 7,
   "metadata": {},
   "outputs": [],
   "source": [
    "# Save as a table\n",
    "sql_symbol = pd.read_csv(\"symbol_id.csv\")\n",
    "sql_symbol.drop(['Unnamed: 0'], axis=1, inplace=True)\n",
    "\n",
    "# Save as a dict\n",
    "dict_sql_symbol = dict(zip(sql_symbol['SymbolID'], sql_symbol['Symbol']))"
   ]
  },
  {
   "attachments": {},
   "cell_type": "markdown",
   "metadata": {},
   "source": [
    "Pathlink"
   ]
  },
  {
   "cell_type": "code",
   "execution_count": 8,
   "metadata": {},
   "outputs": [],
   "source": [
    "# Assign pathlink: Company Balance Sheet\n",
    "algo_pathlink = r\"/Users/rainmeteror/Desktop/BSC_Algo_Database_UAT/OneDrive_1_5-29-2023/company/algo_cbs.xlsx\"\n",
    "sql_pathlink = r\"/Users/rainmeteror/Desktop/BSC_Algo_Database_UAT/OneDrive_1_5-29-2023/company/sql_cbs.xlsx\"\n",
    "same_field_data = r\"/Users/rainmeteror/Desktop/BSC_Algo_Database_UAT/OneDrive_1_5-29-2023/company/cbs_datafield.xlsx\"\n",
    "result_pathlink = r\"/Users/rainmeteror/Desktop/BSC_Algo_Database_UAT/OneDrive_1_5-29-2023/result\""
   ]
  },
  {
   "attachments": {},
   "cell_type": "markdown",
   "metadata": {},
   "source": [
    "Algo Database"
   ]
  },
  {
   "cell_type": "code",
   "execution_count": 9,
   "metadata": {},
   "outputs": [
    {
     "name": "stdout",
     "output_type": "stream",
     "text": [
      "ALGO DATABASE COMPANY: There are: 15419 rows\n",
      "ALGO DATABASE CMPANY: There are: 129 columns\n"
     ]
    }
   ],
   "source": [
    "# Read data from algo database\n",
    "df_algo = pd.read_excel(algo_pathlink)\n",
    "df_algo.drop(['Unnamed: 0', 'SCN', 'REPORTED_DATE', 'AUDITED', 'MONTH_IN_PERIOD', 'CREATED_DATE', 'UPDATED_DATE'], axis=1, inplace=True)\n",
    "df_algo = df_algo.loc[df_algo['FREQ_CODE'] != 'Y']\n",
    "df_algo['YEAR'] = df_algo['REPORT_DATE'].dt.year\n",
    "df_algo['QUARTER'] = df_algo['REPORT_DATE'].dt.quarter\n",
    "df_algo.drop(['REPORT_DATE', 'FREQ_CODE'], axis=1, inplace=True)\n",
    "\n",
    "# Sort Values\n",
    "df_algo.sort_values(by=['YEAR', 'QUARTER', 'SECURITY_CODE'], ascending=[True, True, True], inplace=True)\n",
    "\n",
    "# Print how many rows are used\n",
    "print(\"ALGO DATABASE COMPANY: There are: \" + str(len(df_algo)) + \" rows\")\n",
    "print(\"ALGO DATABASE CMPANY: There are: \" + str(len(df_algo.columns)) + \" columns\")"
   ]
  },
  {
   "cell_type": "code",
   "execution_count": 10,
   "metadata": {},
   "outputs": [
    {
     "data": {
      "text/html": [
       "<div>\n",
       "<style scoped>\n",
       "    .dataframe tbody tr th:only-of-type {\n",
       "        vertical-align: middle;\n",
       "    }\n",
       "\n",
       "    .dataframe tbody tr th {\n",
       "        vertical-align: top;\n",
       "    }\n",
       "\n",
       "    .dataframe thead th {\n",
       "        text-align: right;\n",
       "    }\n",
       "</style>\n",
       "<table border=\"1\" class=\"dataframe\">\n",
       "  <thead>\n",
       "    <tr style=\"text-align: right;\">\n",
       "      <th></th>\n",
       "      <th>SECURITY_CODE</th>\n",
       "      <th>CBS_100</th>\n",
       "      <th>CBS_110</th>\n",
       "      <th>CBS_111</th>\n",
       "      <th>CBS_112</th>\n",
       "      <th>CBS_120</th>\n",
       "      <th>CBS_121</th>\n",
       "      <th>CBS_122</th>\n",
       "      <th>CBS_123</th>\n",
       "      <th>CBS_130</th>\n",
       "      <th>...</th>\n",
       "      <th>CBS_429</th>\n",
       "      <th>CBS_430</th>\n",
       "      <th>CBS_4301</th>\n",
       "      <th>CBS_431</th>\n",
       "      <th>CBS_432</th>\n",
       "      <th>CBS_4291</th>\n",
       "      <th>CBS_440</th>\n",
       "      <th>CBS_422</th>\n",
       "      <th>YEAR</th>\n",
       "      <th>QUARTER</th>\n",
       "    </tr>\n",
       "  </thead>\n",
       "  <tbody>\n",
       "    <tr>\n",
       "      <th>2537</th>\n",
       "      <td>AAA</td>\n",
       "      <td>4.556886e+12</td>\n",
       "      <td>2.884499e+11</td>\n",
       "      <td>1.961244e+11</td>\n",
       "      <td>9.232548e+10</td>\n",
       "      <td>8.403360e+11</td>\n",
       "      <td>0.0</td>\n",
       "      <td>0.0</td>\n",
       "      <td>8.403360e+11</td>\n",
       "      <td>2.157057e+12</td>\n",
       "      <td>...</td>\n",
       "      <td>3.059199e+11</td>\n",
       "      <td>0.0</td>\n",
       "      <td>0.0</td>\n",
       "      <td>0.0</td>\n",
       "      <td>0.0</td>\n",
       "      <td>0.0</td>\n",
       "      <td>7.768232e+12</td>\n",
       "      <td>NaN</td>\n",
       "      <td>2020</td>\n",
       "      <td>1</td>\n",
       "    </tr>\n",
       "  </tbody>\n",
       "</table>\n",
       "<p>1 rows × 129 columns</p>\n",
       "</div>"
      ],
      "text/plain": [
       "     SECURITY_CODE       CBS_100       CBS_110       CBS_111       CBS_112   \n",
       "2537           AAA  4.556886e+12  2.884499e+11  1.961244e+11  9.232548e+10  \\\n",
       "\n",
       "           CBS_120  CBS_121  CBS_122       CBS_123       CBS_130  ...   \n",
       "2537  8.403360e+11      0.0      0.0  8.403360e+11  2.157057e+12  ...  \\\n",
       "\n",
       "           CBS_429  CBS_430  CBS_4301  CBS_431  CBS_432  CBS_4291   \n",
       "2537  3.059199e+11      0.0       0.0      0.0      0.0       0.0  \\\n",
       "\n",
       "           CBS_440  CBS_422  YEAR  QUARTER  \n",
       "2537  7.768232e+12      NaN  2020        1  \n",
       "\n",
       "[1 rows x 129 columns]"
      ]
     },
     "execution_count": 10,
     "metadata": {},
     "output_type": "execute_result"
    }
   ],
   "source": [
    "# Get first rows of df_algo\n",
    "df_algo.head(1)"
   ]
  },
  {
   "cell_type": "code",
   "execution_count": 11,
   "metadata": {},
   "outputs": [
    {
     "data": {
      "text/plain": [
       "SECURITY_CODE     object\n",
       "CBS_100          float64\n",
       "CBS_110          float64\n",
       "CBS_111          float64\n",
       "CBS_112          float64\n",
       "                  ...   \n",
       "CBS_4291         float64\n",
       "CBS_440          float64\n",
       "CBS_422          float64\n",
       "YEAR               int32\n",
       "QUARTER            int32\n",
       "Length: 129, dtype: object"
      ]
     },
     "execution_count": 11,
     "metadata": {},
     "output_type": "execute_result"
    }
   ],
   "source": [
    "# Check data type of df_alg\n",
    "df_algo.dtypes"
   ]
  },
  {
   "attachments": {},
   "cell_type": "markdown",
   "metadata": {},
   "source": [
    "Stockbiz Database"
   ]
  },
  {
   "cell_type": "code",
   "execution_count": 12,
   "metadata": {},
   "outputs": [
    {
     "name": "stdout",
     "output_type": "stream",
     "text": [
      "STOCKBIZ DATABASE COMPANY: There are: 15095 rows\n",
      "STOCKBIZ DATABASE COMPANY: There are: 119 columns\n"
     ]
    }
   ],
   "source": [
    "# Read data from sql database\n",
    "df_sql = pd.read_excel(sql_pathlink)\n",
    "df_sql.drop(['Unnamed: 0', 'ReportID', 'LastUpdated', 'ApprovedBy', 'Currency', 'CreatedBy', 'LastUpdatedBy',\n",
    "             'ReportStatus', 'AssignedTo', 'CreatedAt'], axis=1, inplace=True)\n",
    "df_sql = df_sql.loc[(df_sql['Quarter'] != 0) & (df_sql['Year'] > 2019)]\n",
    "df_sql.sort_values(by=['Year', 'Quarter'], ascending=[True, True], inplace=True)\n",
    "\n",
    "# Change the name of tickers\n",
    "df_sql['SymbolID'] = df_sql['SymbolID'].map(dict_sql_symbol)\n",
    "\n",
    "# Change the name of column SymbolID\n",
    "df_sql.rename(\n",
    "    columns={\"SymbolID\": \"SECURITY_CODE\",\n",
    "             \"Year\": \"YEAR\",\n",
    "             \"Quarter\": \"QUARTER\"},\n",
    "    inplace=True\n",
    ")\n",
    "\n",
    "# Print how many rows are used\n",
    "print(\"STOCKBIZ DATABASE COMPANY: There are: \" + str(len(df_sql)) + \" rows\")\n",
    "print(\"STOCKBIZ DATABASE COMPANY: There are: \" + str(len(df_sql.columns)) + \" columns\")"
   ]
  },
  {
   "cell_type": "code",
   "execution_count": 13,
   "metadata": {},
   "outputs": [
    {
     "data": {
      "text/html": [
       "<div>\n",
       "<style scoped>\n",
       "    .dataframe tbody tr th:only-of-type {\n",
       "        vertical-align: middle;\n",
       "    }\n",
       "\n",
       "    .dataframe tbody tr th {\n",
       "        vertical-align: top;\n",
       "    }\n",
       "\n",
       "    .dataframe thead th {\n",
       "        text-align: right;\n",
       "    }\n",
       "</style>\n",
       "<table border=\"1\" class=\"dataframe\">\n",
       "  <thead>\n",
       "    <tr style=\"text-align: right;\">\n",
       "      <th></th>\n",
       "      <th>SECURITY_CODE</th>\n",
       "      <th>QUARTER</th>\n",
       "      <th>YEAR</th>\n",
       "      <th>LiquidAssetsAndCurrentInvestment</th>\n",
       "      <th>CashAndCashEquivalents</th>\n",
       "      <th>Cash</th>\n",
       "      <th>CashEquivalents</th>\n",
       "      <th>ShortTermFinancialInvestment</th>\n",
       "      <th>ShortTermInvestment</th>\n",
       "      <th>ProvisionForShortTermFinancialInvestmentLoss</th>\n",
       "      <th>...</th>\n",
       "      <th>LongTermInvestmentsHeldToMaturity</th>\n",
       "      <th>ShortTermUnexecutedRevenues</th>\n",
       "      <th>PriceStabilizationFund</th>\n",
       "      <th>ShortTermTradedGovernmentBond</th>\n",
       "      <th>LongTermExpensesPayable</th>\n",
       "      <th>InterCompanyPayablesOnCapital</th>\n",
       "      <th>ConvertibleBonds</th>\n",
       "      <th>BondConversionOption</th>\n",
       "      <th>ProfitAfterTaxCumulativeUndistributedPriorToFinal</th>\n",
       "      <th>ProfitAfterTaxRetainedThisPeriod</th>\n",
       "    </tr>\n",
       "  </thead>\n",
       "  <tbody>\n",
       "    <tr>\n",
       "      <th>3</th>\n",
       "      <td>AGF</td>\n",
       "      <td>1</td>\n",
       "      <td>2020</td>\n",
       "      <td>519196448427</td>\n",
       "      <td>8118214995</td>\n",
       "      <td>8118214995</td>\n",
       "      <td>0.0</td>\n",
       "      <td>0.0</td>\n",
       "      <td>0.0</td>\n",
       "      <td>0.0</td>\n",
       "      <td>...</td>\n",
       "      <td>0.0</td>\n",
       "      <td>0.0</td>\n",
       "      <td>0.0</td>\n",
       "      <td>0.0</td>\n",
       "      <td>0.0</td>\n",
       "      <td>0.0</td>\n",
       "      <td>0.0</td>\n",
       "      <td>0.0</td>\n",
       "      <td>-5.325153e+11</td>\n",
       "      <td>-2.090245e+09</td>\n",
       "    </tr>\n",
       "  </tbody>\n",
       "</table>\n",
       "<p>1 rows × 119 columns</p>\n",
       "</div>"
      ],
      "text/plain": [
       "  SECURITY_CODE  QUARTER  YEAR  LiquidAssetsAndCurrentInvestment   \n",
       "3           AGF        1  2020                      519196448427  \\\n",
       "\n",
       "   CashAndCashEquivalents        Cash  CashEquivalents   \n",
       "3              8118214995  8118214995              0.0  \\\n",
       "\n",
       "   ShortTermFinancialInvestment  ShortTermInvestment   \n",
       "3                           0.0                  0.0  \\\n",
       "\n",
       "   ProvisionForShortTermFinancialInvestmentLoss  ...   \n",
       "3                                           0.0  ...  \\\n",
       "\n",
       "   LongTermInvestmentsHeldToMaturity  ShortTermUnexecutedRevenues   \n",
       "3                                0.0                          0.0  \\\n",
       "\n",
       "   PriceStabilizationFund  ShortTermTradedGovernmentBond   \n",
       "3                     0.0                            0.0  \\\n",
       "\n",
       "   LongTermExpensesPayable  InterCompanyPayablesOnCapital  ConvertibleBonds   \n",
       "3                      0.0                            0.0               0.0  \\\n",
       "\n",
       "   BondConversionOption  ProfitAfterTaxCumulativeUndistributedPriorToFinal   \n",
       "3                   0.0                                      -5.325153e+11  \\\n",
       "\n",
       "   ProfitAfterTaxRetainedThisPeriod  \n",
       "3                     -2.090245e+09  \n",
       "\n",
       "[1 rows x 119 columns]"
      ]
     },
     "execution_count": 13,
     "metadata": {},
     "output_type": "execute_result"
    }
   ],
   "source": [
    "# Get first row of df_sql\n",
    "df_sql.head(1)"
   ]
  },
  {
   "cell_type": "code",
   "execution_count": 14,
   "metadata": {},
   "outputs": [
    {
     "data": {
      "text/plain": [
       "SECURITY_CODE                                         object\n",
       "QUARTER                                                int64\n",
       "YEAR                                                   int64\n",
       "LiquidAssetsAndCurrentInvestment                       int64\n",
       "CashAndCashEquivalents                                 int64\n",
       "                                                      ...   \n",
       "InterCompanyPayablesOnCapital                        float64\n",
       "ConvertibleBonds                                     float64\n",
       "BondConversionOption                                 float64\n",
       "ProfitAfterTaxCumulativeUndistributedPriorToFinal    float64\n",
       "ProfitAfterTaxRetainedThisPeriod                     float64\n",
       "Length: 119, dtype: object"
      ]
     },
     "execution_count": 14,
     "metadata": {},
     "output_type": "execute_result"
    }
   ],
   "source": [
    "# Check the data type of df_sql\n",
    "df_sql.dtypes"
   ]
  },
  {
   "cell_type": "code",
   "execution_count": 15,
   "metadata": {},
   "outputs": [
    {
     "name": "stdout",
     "output_type": "stream",
     "text": [
      "STOCKBIZ DATABASE GENERAL There are: 1620 stocks\n"
     ]
    }
   ],
   "source": [
    "# Get Symbol in GENERAL SECTORS\n",
    "general_symbol = df_sql['SECURITY_CODE'].unique()\n",
    "\n",
    "print(\"STOCKBIZ DATABASE GENERAL There are: \"+ str(len(general_symbol)) + \" stocks\")"
   ]
  },
  {
   "attachments": {},
   "cell_type": "markdown",
   "metadata": {},
   "source": [
    "Process 2 tables"
   ]
  },
  {
   "cell_type": "code",
   "execution_count": 16,
   "metadata": {},
   "outputs": [
    {
     "name": "stdout",
     "output_type": "stream",
     "text": [
      "There are: 105 same data fields\n"
     ]
    }
   ],
   "source": [
    "# Change the name of columns\n",
    "same_column_name = pd.read_excel(same_field_data)\n",
    "same_column_name.dropna(axis=0, inplace=True)\n",
    "\n",
    "print(\"There are: \"+ str(len(same_column_name)) + \" same data fields\")\n",
    "\n",
    "# Create a dict with key from bbs_sql and value from bbs_algo\n",
    "dict_column_name = dict(zip(same_column_name['sql_cbs'], same_column_name['algo_cbs']))"
   ]
  },
  {
   "cell_type": "code",
   "execution_count": 17,
   "metadata": {},
   "outputs": [
    {
     "data": {
      "text/plain": [
       "algo_cbs    False\n",
       "sql_cbs     False\n",
       "dtype: bool"
      ]
     },
     "execution_count": 17,
     "metadata": {},
     "output_type": "execute_result"
    }
   ],
   "source": [
    "same_column_name.isna().any()"
   ]
  },
  {
   "cell_type": "code",
   "execution_count": 18,
   "metadata": {},
   "outputs": [
    {
     "data": {
      "text/plain": [
       "119"
      ]
     },
     "execution_count": 18,
     "metadata": {},
     "output_type": "execute_result"
    }
   ],
   "source": [
    "len(df_sql.columns)"
   ]
  },
  {
   "cell_type": "code",
   "execution_count": 19,
   "metadata": {},
   "outputs": [
    {
     "data": {
      "text/plain": [
       "129"
      ]
     },
     "execution_count": 19,
     "metadata": {},
     "output_type": "execute_result"
    }
   ],
   "source": [
    "len(df_algo.columns)"
   ]
  },
  {
   "cell_type": "code",
   "execution_count": 20,
   "metadata": {},
   "outputs": [],
   "source": [
    "# Change the name of df_sql based on name of the similar data field in df_algo\n",
    "df_sql.rename(\n",
    "    columns=dict_column_name,\n",
    "    inplace=True\n",
    ")"
   ]
  },
  {
   "cell_type": "code",
   "execution_count": 21,
   "metadata": {},
   "outputs": [],
   "source": [
    "# Fill NA values in df_sql\n",
    "df_sql = df_sql.fillna(0)"
   ]
  },
  {
   "cell_type": "code",
   "execution_count": 22,
   "metadata": {},
   "outputs": [
    {
     "data": {
      "text/html": [
       "<div>\n",
       "<style scoped>\n",
       "    .dataframe tbody tr th:only-of-type {\n",
       "        vertical-align: middle;\n",
       "    }\n",
       "\n",
       "    .dataframe tbody tr th {\n",
       "        vertical-align: top;\n",
       "    }\n",
       "\n",
       "    .dataframe thead th {\n",
       "        text-align: right;\n",
       "    }\n",
       "</style>\n",
       "<table border=\"1\" class=\"dataframe\">\n",
       "  <thead>\n",
       "    <tr style=\"text-align: right;\">\n",
       "      <th></th>\n",
       "      <th>SECURITY_CODE</th>\n",
       "      <th>QUARTER</th>\n",
       "      <th>YEAR</th>\n",
       "      <th>CBS_100</th>\n",
       "      <th>CBS_110</th>\n",
       "      <th>CBS_111</th>\n",
       "      <th>CBS_112</th>\n",
       "      <th>CBS_120</th>\n",
       "      <th>CBS_121</th>\n",
       "      <th>CBS_122</th>\n",
       "      <th>...</th>\n",
       "      <th>LongTermInvestmentsHeldToMaturity</th>\n",
       "      <th>CBS_318</th>\n",
       "      <th>CBS_323</th>\n",
       "      <th>ShortTermTradedGovernmentBond</th>\n",
       "      <th>LongTermExpensesPayable</th>\n",
       "      <th>CBS_334</th>\n",
       "      <th>CBS_339</th>\n",
       "      <th>BondConversionOption</th>\n",
       "      <th>ProfitAfterTaxCumulativeUndistributedPriorToFinal</th>\n",
       "      <th>ProfitAfterTaxRetainedThisPeriod</th>\n",
       "    </tr>\n",
       "  </thead>\n",
       "  <tbody>\n",
       "    <tr>\n",
       "      <th>3</th>\n",
       "      <td>AGF</td>\n",
       "      <td>1</td>\n",
       "      <td>2020</td>\n",
       "      <td>519196448427</td>\n",
       "      <td>8118214995</td>\n",
       "      <td>8118214995</td>\n",
       "      <td>0.0</td>\n",
       "      <td>0.0</td>\n",
       "      <td>0.0</td>\n",
       "      <td>0.0</td>\n",
       "      <td>...</td>\n",
       "      <td>0.0</td>\n",
       "      <td>0.0</td>\n",
       "      <td>0.0</td>\n",
       "      <td>0.0</td>\n",
       "      <td>0.0</td>\n",
       "      <td>0.0</td>\n",
       "      <td>0.0</td>\n",
       "      <td>0.0</td>\n",
       "      <td>-5.325153e+11</td>\n",
       "      <td>-2.090245e+09</td>\n",
       "    </tr>\n",
       "  </tbody>\n",
       "</table>\n",
       "<p>1 rows × 119 columns</p>\n",
       "</div>"
      ],
      "text/plain": [
       "  SECURITY_CODE  QUARTER  YEAR       CBS_100     CBS_110     CBS_111  CBS_112   \n",
       "3           AGF        1  2020  519196448427  8118214995  8118214995      0.0  \\\n",
       "\n",
       "   CBS_120  CBS_121  CBS_122  ...  LongTermInvestmentsHeldToMaturity  CBS_318   \n",
       "3      0.0      0.0      0.0  ...                                0.0      0.0  \\\n",
       "\n",
       "   CBS_323  ShortTermTradedGovernmentBond  LongTermExpensesPayable  CBS_334   \n",
       "3      0.0                            0.0                      0.0      0.0  \\\n",
       "\n",
       "   CBS_339  BondConversionOption   \n",
       "3      0.0                   0.0  \\\n",
       "\n",
       "   ProfitAfterTaxCumulativeUndistributedPriorToFinal   \n",
       "3                                      -5.325153e+11  \\\n",
       "\n",
       "   ProfitAfterTaxRetainedThisPeriod  \n",
       "3                     -2.090245e+09  \n",
       "\n",
       "[1 rows x 119 columns]"
      ]
     },
     "execution_count": 22,
     "metadata": {},
     "output_type": "execute_result"
    }
   ],
   "source": [
    "df_sql.head(1)"
   ]
  },
  {
   "cell_type": "code",
   "execution_count": 23,
   "metadata": {},
   "outputs": [],
   "source": [
    "same_column_name = same_column_name.loc[(same_column_name['algo_cbs'] != 'CBS_123') & (same_column_name['algo_cbs'] != 'CBS_139')]"
   ]
  },
  {
   "cell_type": "code",
   "execution_count": 24,
   "metadata": {},
   "outputs": [],
   "source": [
    "# Change the type of data which is same between two tables\n",
    "df_sql[same_column_name['algo_cbs']] = df_sql[same_column_name['algo_cbs']].astype('Int64')"
   ]
  },
  {
   "cell_type": "code",
   "execution_count": 25,
   "metadata": {},
   "outputs": [],
   "source": [
    "# Change the type of data in df_algo\n",
    "# Just get the same data between two tables\n",
    "df_algo[same_column_name['algo_cbs']] = df_algo[same_column_name['algo_cbs']].astype('Int64')\n",
    "\n",
    "# Change the type of YEAR and QUARTER\n",
    "df_algo =  df_algo.astype(\n",
    "    {\"YEAR\": \"Int64\",\n",
    "     \"QUARTER\": \"Int64\"},\n",
    ")\n",
    "\n",
    "# Get the data with same value in banking sector\n",
    "df_algo = df_algo.loc[df_algo['SECURITY_CODE'].isin(general_symbol)]"
   ]
  },
  {
   "cell_type": "code",
   "execution_count": 26,
   "metadata": {},
   "outputs": [
    {
     "name": "stdout",
     "output_type": "stream",
     "text": [
      "There are: 106 data fields\n"
     ]
    }
   ],
   "source": [
    "# Get the final same columns\n",
    "final_column = [\"SECURITY_CODE\", \"YEAR\", \"QUARTER\"]\n",
    "\n",
    "for i in same_column_name['algo_cbs']:\n",
    "    final_column.append(i)\n",
    "    \n",
    "print(\"There are: \"+ str(len(final_column)) + \" data fields\")"
   ]
  },
  {
   "cell_type": "code",
   "execution_count": 27,
   "metadata": {},
   "outputs": [],
   "source": [
    "df_sql = df_sql[final_column]\n",
    "df_algo = df_algo[final_column]"
   ]
  },
  {
   "cell_type": "code",
   "execution_count": 28,
   "metadata": {},
   "outputs": [
    {
     "data": {
      "text/plain": [
       "SECURITY_CODE    object\n",
       "YEAR              int64\n",
       "QUARTER           int64\n",
       "CBS_100           Int64\n",
       "CBS_110           Int64\n",
       "                  ...  \n",
       "CBS_430           Int64\n",
       "CBS_4301          Int64\n",
       "CBS_431           Int64\n",
       "CBS_432           Int64\n",
       "CBS_4291          Int64\n",
       "Length: 106, dtype: object"
      ]
     },
     "execution_count": 28,
     "metadata": {},
     "output_type": "execute_result"
    }
   ],
   "source": [
    "df_sql.dtypes"
   ]
  },
  {
   "cell_type": "code",
   "execution_count": 29,
   "metadata": {},
   "outputs": [
    {
     "data": {
      "text/plain": [
       "SECURITY_CODE    object\n",
       "YEAR              Int64\n",
       "QUARTER           Int64\n",
       "CBS_100           Int64\n",
       "CBS_110           Int64\n",
       "                  ...  \n",
       "CBS_430           Int64\n",
       "CBS_4301          Int64\n",
       "CBS_431           Int64\n",
       "CBS_432           Int64\n",
       "CBS_4291          Int64\n",
       "Length: 106, dtype: object"
      ]
     },
     "execution_count": 29,
     "metadata": {},
     "output_type": "execute_result"
    }
   ],
   "source": [
    "df_algo.dtypes"
   ]
  },
  {
   "cell_type": "code",
   "execution_count": 30,
   "metadata": {},
   "outputs": [],
   "source": [
    "def compare_table(df1, df2, columns) -> pd.DataFrame():\n",
    "    \n",
    "    return pd.merge(df1, df2, on=columns, how='outer', indicator=True).query(\"_merge != 'both'\")"
   ]
  },
  {
   "cell_type": "code",
   "execution_count": 31,
   "metadata": {},
   "outputs": [],
   "source": [
    "final_result = {\"field\": [], \"value_not_same\": []}\n",
    "for i in range(3, len(final_column)):\n",
    "    check_columns = [\"SECURITY_CODE\", 'YEAR', 'QUARTER', final_column[i]]\n",
    "    result = compare_table(\n",
    "        df1=df_sql[check_columns], \n",
    "        df2=df_algo[check_columns], \n",
    "        columns=check_columns)\n",
    "    \n",
    "    value_not_same = len(result)/(len(df_algo) + len(df_sql))*100\n",
    "    \n",
    "    final_result[\"field\"].append(final_column[i])\n",
    "    final_result[\"value_not_same\"].append(value_not_same)"
   ]
  },
  {
   "cell_type": "code",
   "execution_count": 32,
   "metadata": {},
   "outputs": [],
   "source": [
    "df = pd.DataFrame(final_result)"
   ]
  },
  {
   "cell_type": "code",
   "execution_count": 33,
   "metadata": {},
   "outputs": [],
   "source": [
    "df.to_excel(result_pathlink+\"/check_cbs.xlsx\")"
   ]
  },
  {
   "cell_type": "code",
   "execution_count": null,
   "metadata": {},
   "outputs": [],
   "source": []
  }
 ],
 "metadata": {
  "kernelspec": {
   "display_name": "quant_p",
   "language": "python",
   "name": "python3"
  },
  "language_info": {
   "codemirror_mode": {
    "name": "ipython",
    "version": 3
   },
   "file_extension": ".py",
   "mimetype": "text/x-python",
   "name": "python",
   "nbconvert_exporter": "python",
   "pygments_lexer": "ipython3",
   "version": "3.11.2"
  },
  "orig_nbformat": 4
 },
 "nbformat": 4,
 "nbformat_minor": 2
}
