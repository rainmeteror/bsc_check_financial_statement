{
 "cells": [
  {
   "cell_type": "code",
   "execution_count": 1,
   "metadata": {},
   "outputs": [],
   "source": [
    "import pandas as pd\n",
    "import numpy as np\n",
    "from check_py import check_bank_bs as bbs"
   ]
  },
  {
   "cell_type": "code",
   "execution_count": 2,
   "metadata": {},
   "outputs": [],
   "source": [
    "df = pd.read_excel(r\"OneDrive_1_5-29-2023/bank/algo_bbs.xlsx\")"
   ]
  },
  {
   "cell_type": "code",
   "execution_count": 3,
   "metadata": {},
   "outputs": [
    {
     "data": {
      "text/html": [
       "<div>\n",
       "<style scoped>\n",
       "    .dataframe tbody tr th:only-of-type {\n",
       "        vertical-align: middle;\n",
       "    }\n",
       "\n",
       "    .dataframe tbody tr th {\n",
       "        vertical-align: top;\n",
       "    }\n",
       "\n",
       "    .dataframe thead th {\n",
       "        text-align: right;\n",
       "    }\n",
       "</style>\n",
       "<table border=\"1\" class=\"dataframe\">\n",
       "  <thead>\n",
       "    <tr style=\"text-align: right;\">\n",
       "      <th></th>\n",
       "      <th>Unnamed: 0</th>\n",
       "      <th>SCN</th>\n",
       "      <th>REPORT_DATE</th>\n",
       "      <th>REPORTED_DATE</th>\n",
       "      <th>FREQ_CODE</th>\n",
       "      <th>SECURITY_CODE</th>\n",
       "      <th>AUDITED</th>\n",
       "      <th>MONTH_IN_PERIOD</th>\n",
       "      <th>BBS_100</th>\n",
       "      <th>BBS_110</th>\n",
       "      <th>...</th>\n",
       "      <th>BBS_213</th>\n",
       "      <th>BBS_300</th>\n",
       "      <th>BBS_371</th>\n",
       "      <th>BBS_372</th>\n",
       "      <th>BBS_373</th>\n",
       "      <th>BBS_379</th>\n",
       "      <th>BBS_910</th>\n",
       "      <th>BBS_920</th>\n",
       "      <th>CREATED_DATE</th>\n",
       "      <th>UPDATED_DATE</th>\n",
       "    </tr>\n",
       "  </thead>\n",
       "  <tbody>\n",
       "    <tr>\n",
       "      <th>0</th>\n",
       "      <td>0</td>\n",
       "      <td>52573</td>\n",
       "      <td>2020-03-31</td>\n",
       "      <td>NaT</td>\n",
       "      <td>Q</td>\n",
       "      <td>ABB</td>\n",
       "      <td>N</td>\n",
       "      <td>3.0</td>\n",
       "      <td>95371467185404</td>\n",
       "      <td>582821249055</td>\n",
       "      <td>...</td>\n",
       "      <td>NaN</td>\n",
       "      <td>NaN</td>\n",
       "      <td>NaN</td>\n",
       "      <td>NaN</td>\n",
       "      <td>NaN</td>\n",
       "      <td>NaN</td>\n",
       "      <td>NaN</td>\n",
       "      <td>NaN</td>\n",
       "      <td>2021-06-27 04:43:39.860</td>\n",
       "      <td>2021-06-27 04:43:39.860</td>\n",
       "    </tr>\n",
       "    <tr>\n",
       "      <th>1</th>\n",
       "      <td>1</td>\n",
       "      <td>52573</td>\n",
       "      <td>2020-03-31</td>\n",
       "      <td>NaT</td>\n",
       "      <td>Q</td>\n",
       "      <td>ACB</td>\n",
       "      <td>N</td>\n",
       "      <td>3.0</td>\n",
       "      <td>387396053000000</td>\n",
       "      <td>5466150000000</td>\n",
       "      <td>...</td>\n",
       "      <td>NaN</td>\n",
       "      <td>NaN</td>\n",
       "      <td>NaN</td>\n",
       "      <td>NaN</td>\n",
       "      <td>NaN</td>\n",
       "      <td>NaN</td>\n",
       "      <td>NaN</td>\n",
       "      <td>NaN</td>\n",
       "      <td>2021-06-27 04:43:39.860</td>\n",
       "      <td>2021-06-27 04:43:39.860</td>\n",
       "    </tr>\n",
       "    <tr>\n",
       "      <th>2</th>\n",
       "      <td>2</td>\n",
       "      <td>52573</td>\n",
       "      <td>2020-03-31</td>\n",
       "      <td>NaT</td>\n",
       "      <td>Q</td>\n",
       "      <td>BAB</td>\n",
       "      <td>N</td>\n",
       "      <td>3.0</td>\n",
       "      <td>109828721000000</td>\n",
       "      <td>555459000000</td>\n",
       "      <td>...</td>\n",
       "      <td>NaN</td>\n",
       "      <td>NaN</td>\n",
       "      <td>NaN</td>\n",
       "      <td>NaN</td>\n",
       "      <td>NaN</td>\n",
       "      <td>NaN</td>\n",
       "      <td>NaN</td>\n",
       "      <td>NaN</td>\n",
       "      <td>2021-06-27 04:43:39.860</td>\n",
       "      <td>2021-06-27 04:43:39.860</td>\n",
       "    </tr>\n",
       "    <tr>\n",
       "      <th>3</th>\n",
       "      <td>3</td>\n",
       "      <td>52573</td>\n",
       "      <td>2020-03-31</td>\n",
       "      <td>NaT</td>\n",
       "      <td>Q</td>\n",
       "      <td>BAOVIETBANK</td>\n",
       "      <td>N</td>\n",
       "      <td>3.0</td>\n",
       "      <td>47690209106424</td>\n",
       "      <td>129123967815</td>\n",
       "      <td>...</td>\n",
       "      <td>NaN</td>\n",
       "      <td>NaN</td>\n",
       "      <td>NaN</td>\n",
       "      <td>NaN</td>\n",
       "      <td>NaN</td>\n",
       "      <td>NaN</td>\n",
       "      <td>NaN</td>\n",
       "      <td>NaN</td>\n",
       "      <td>2021-06-27 04:43:39.860</td>\n",
       "      <td>2021-06-27 04:43:39.860</td>\n",
       "    </tr>\n",
       "    <tr>\n",
       "      <th>4</th>\n",
       "      <td>4</td>\n",
       "      <td>52573</td>\n",
       "      <td>2020-03-31</td>\n",
       "      <td>NaT</td>\n",
       "      <td>Q</td>\n",
       "      <td>BID</td>\n",
       "      <td>N</td>\n",
       "      <td>3.0</td>\n",
       "      <td>1446044081000000</td>\n",
       "      <td>9097015000000</td>\n",
       "      <td>...</td>\n",
       "      <td>NaN</td>\n",
       "      <td>NaN</td>\n",
       "      <td>NaN</td>\n",
       "      <td>NaN</td>\n",
       "      <td>NaN</td>\n",
       "      <td>NaN</td>\n",
       "      <td>NaN</td>\n",
       "      <td>NaN</td>\n",
       "      <td>2021-06-27 04:43:39.860</td>\n",
       "      <td>2021-06-27 04:43:39.860</td>\n",
       "    </tr>\n",
       "    <tr>\n",
       "      <th>...</th>\n",
       "      <td>...</td>\n",
       "      <td>...</td>\n",
       "      <td>...</td>\n",
       "      <td>...</td>\n",
       "      <td>...</td>\n",
       "      <td>...</td>\n",
       "      <td>...</td>\n",
       "      <td>...</td>\n",
       "      <td>...</td>\n",
       "      <td>...</td>\n",
       "      <td>...</td>\n",
       "      <td>...</td>\n",
       "      <td>...</td>\n",
       "      <td>...</td>\n",
       "      <td>...</td>\n",
       "      <td>...</td>\n",
       "      <td>...</td>\n",
       "      <td>...</td>\n",
       "      <td>...</td>\n",
       "      <td>...</td>\n",
       "      <td>...</td>\n",
       "    </tr>\n",
       "    <tr>\n",
       "      <th>497</th>\n",
       "      <td>497</td>\n",
       "      <td>43431121</td>\n",
       "      <td>2023-03-31</td>\n",
       "      <td>NaT</td>\n",
       "      <td>Q</td>\n",
       "      <td>VAB</td>\n",
       "      <td>N</td>\n",
       "      <td>3.0</td>\n",
       "      <td>94791523177439</td>\n",
       "      <td>336463275760</td>\n",
       "      <td>...</td>\n",
       "      <td>NaN</td>\n",
       "      <td>NaN</td>\n",
       "      <td>NaN</td>\n",
       "      <td>NaN</td>\n",
       "      <td>NaN</td>\n",
       "      <td>NaN</td>\n",
       "      <td>NaN</td>\n",
       "      <td>NaN</td>\n",
       "      <td>2023-04-28 09:28:16.813</td>\n",
       "      <td>2023-04-28 09:28:16.813</td>\n",
       "    </tr>\n",
       "    <tr>\n",
       "      <th>498</th>\n",
       "      <td>498</td>\n",
       "      <td>43372908</td>\n",
       "      <td>2022-12-31</td>\n",
       "      <td>NaT</td>\n",
       "      <td>Y</td>\n",
       "      <td>STB</td>\n",
       "      <td>Y</td>\n",
       "      <td>12.0</td>\n",
       "      <td>591907695000000</td>\n",
       "      <td>7849898000000</td>\n",
       "      <td>...</td>\n",
       "      <td>NaN</td>\n",
       "      <td>NaN</td>\n",
       "      <td>NaN</td>\n",
       "      <td>NaN</td>\n",
       "      <td>NaN</td>\n",
       "      <td>NaN</td>\n",
       "      <td>NaN</td>\n",
       "      <td>NaN</td>\n",
       "      <td>2023-01-30 15:49:03.242</td>\n",
       "      <td>2023-03-31 16:39:59.317</td>\n",
       "    </tr>\n",
       "    <tr>\n",
       "      <th>499</th>\n",
       "      <td>499</td>\n",
       "      <td>43434290</td>\n",
       "      <td>2023-03-31</td>\n",
       "      <td>NaT</td>\n",
       "      <td>Q</td>\n",
       "      <td>CTG</td>\n",
       "      <td>N</td>\n",
       "      <td>3.0</td>\n",
       "      <td>1823962183000000</td>\n",
       "      <td>10509894000000</td>\n",
       "      <td>...</td>\n",
       "      <td>NaN</td>\n",
       "      <td>NaN</td>\n",
       "      <td>NaN</td>\n",
       "      <td>NaN</td>\n",
       "      <td>NaN</td>\n",
       "      <td>NaN</td>\n",
       "      <td>NaN</td>\n",
       "      <td>NaN</td>\n",
       "      <td>2023-05-03 00:55:17.547</td>\n",
       "      <td>2023-05-03 00:55:17.547</td>\n",
       "    </tr>\n",
       "    <tr>\n",
       "      <th>500</th>\n",
       "      <td>500</td>\n",
       "      <td>43433379</td>\n",
       "      <td>2023-03-31</td>\n",
       "      <td>NaT</td>\n",
       "      <td>Q</td>\n",
       "      <td>HDB</td>\n",
       "      <td>N</td>\n",
       "      <td>3.0</td>\n",
       "      <td>458802678000000</td>\n",
       "      <td>2691430000000</td>\n",
       "      <td>...</td>\n",
       "      <td>NaN</td>\n",
       "      <td>NaN</td>\n",
       "      <td>NaN</td>\n",
       "      <td>NaN</td>\n",
       "      <td>NaN</td>\n",
       "      <td>NaN</td>\n",
       "      <td>NaN</td>\n",
       "      <td>NaN</td>\n",
       "      <td>2023-04-29 17:49:17.445</td>\n",
       "      <td>2023-04-29 17:49:17.445</td>\n",
       "    </tr>\n",
       "    <tr>\n",
       "      <th>501</th>\n",
       "      <td>501</td>\n",
       "      <td>43433554</td>\n",
       "      <td>2023-03-31</td>\n",
       "      <td>NaT</td>\n",
       "      <td>Q</td>\n",
       "      <td>MSB</td>\n",
       "      <td>N</td>\n",
       "      <td>3.0</td>\n",
       "      <td>235473188000000</td>\n",
       "      <td>1217649000000</td>\n",
       "      <td>...</td>\n",
       "      <td>NaN</td>\n",
       "      <td>NaN</td>\n",
       "      <td>NaN</td>\n",
       "      <td>NaN</td>\n",
       "      <td>NaN</td>\n",
       "      <td>NaN</td>\n",
       "      <td>NaN</td>\n",
       "      <td>NaN</td>\n",
       "      <td>2023-04-30 15:53:44.659</td>\n",
       "      <td>2023-04-30 15:53:44.659</td>\n",
       "    </tr>\n",
       "  </tbody>\n",
       "</table>\n",
       "<p>502 rows × 110 columns</p>\n",
       "</div>"
      ],
      "text/plain": [
       "     Unnamed: 0       SCN REPORT_DATE REPORTED_DATE FREQ_CODE SECURITY_CODE   \n",
       "0             0     52573  2020-03-31           NaT         Q           ABB  \\\n",
       "1             1     52573  2020-03-31           NaT         Q           ACB   \n",
       "2             2     52573  2020-03-31           NaT         Q           BAB   \n",
       "3             3     52573  2020-03-31           NaT         Q   BAOVIETBANK   \n",
       "4             4     52573  2020-03-31           NaT         Q           BID   \n",
       "..          ...       ...         ...           ...       ...           ...   \n",
       "497         497  43431121  2023-03-31           NaT         Q           VAB   \n",
       "498         498  43372908  2022-12-31           NaT         Y           STB   \n",
       "499         499  43434290  2023-03-31           NaT         Q           CTG   \n",
       "500         500  43433379  2023-03-31           NaT         Q           HDB   \n",
       "501         501  43433554  2023-03-31           NaT         Q           MSB   \n",
       "\n",
       "    AUDITED  MONTH_IN_PERIOD           BBS_100         BBS_110  ...  BBS_213   \n",
       "0         N              3.0    95371467185404    582821249055  ...      NaN  \\\n",
       "1         N              3.0   387396053000000   5466150000000  ...      NaN   \n",
       "2         N              3.0   109828721000000    555459000000  ...      NaN   \n",
       "3         N              3.0    47690209106424    129123967815  ...      NaN   \n",
       "4         N              3.0  1446044081000000   9097015000000  ...      NaN   \n",
       "..      ...              ...               ...             ...  ...      ...   \n",
       "497       N              3.0    94791523177439    336463275760  ...      NaN   \n",
       "498       Y             12.0   591907695000000   7849898000000  ...      NaN   \n",
       "499       N              3.0  1823962183000000  10509894000000  ...      NaN   \n",
       "500       N              3.0   458802678000000   2691430000000  ...      NaN   \n",
       "501       N              3.0   235473188000000   1217649000000  ...      NaN   \n",
       "\n",
       "     BBS_300  BBS_371  BBS_372  BBS_373  BBS_379  BBS_910  BBS_920   \n",
       "0        NaN      NaN      NaN      NaN      NaN      NaN      NaN  \\\n",
       "1        NaN      NaN      NaN      NaN      NaN      NaN      NaN   \n",
       "2        NaN      NaN      NaN      NaN      NaN      NaN      NaN   \n",
       "3        NaN      NaN      NaN      NaN      NaN      NaN      NaN   \n",
       "4        NaN      NaN      NaN      NaN      NaN      NaN      NaN   \n",
       "..       ...      ...      ...      ...      ...      ...      ...   \n",
       "497      NaN      NaN      NaN      NaN      NaN      NaN      NaN   \n",
       "498      NaN      NaN      NaN      NaN      NaN      NaN      NaN   \n",
       "499      NaN      NaN      NaN      NaN      NaN      NaN      NaN   \n",
       "500      NaN      NaN      NaN      NaN      NaN      NaN      NaN   \n",
       "501      NaN      NaN      NaN      NaN      NaN      NaN      NaN   \n",
       "\n",
       "               CREATED_DATE            UPDATED_DATE  \n",
       "0   2021-06-27 04:43:39.860 2021-06-27 04:43:39.860  \n",
       "1   2021-06-27 04:43:39.860 2021-06-27 04:43:39.860  \n",
       "2   2021-06-27 04:43:39.860 2021-06-27 04:43:39.860  \n",
       "3   2021-06-27 04:43:39.860 2021-06-27 04:43:39.860  \n",
       "4   2021-06-27 04:43:39.860 2021-06-27 04:43:39.860  \n",
       "..                      ...                     ...  \n",
       "497 2023-04-28 09:28:16.813 2023-04-28 09:28:16.813  \n",
       "498 2023-01-30 15:49:03.242 2023-03-31 16:39:59.317  \n",
       "499 2023-05-03 00:55:17.547 2023-05-03 00:55:17.547  \n",
       "500 2023-04-29 17:49:17.445 2023-04-29 17:49:17.445  \n",
       "501 2023-04-30 15:53:44.659 2023-04-30 15:53:44.659  \n",
       "\n",
       "[502 rows x 110 columns]"
      ]
     },
     "execution_count": 3,
     "metadata": {},
     "output_type": "execute_result"
    }
   ],
   "source": [
    "df"
   ]
  },
  {
   "cell_type": "code",
   "execution_count": 4,
   "metadata": {},
   "outputs": [
    {
     "name": "stdout",
     "output_type": "stream",
     "text": [
      "CHECK ITEM & SUB-ITEMS BBS_100\n"
     ]
    },
    {
     "data": {
      "text/html": [
       "<div>\n",
       "<style scoped>\n",
       "    .dataframe tbody tr th:only-of-type {\n",
       "        vertical-align: middle;\n",
       "    }\n",
       "\n",
       "    .dataframe tbody tr th {\n",
       "        vertical-align: top;\n",
       "    }\n",
       "\n",
       "    .dataframe thead th {\n",
       "        text-align: right;\n",
       "    }\n",
       "</style>\n",
       "<table border=\"1\" class=\"dataframe\">\n",
       "  <thead>\n",
       "    <tr style=\"text-align: right;\">\n",
       "      <th></th>\n",
       "      <th>SECURITY_CODE</th>\n",
       "      <th>REPORT_DATE</th>\n",
       "      <th>FREQ_CODE</th>\n",
       "      <th>AUDITED</th>\n",
       "      <th>BBS_100</th>\n",
       "      <th>BBS_110</th>\n",
       "      <th>BBS_120</th>\n",
       "      <th>BBS_130</th>\n",
       "      <th>BBS_140</th>\n",
       "      <th>BBS_150</th>\n",
       "      <th>BBS_160</th>\n",
       "      <th>BBS_180</th>\n",
       "      <th>BBS_170</th>\n",
       "      <th>BBS_210</th>\n",
       "      <th>BBS_220</th>\n",
       "      <th>BBS_240</th>\n",
       "      <th>BBS_250</th>\n",
       "    </tr>\n",
       "  </thead>\n",
       "  <tbody>\n",
       "  </tbody>\n",
       "</table>\n",
       "</div>"
      ],
      "text/plain": [
       "Empty DataFrame\n",
       "Columns: [SECURITY_CODE, REPORT_DATE, FREQ_CODE, AUDITED, BBS_100, BBS_110, BBS_120, BBS_130, BBS_140, BBS_150, BBS_160, BBS_180, BBS_170, BBS_210, BBS_220, BBS_240, BBS_250]\n",
       "Index: []"
      ]
     },
     "execution_count": 4,
     "metadata": {},
     "output_type": "execute_result"
    }
   ],
   "source": [
    "bbs.check_bbs_100(df=df)"
   ]
  },
  {
   "cell_type": "code",
   "execution_count": 5,
   "metadata": {},
   "outputs": [
    {
     "name": "stdout",
     "output_type": "stream",
     "text": [
      "CHECK ITEM & SUB-ITEMS BBS_130\n"
     ]
    },
    {
     "data": {
      "text/html": [
       "<div>\n",
       "<style scoped>\n",
       "    .dataframe tbody tr th:only-of-type {\n",
       "        vertical-align: middle;\n",
       "    }\n",
       "\n",
       "    .dataframe tbody tr th {\n",
       "        vertical-align: top;\n",
       "    }\n",
       "\n",
       "    .dataframe thead th {\n",
       "        text-align: right;\n",
       "    }\n",
       "</style>\n",
       "<table border=\"1\" class=\"dataframe\">\n",
       "  <thead>\n",
       "    <tr style=\"text-align: right;\">\n",
       "      <th></th>\n",
       "      <th>SECURITY_CODE</th>\n",
       "      <th>REPORT_DATE</th>\n",
       "      <th>FREQ_CODE</th>\n",
       "      <th>AUDITED</th>\n",
       "      <th>BBS_130</th>\n",
       "      <th>BBS_131</th>\n",
       "      <th>BBS_132</th>\n",
       "      <th>BBS_139</th>\n",
       "    </tr>\n",
       "  </thead>\n",
       "  <tbody>\n",
       "  </tbody>\n",
       "</table>\n",
       "</div>"
      ],
      "text/plain": [
       "Empty DataFrame\n",
       "Columns: [SECURITY_CODE, REPORT_DATE, FREQ_CODE, AUDITED, BBS_130, BBS_131, BBS_132, BBS_139]\n",
       "Index: []"
      ]
     },
     "execution_count": 5,
     "metadata": {},
     "output_type": "execute_result"
    }
   ],
   "source": [
    "bbs.check_bbs_130(df=df)"
   ]
  },
  {
   "cell_type": "code",
   "execution_count": 6,
   "metadata": {},
   "outputs": [
    {
     "name": "stdout",
     "output_type": "stream",
     "text": [
      "CHECK ITEM & SUB-ITEMS BBS_140\n"
     ]
    },
    {
     "data": {
      "text/html": [
       "<div>\n",
       "<style scoped>\n",
       "    .dataframe tbody tr th:only-of-type {\n",
       "        vertical-align: middle;\n",
       "    }\n",
       "\n",
       "    .dataframe tbody tr th {\n",
       "        vertical-align: top;\n",
       "    }\n",
       "\n",
       "    .dataframe thead th {\n",
       "        text-align: right;\n",
       "    }\n",
       "</style>\n",
       "<table border=\"1\" class=\"dataframe\">\n",
       "  <thead>\n",
       "    <tr style=\"text-align: right;\">\n",
       "      <th></th>\n",
       "      <th>SECURITY_CODE</th>\n",
       "      <th>REPORT_DATE</th>\n",
       "      <th>FREQ_CODE</th>\n",
       "      <th>AUDITED</th>\n",
       "      <th>BBS_140</th>\n",
       "      <th>BBS_141</th>\n",
       "      <th>BBS_149</th>\n",
       "    </tr>\n",
       "  </thead>\n",
       "  <tbody>\n",
       "  </tbody>\n",
       "</table>\n",
       "</div>"
      ],
      "text/plain": [
       "Empty DataFrame\n",
       "Columns: [SECURITY_CODE, REPORT_DATE, FREQ_CODE, AUDITED, BBS_140, BBS_141, BBS_149]\n",
       "Index: []"
      ]
     },
     "execution_count": 6,
     "metadata": {},
     "output_type": "execute_result"
    }
   ],
   "source": [
    "bbs.check_bbs_140(df=df)"
   ]
  },
  {
   "cell_type": "code",
   "execution_count": 7,
   "metadata": {},
   "outputs": [
    {
     "name": "stdout",
     "output_type": "stream",
     "text": [
      "CHECK ITEM & SUB-ITEMS BBS_160\n"
     ]
    },
    {
     "data": {
      "text/html": [
       "<div>\n",
       "<style scoped>\n",
       "    .dataframe tbody tr th:only-of-type {\n",
       "        vertical-align: middle;\n",
       "    }\n",
       "\n",
       "    .dataframe tbody tr th {\n",
       "        vertical-align: top;\n",
       "    }\n",
       "\n",
       "    .dataframe thead th {\n",
       "        text-align: right;\n",
       "    }\n",
       "</style>\n",
       "<table border=\"1\" class=\"dataframe\">\n",
       "  <thead>\n",
       "    <tr style=\"text-align: right;\">\n",
       "      <th></th>\n",
       "      <th>SECURITY_CODE</th>\n",
       "      <th>REPORT_DATE</th>\n",
       "      <th>FREQ_CODE</th>\n",
       "      <th>AUDITED</th>\n",
       "      <th>BBS_160</th>\n",
       "      <th>BBS_161</th>\n",
       "      <th>BBS_169</th>\n",
       "    </tr>\n",
       "  </thead>\n",
       "  <tbody>\n",
       "  </tbody>\n",
       "</table>\n",
       "</div>"
      ],
      "text/plain": [
       "Empty DataFrame\n",
       "Columns: [SECURITY_CODE, REPORT_DATE, FREQ_CODE, AUDITED, BBS_160, BBS_161, BBS_169]\n",
       "Index: []"
      ]
     },
     "execution_count": 7,
     "metadata": {},
     "output_type": "execute_result"
    }
   ],
   "source": [
    "bbs.check_bbs_160(df=df)"
   ]
  },
  {
   "cell_type": "code",
   "execution_count": 8,
   "metadata": {},
   "outputs": [
    {
     "name": "stdout",
     "output_type": "stream",
     "text": [
      "CHECK ITEM & SUB-ITEMS BBS_170\n"
     ]
    },
    {
     "data": {
      "text/html": [
       "<div>\n",
       "<style scoped>\n",
       "    .dataframe tbody tr th:only-of-type {\n",
       "        vertical-align: middle;\n",
       "    }\n",
       "\n",
       "    .dataframe tbody tr th {\n",
       "        vertical-align: top;\n",
       "    }\n",
       "\n",
       "    .dataframe thead th {\n",
       "        text-align: right;\n",
       "    }\n",
       "</style>\n",
       "<table border=\"1\" class=\"dataframe\">\n",
       "  <thead>\n",
       "    <tr style=\"text-align: right;\">\n",
       "      <th></th>\n",
       "      <th>SECURITY_CODE</th>\n",
       "      <th>REPORT_DATE</th>\n",
       "      <th>FREQ_CODE</th>\n",
       "      <th>AUDITED</th>\n",
       "      <th>BBS_170</th>\n",
       "      <th>BBS_171</th>\n",
       "      <th>BBS_172</th>\n",
       "      <th>BBS_179</th>\n",
       "    </tr>\n",
       "  </thead>\n",
       "  <tbody>\n",
       "  </tbody>\n",
       "</table>\n",
       "</div>"
      ],
      "text/plain": [
       "Empty DataFrame\n",
       "Columns: [SECURITY_CODE, REPORT_DATE, FREQ_CODE, AUDITED, BBS_170, BBS_171, BBS_172, BBS_179]\n",
       "Index: []"
      ]
     },
     "execution_count": 8,
     "metadata": {},
     "output_type": "execute_result"
    }
   ],
   "source": [
    "bbs.check_bbs_170(df=df)"
   ]
  },
  {
   "cell_type": "code",
   "execution_count": 9,
   "metadata": {},
   "outputs": [
    {
     "name": "stdout",
     "output_type": "stream",
     "text": [
      "CHECK ITEM & SUB-ITEMS BBS_210\n"
     ]
    },
    {
     "data": {
      "text/html": [
       "<div>\n",
       "<style scoped>\n",
       "    .dataframe tbody tr th:only-of-type {\n",
       "        vertical-align: middle;\n",
       "    }\n",
       "\n",
       "    .dataframe tbody tr th {\n",
       "        vertical-align: top;\n",
       "    }\n",
       "\n",
       "    .dataframe thead th {\n",
       "        text-align: right;\n",
       "    }\n",
       "</style>\n",
       "<table border=\"1\" class=\"dataframe\">\n",
       "  <thead>\n",
       "    <tr style=\"text-align: right;\">\n",
       "      <th></th>\n",
       "      <th>SECURITY_CODE</th>\n",
       "      <th>REPORT_DATE</th>\n",
       "      <th>FREQ_CODE</th>\n",
       "      <th>AUDITED</th>\n",
       "      <th>BBS_210</th>\n",
       "      <th>BBS_211</th>\n",
       "      <th>BBS_212</th>\n",
       "      <th>BBS_214</th>\n",
       "      <th>BBS_219</th>\n",
       "    </tr>\n",
       "  </thead>\n",
       "  <tbody>\n",
       "  </tbody>\n",
       "</table>\n",
       "</div>"
      ],
      "text/plain": [
       "Empty DataFrame\n",
       "Columns: [SECURITY_CODE, REPORT_DATE, FREQ_CODE, AUDITED, BBS_210, BBS_211, BBS_212, BBS_214, BBS_219]\n",
       "Index: []"
      ]
     },
     "execution_count": 9,
     "metadata": {},
     "output_type": "execute_result"
    }
   ],
   "source": [
    "bbs.check_bbs_210(df=df)"
   ]
  },
  {
   "cell_type": "code",
   "execution_count": 10,
   "metadata": {},
   "outputs": [
    {
     "name": "stdout",
     "output_type": "stream",
     "text": [
      "CHECK ITEM & SUB-ITEMS BBS_221\n"
     ]
    },
    {
     "data": {
      "text/html": [
       "<div>\n",
       "<style scoped>\n",
       "    .dataframe tbody tr th:only-of-type {\n",
       "        vertical-align: middle;\n",
       "    }\n",
       "\n",
       "    .dataframe tbody tr th {\n",
       "        vertical-align: top;\n",
       "    }\n",
       "\n",
       "    .dataframe thead th {\n",
       "        text-align: right;\n",
       "    }\n",
       "</style>\n",
       "<table border=\"1\" class=\"dataframe\">\n",
       "  <thead>\n",
       "    <tr style=\"text-align: right;\">\n",
       "      <th></th>\n",
       "      <th>SECURITY_CODE</th>\n",
       "      <th>REPORT_DATE</th>\n",
       "      <th>FREQ_CODE</th>\n",
       "      <th>AUDITED</th>\n",
       "      <th>BBS_221</th>\n",
       "      <th>BBS_222</th>\n",
       "      <th>BBS_223</th>\n",
       "    </tr>\n",
       "  </thead>\n",
       "  <tbody>\n",
       "  </tbody>\n",
       "</table>\n",
       "</div>"
      ],
      "text/plain": [
       "Empty DataFrame\n",
       "Columns: [SECURITY_CODE, REPORT_DATE, FREQ_CODE, AUDITED, BBS_221, BBS_222, BBS_223]\n",
       "Index: []"
      ]
     },
     "execution_count": 10,
     "metadata": {},
     "output_type": "execute_result"
    }
   ],
   "source": [
    "bbs.check_bbs_221(df=df)"
   ]
  },
  {
   "cell_type": "code",
   "execution_count": 11,
   "metadata": {},
   "outputs": [
    {
     "name": "stdout",
     "output_type": "stream",
     "text": [
      "CHECK ITEM & SUB-ITEMS BBS_224\n"
     ]
    },
    {
     "data": {
      "text/html": [
       "<div>\n",
       "<style scoped>\n",
       "    .dataframe tbody tr th:only-of-type {\n",
       "        vertical-align: middle;\n",
       "    }\n",
       "\n",
       "    .dataframe tbody tr th {\n",
       "        vertical-align: top;\n",
       "    }\n",
       "\n",
       "    .dataframe thead th {\n",
       "        text-align: right;\n",
       "    }\n",
       "</style>\n",
       "<table border=\"1\" class=\"dataframe\">\n",
       "  <thead>\n",
       "    <tr style=\"text-align: right;\">\n",
       "      <th></th>\n",
       "      <th>SECURITY_CODE</th>\n",
       "      <th>REPORT_DATE</th>\n",
       "      <th>FREQ_CODE</th>\n",
       "      <th>AUDITED</th>\n",
       "      <th>BBS_224</th>\n",
       "      <th>BBS_225</th>\n",
       "      <th>BBS_226</th>\n",
       "    </tr>\n",
       "  </thead>\n",
       "  <tbody>\n",
       "  </tbody>\n",
       "</table>\n",
       "</div>"
      ],
      "text/plain": [
       "Empty DataFrame\n",
       "Columns: [SECURITY_CODE, REPORT_DATE, FREQ_CODE, AUDITED, BBS_224, BBS_225, BBS_226]\n",
       "Index: []"
      ]
     },
     "execution_count": 11,
     "metadata": {},
     "output_type": "execute_result"
    }
   ],
   "source": [
    "bbs.check_bbs_224(df=df)"
   ]
  },
  {
   "cell_type": "code",
   "execution_count": 12,
   "metadata": {},
   "outputs": [
    {
     "name": "stdout",
     "output_type": "stream",
     "text": [
      "CHECK ITEM & SUB-ITEMS BBS_227\n"
     ]
    },
    {
     "data": {
      "text/html": [
       "<div>\n",
       "<style scoped>\n",
       "    .dataframe tbody tr th:only-of-type {\n",
       "        vertical-align: middle;\n",
       "    }\n",
       "\n",
       "    .dataframe tbody tr th {\n",
       "        vertical-align: top;\n",
       "    }\n",
       "\n",
       "    .dataframe thead th {\n",
       "        text-align: right;\n",
       "    }\n",
       "</style>\n",
       "<table border=\"1\" class=\"dataframe\">\n",
       "  <thead>\n",
       "    <tr style=\"text-align: right;\">\n",
       "      <th></th>\n",
       "      <th>SECURITY_CODE</th>\n",
       "      <th>REPORT_DATE</th>\n",
       "      <th>FREQ_CODE</th>\n",
       "      <th>AUDITED</th>\n",
       "      <th>BBS_227</th>\n",
       "      <th>BBS_228</th>\n",
       "      <th>BBS_229</th>\n",
       "    </tr>\n",
       "  </thead>\n",
       "  <tbody>\n",
       "  </tbody>\n",
       "</table>\n",
       "</div>"
      ],
      "text/plain": [
       "Empty DataFrame\n",
       "Columns: [SECURITY_CODE, REPORT_DATE, FREQ_CODE, AUDITED, BBS_227, BBS_228, BBS_229]\n",
       "Index: []"
      ]
     },
     "execution_count": 12,
     "metadata": {},
     "output_type": "execute_result"
    }
   ],
   "source": [
    "bbs.check_bbs_227(df=df)"
   ]
  },
  {
   "cell_type": "code",
   "execution_count": 13,
   "metadata": {},
   "outputs": [
    {
     "name": "stdout",
     "output_type": "stream",
     "text": [
      "CHECK ITEM & SUB-ITEMS BBS_240\n"
     ]
    },
    {
     "data": {
      "text/html": [
       "<div>\n",
       "<style scoped>\n",
       "    .dataframe tbody tr th:only-of-type {\n",
       "        vertical-align: middle;\n",
       "    }\n",
       "\n",
       "    .dataframe tbody tr th {\n",
       "        vertical-align: top;\n",
       "    }\n",
       "\n",
       "    .dataframe thead th {\n",
       "        text-align: right;\n",
       "    }\n",
       "</style>\n",
       "<table border=\"1\" class=\"dataframe\">\n",
       "  <thead>\n",
       "    <tr style=\"text-align: right;\">\n",
       "      <th></th>\n",
       "      <th>SECURITY_CODE</th>\n",
       "      <th>REPORT_DATE</th>\n",
       "      <th>FREQ_CODE</th>\n",
       "      <th>AUDITED</th>\n",
       "      <th>BBS_240</th>\n",
       "      <th>BBS_241</th>\n",
       "      <th>BBS_242</th>\n",
       "    </tr>\n",
       "  </thead>\n",
       "  <tbody>\n",
       "  </tbody>\n",
       "</table>\n",
       "</div>"
      ],
      "text/plain": [
       "Empty DataFrame\n",
       "Columns: [SECURITY_CODE, REPORT_DATE, FREQ_CODE, AUDITED, BBS_240, BBS_241, BBS_242]\n",
       "Index: []"
      ]
     },
     "execution_count": 13,
     "metadata": {},
     "output_type": "execute_result"
    }
   ],
   "source": [
    "bbs.check_bbs_240(df=df)"
   ]
  },
  {
   "cell_type": "code",
   "execution_count": 14,
   "metadata": {},
   "outputs": [
    {
     "name": "stdout",
     "output_type": "stream",
     "text": [
      "CHECK ITEM & SUB-ITEMS BBS_250\n"
     ]
    },
    {
     "data": {
      "text/html": [
       "<div>\n",
       "<style scoped>\n",
       "    .dataframe tbody tr th:only-of-type {\n",
       "        vertical-align: middle;\n",
       "    }\n",
       "\n",
       "    .dataframe tbody tr th {\n",
       "        vertical-align: top;\n",
       "    }\n",
       "\n",
       "    .dataframe thead th {\n",
       "        text-align: right;\n",
       "    }\n",
       "</style>\n",
       "<table border=\"1\" class=\"dataframe\">\n",
       "  <thead>\n",
       "    <tr style=\"text-align: right;\">\n",
       "      <th></th>\n",
       "      <th>SECURITY_CODE</th>\n",
       "      <th>REPORT_DATE</th>\n",
       "      <th>FREQ_CODE</th>\n",
       "      <th>AUDITED</th>\n",
       "      <th>BBS_250</th>\n",
       "      <th>BBS_251</th>\n",
       "      <th>BBS_252</th>\n",
       "      <th>BBS_253</th>\n",
       "      <th>BBS_254</th>\n",
       "      <th>BBS_259</th>\n",
       "    </tr>\n",
       "  </thead>\n",
       "  <tbody>\n",
       "  </tbody>\n",
       "</table>\n",
       "</div>"
      ],
      "text/plain": [
       "Empty DataFrame\n",
       "Columns: [SECURITY_CODE, REPORT_DATE, FREQ_CODE, AUDITED, BBS_250, BBS_251, BBS_252, BBS_253, BBS_254, BBS_259]\n",
       "Index: []"
      ]
     },
     "execution_count": 14,
     "metadata": {},
     "output_type": "execute_result"
    }
   ],
   "source": [
    "bbs.check_bbs_250(df=df)"
   ]
  },
  {
   "cell_type": "code",
   "execution_count": 15,
   "metadata": {},
   "outputs": [
    {
     "name": "stdout",
     "output_type": "stream",
     "text": [
      "CHECK ITEM & SUB-ITEMS BBS_320\n"
     ]
    },
    {
     "data": {
      "text/html": [
       "<div>\n",
       "<style scoped>\n",
       "    .dataframe tbody tr th:only-of-type {\n",
       "        vertical-align: middle;\n",
       "    }\n",
       "\n",
       "    .dataframe tbody tr th {\n",
       "        vertical-align: top;\n",
       "    }\n",
       "\n",
       "    .dataframe thead th {\n",
       "        text-align: right;\n",
       "    }\n",
       "</style>\n",
       "<table border=\"1\" class=\"dataframe\">\n",
       "  <thead>\n",
       "    <tr style=\"text-align: right;\">\n",
       "      <th></th>\n",
       "      <th>SECURITY_CODE</th>\n",
       "      <th>REPORT_DATE</th>\n",
       "      <th>FREQ_CODE</th>\n",
       "      <th>AUDITED</th>\n",
       "      <th>BBS_320</th>\n",
       "      <th>BBS_321</th>\n",
       "      <th>BBS_322</th>\n",
       "    </tr>\n",
       "  </thead>\n",
       "  <tbody>\n",
       "  </tbody>\n",
       "</table>\n",
       "</div>"
      ],
      "text/plain": [
       "Empty DataFrame\n",
       "Columns: [SECURITY_CODE, REPORT_DATE, FREQ_CODE, AUDITED, BBS_320, BBS_321, BBS_322]\n",
       "Index: []"
      ]
     },
     "execution_count": 15,
     "metadata": {},
     "output_type": "execute_result"
    }
   ],
   "source": [
    "bbs.check_bbs_320(df=df)"
   ]
  },
  {
   "cell_type": "code",
   "execution_count": 16,
   "metadata": {},
   "outputs": [
    {
     "name": "stdout",
     "output_type": "stream",
     "text": [
      "CHECK ITEM & SUB-ITEMS BBS_400\n"
     ]
    },
    {
     "data": {
      "text/html": [
       "<div>\n",
       "<style scoped>\n",
       "    .dataframe tbody tr th:only-of-type {\n",
       "        vertical-align: middle;\n",
       "    }\n",
       "\n",
       "    .dataframe tbody tr th {\n",
       "        vertical-align: top;\n",
       "    }\n",
       "\n",
       "    .dataframe thead th {\n",
       "        text-align: right;\n",
       "    }\n",
       "</style>\n",
       "<table border=\"1\" class=\"dataframe\">\n",
       "  <thead>\n",
       "    <tr style=\"text-align: right;\">\n",
       "      <th></th>\n",
       "      <th>SECURITY_CODE</th>\n",
       "      <th>REPORT_DATE</th>\n",
       "      <th>FREQ_CODE</th>\n",
       "      <th>AUDITED</th>\n",
       "      <th>BBS_400</th>\n",
       "      <th>BBS_310</th>\n",
       "      <th>BBS_320</th>\n",
       "      <th>BBS_330</th>\n",
       "      <th>BBS_340</th>\n",
       "      <th>BBS_350</th>\n",
       "      <th>BBS_360</th>\n",
       "      <th>BBS_370</th>\n",
       "    </tr>\n",
       "  </thead>\n",
       "  <tbody>\n",
       "  </tbody>\n",
       "</table>\n",
       "</div>"
      ],
      "text/plain": [
       "Empty DataFrame\n",
       "Columns: [SECURITY_CODE, REPORT_DATE, FREQ_CODE, AUDITED, BBS_400, BBS_310, BBS_320, BBS_330, BBS_340, BBS_350, BBS_360, BBS_370]\n",
       "Index: []"
      ]
     },
     "execution_count": 16,
     "metadata": {},
     "output_type": "execute_result"
    }
   ],
   "source": [
    "bbs.check_bbs_400(df=df)"
   ]
  },
  {
   "cell_type": "code",
   "execution_count": 17,
   "metadata": {},
   "outputs": [
    {
     "name": "stdout",
     "output_type": "stream",
     "text": [
      "CHECK ITEM & SUB-ITEMS BBS_410\n"
     ]
    },
    {
     "data": {
      "text/html": [
       "<div>\n",
       "<style scoped>\n",
       "    .dataframe tbody tr th:only-of-type {\n",
       "        vertical-align: middle;\n",
       "    }\n",
       "\n",
       "    .dataframe tbody tr th {\n",
       "        vertical-align: top;\n",
       "    }\n",
       "\n",
       "    .dataframe thead th {\n",
       "        text-align: right;\n",
       "    }\n",
       "</style>\n",
       "<table border=\"1\" class=\"dataframe\">\n",
       "  <thead>\n",
       "    <tr style=\"text-align: right;\">\n",
       "      <th></th>\n",
       "      <th>SECURITY_CODE</th>\n",
       "      <th>REPORT_DATE</th>\n",
       "      <th>FREQ_CODE</th>\n",
       "      <th>AUDITED</th>\n",
       "      <th>BBS_410</th>\n",
       "      <th>BBS_411</th>\n",
       "      <th>BBS_412</th>\n",
       "      <th>BBS_413</th>\n",
       "      <th>BBS_414</th>\n",
       "      <th>BBS_415</th>\n",
       "      <th>BBS_416</th>\n",
       "    </tr>\n",
       "  </thead>\n",
       "  <tbody>\n",
       "  </tbody>\n",
       "</table>\n",
       "</div>"
      ],
      "text/plain": [
       "Empty DataFrame\n",
       "Columns: [SECURITY_CODE, REPORT_DATE, FREQ_CODE, AUDITED, BBS_410, BBS_411, BBS_412, BBS_413, BBS_414, BBS_415, BBS_416]\n",
       "Index: []"
      ]
     },
     "execution_count": 17,
     "metadata": {},
     "output_type": "execute_result"
    }
   ],
   "source": [
    "bbs.check_bbs_410(df=df)"
   ]
  },
  {
   "cell_type": "code",
   "execution_count": 18,
   "metadata": {},
   "outputs": [
    {
     "name": "stdout",
     "output_type": "stream",
     "text": [
      "CHECK ITEM & SUB-ITEMS BBS_500\n"
     ]
    },
    {
     "data": {
      "text/html": [
       "<div>\n",
       "<style scoped>\n",
       "    .dataframe tbody tr th:only-of-type {\n",
       "        vertical-align: middle;\n",
       "    }\n",
       "\n",
       "    .dataframe tbody tr th {\n",
       "        vertical-align: top;\n",
       "    }\n",
       "\n",
       "    .dataframe thead th {\n",
       "        text-align: right;\n",
       "    }\n",
       "</style>\n",
       "<table border=\"1\" class=\"dataframe\">\n",
       "  <thead>\n",
       "    <tr style=\"text-align: right;\">\n",
       "      <th></th>\n",
       "      <th>SECURITY_CODE</th>\n",
       "      <th>REPORT_DATE</th>\n",
       "      <th>FREQ_CODE</th>\n",
       "      <th>AUDITED</th>\n",
       "      <th>BBS_500</th>\n",
       "      <th>BBS_410</th>\n",
       "      <th>BBS_420</th>\n",
       "      <th>BBS_430</th>\n",
       "      <th>BBS_440</th>\n",
       "      <th>BBS_450</th>\n",
       "    </tr>\n",
       "  </thead>\n",
       "  <tbody>\n",
       "    <tr>\n",
       "      <th>4</th>\n",
       "      <td>BID</td>\n",
       "      <td>2020-03-31</td>\n",
       "      <td>Q</td>\n",
       "      <td>N</td>\n",
       "      <td>79269318000000</td>\n",
       "      <td>54780413000000</td>\n",
       "      <td>7005898000000</td>\n",
       "      <td>298263000000</td>\n",
       "      <td>0</td>\n",
       "      <td>14015338000000</td>\n",
       "    </tr>\n",
       "    <tr>\n",
       "      <th>6</th>\n",
       "      <td>CTG</td>\n",
       "      <td>2020-03-31</td>\n",
       "      <td>Q</td>\n",
       "      <td>N</td>\n",
       "      <td>78811234000000</td>\n",
       "      <td>46724637000000</td>\n",
       "      <td>9605683000000</td>\n",
       "      <td>641684000000</td>\n",
       "      <td>0</td>\n",
       "      <td>21287557000000</td>\n",
       "    </tr>\n",
       "    <tr>\n",
       "      <th>10</th>\n",
       "      <td>HDB</td>\n",
       "      <td>2020-03-31</td>\n",
       "      <td>Q</td>\n",
       "      <td>N</td>\n",
       "      <td>21387809000000</td>\n",
       "      <td>11381661000000</td>\n",
       "      <td>1246161000000</td>\n",
       "      <td>19370000000</td>\n",
       "      <td>0</td>\n",
       "      <td>7019397000000</td>\n",
       "    </tr>\n",
       "    <tr>\n",
       "      <th>13</th>\n",
       "      <td>MBB</td>\n",
       "      <td>2020-03-31</td>\n",
       "      <td>Q</td>\n",
       "      <td>N</td>\n",
       "      <td>43984050000000</td>\n",
       "      <td>25108540000000</td>\n",
       "      <td>4927170000000</td>\n",
       "      <td>0</td>\n",
       "      <td>0</td>\n",
       "      <td>11973445000000</td>\n",
       "    </tr>\n",
       "    <tr>\n",
       "      <th>16</th>\n",
       "      <td>VCB</td>\n",
       "      <td>2020-06-30</td>\n",
       "      <td>Q</td>\n",
       "      <td>Y</td>\n",
       "      <td>89578460000000</td>\n",
       "      <td>42428820000000</td>\n",
       "      <td>12183712000000</td>\n",
       "      <td>27265000000</td>\n",
       "      <td>0</td>\n",
       "      <td>34845164000000</td>\n",
       "    </tr>\n",
       "    <tr>\n",
       "      <th>...</th>\n",
       "      <td>...</td>\n",
       "      <td>...</td>\n",
       "      <td>...</td>\n",
       "      <td>...</td>\n",
       "      <td>...</td>\n",
       "      <td>...</td>\n",
       "      <td>...</td>\n",
       "      <td>...</td>\n",
       "      <td>...</td>\n",
       "      <td>...</td>\n",
       "    </tr>\n",
       "    <tr>\n",
       "      <th>489</th>\n",
       "      <td>TCB</td>\n",
       "      <td>2023-03-31</td>\n",
       "      <td>Q</td>\n",
       "      <td>N</td>\n",
       "      <td>117965416000000</td>\n",
       "      <td>36204797000000</td>\n",
       "      <td>11606679000000</td>\n",
       "      <td>4648000000</td>\n",
       "      <td>0</td>\n",
       "      <td>68979321000000</td>\n",
       "    </tr>\n",
       "    <tr>\n",
       "      <th>493</th>\n",
       "      <td>VCB</td>\n",
       "      <td>2023-03-31</td>\n",
       "      <td>Q</td>\n",
       "      <td>N</td>\n",
       "      <td>144658358000000</td>\n",
       "      <td>53130392000000</td>\n",
       "      <td>22556829000000</td>\n",
       "      <td>-842553000000</td>\n",
       "      <td>0</td>\n",
       "      <td>69719946000000</td>\n",
       "    </tr>\n",
       "    <tr>\n",
       "      <th>495</th>\n",
       "      <td>VPB</td>\n",
       "      <td>2023-03-31</td>\n",
       "      <td>Q</td>\n",
       "      <td>N</td>\n",
       "      <td>105097639000000</td>\n",
       "      <td>66550770000000</td>\n",
       "      <td>13535084000000</td>\n",
       "      <td>0</td>\n",
       "      <td>0</td>\n",
       "      <td>19260758000000</td>\n",
       "    </tr>\n",
       "    <tr>\n",
       "      <th>499</th>\n",
       "      <td>CTG</td>\n",
       "      <td>2023-03-31</td>\n",
       "      <td>Q</td>\n",
       "      <td>N</td>\n",
       "      <td>112945173000000</td>\n",
       "      <td>57868215000000</td>\n",
       "      <td>16075417000000</td>\n",
       "      <td>75353000000</td>\n",
       "      <td>0</td>\n",
       "      <td>38167405000000</td>\n",
       "    </tr>\n",
       "    <tr>\n",
       "      <th>500</th>\n",
       "      <td>HDB</td>\n",
       "      <td>2023-03-31</td>\n",
       "      <td>Q</td>\n",
       "      <td>N</td>\n",
       "      <td>40827791000000</td>\n",
       "      <td>25426026000000</td>\n",
       "      <td>3522956000000</td>\n",
       "      <td>18963000000</td>\n",
       "      <td>0</td>\n",
       "      <td>10087795000000</td>\n",
       "    </tr>\n",
       "  </tbody>\n",
       "</table>\n",
       "<p>130 rows × 10 columns</p>\n",
       "</div>"
      ],
      "text/plain": [
       "    SECURITY_CODE REPORT_DATE FREQ_CODE AUDITED          BBS_500   \n",
       "4             BID  2020-03-31         Q       N   79269318000000  \\\n",
       "6             CTG  2020-03-31         Q       N   78811234000000   \n",
       "10            HDB  2020-03-31         Q       N   21387809000000   \n",
       "13            MBB  2020-03-31         Q       N   43984050000000   \n",
       "16            VCB  2020-06-30         Q       Y   89578460000000   \n",
       "..            ...         ...       ...     ...              ...   \n",
       "489           TCB  2023-03-31         Q       N  117965416000000   \n",
       "493           VCB  2023-03-31         Q       N  144658358000000   \n",
       "495           VPB  2023-03-31         Q       N  105097639000000   \n",
       "499           CTG  2023-03-31         Q       N  112945173000000   \n",
       "500           HDB  2023-03-31         Q       N   40827791000000   \n",
       "\n",
       "            BBS_410         BBS_420       BBS_430  BBS_440         BBS_450  \n",
       "4    54780413000000   7005898000000  298263000000        0  14015338000000  \n",
       "6    46724637000000   9605683000000  641684000000        0  21287557000000  \n",
       "10   11381661000000   1246161000000   19370000000        0   7019397000000  \n",
       "13   25108540000000   4927170000000             0        0  11973445000000  \n",
       "16   42428820000000  12183712000000   27265000000        0  34845164000000  \n",
       "..              ...             ...           ...      ...             ...  \n",
       "489  36204797000000  11606679000000    4648000000        0  68979321000000  \n",
       "493  53130392000000  22556829000000 -842553000000        0  69719946000000  \n",
       "495  66550770000000  13535084000000             0        0  19260758000000  \n",
       "499  57868215000000  16075417000000   75353000000        0  38167405000000  \n",
       "500  25426026000000   3522956000000   18963000000        0  10087795000000  \n",
       "\n",
       "[130 rows x 10 columns]"
      ]
     },
     "execution_count": 18,
     "metadata": {},
     "output_type": "execute_result"
    }
   ],
   "source": [
    "bbs.check_bbs_500(df=df)\n",
    "\n",
    "# HDB: BIS 420\n",
    "# CTG: Contains BIS_470"
   ]
  },
  {
   "cell_type": "code",
   "execution_count": 19,
   "metadata": {},
   "outputs": [
    {
     "name": "stdout",
     "output_type": "stream",
     "text": [
      "CHECK ITEM & SUB-ITEMS BBS_800\n"
     ]
    },
    {
     "data": {
      "text/html": [
       "<div>\n",
       "<style scoped>\n",
       "    .dataframe tbody tr th:only-of-type {\n",
       "        vertical-align: middle;\n",
       "    }\n",
       "\n",
       "    .dataframe tbody tr th {\n",
       "        vertical-align: top;\n",
       "    }\n",
       "\n",
       "    .dataframe thead th {\n",
       "        text-align: right;\n",
       "    }\n",
       "</style>\n",
       "<table border=\"1\" class=\"dataframe\">\n",
       "  <thead>\n",
       "    <tr style=\"text-align: right;\">\n",
       "      <th></th>\n",
       "      <th>SECURITY_CODE</th>\n",
       "      <th>REPORT_DATE</th>\n",
       "      <th>FREQ_CODE</th>\n",
       "      <th>AUDITED</th>\n",
       "      <th>BBS_800</th>\n",
       "      <th>BBS_400</th>\n",
       "      <th>BBS_500</th>\n",
       "    </tr>\n",
       "  </thead>\n",
       "  <tbody>\n",
       "  </tbody>\n",
       "</table>\n",
       "</div>"
      ],
      "text/plain": [
       "Empty DataFrame\n",
       "Columns: [SECURITY_CODE, REPORT_DATE, FREQ_CODE, AUDITED, BBS_800, BBS_400, BBS_500]\n",
       "Index: []"
      ]
     },
     "execution_count": 19,
     "metadata": {},
     "output_type": "execute_result"
    }
   ],
   "source": [
    "bbs.check_bbs_800(df=df)"
   ]
  },
  {
   "cell_type": "code",
   "execution_count": null,
   "metadata": {},
   "outputs": [],
   "source": []
  }
 ],
 "metadata": {
  "kernelspec": {
   "display_name": "quant_p",
   "language": "python",
   "name": "python3"
  },
  "language_info": {
   "codemirror_mode": {
    "name": "ipython",
    "version": 3
   },
   "file_extension": ".py",
   "mimetype": "text/x-python",
   "name": "python",
   "nbconvert_exporter": "python",
   "pygments_lexer": "ipython3",
   "version": "3.11.2"
  },
  "orig_nbformat": 4
 },
 "nbformat": 4,
 "nbformat_minor": 2
}
