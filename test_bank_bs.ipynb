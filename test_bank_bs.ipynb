{
 "cells": [
  {
   "cell_type": "code",
   "execution_count": 1,
   "metadata": {},
   "outputs": [],
   "source": [
    "import pandas as pd\n",
    "import numpy as np\n",
    "import cx_Oracle\n",
    "import os\n",
    "import platform\n",
    "import sys\n",
    "import tomli\n",
    "import datetime as dt\n",
    "from check_py import check_bank_bs as bbs"
   ]
  },
  {
   "cell_type": "code",
   "execution_count": 2,
   "metadata": {},
   "outputs": [],
   "source": [
    "# Assign pathlink\n",
    "path_link_db_algo = r\"E:\\Tung\\BSC_Config\\algo_db.toml\""
   ]
  },
  {
   "cell_type": "code",
   "execution_count": 3,
   "metadata": {},
   "outputs": [],
   "source": [
    "# Import files connfiq\n",
    "with open(path_link_db_algo, mode=\"rb\") as fp:\n",
    "    config_acc = tomli.load(fp)"
   ]
  },
  {
   "cell_type": "code",
   "execution_count": 4,
   "metadata": {},
   "outputs": [],
   "source": [
    "# Set up config for Oracle SQl Developer\n",
    "host = config_acc[\"algo_acc\"][\"host\"]\n",
    "port = config_acc[\"algo_acc\"][\"port\"]\n",
    "service_name = config_acc[\"algo_acc\"][\"service_name\"]\n",
    "user = config_acc[\"algo_acc\"][\"user\"]\n",
    "password = config_acc[\"algo_acc\"][\"password\"]"
   ]
  },
  {
   "cell_type": "code",
   "execution_count": 5,
   "metadata": {},
   "outputs": [],
   "source": [
    "# Connect to the Oracle SQL Developer\n",
    "# cx_Oracle.init_oracle_client(lib_dir=r\"E:\\Oracle\\instantclient-basic-windows.x64-21.10.0.0.0dbru\\instantclient_21_10\")\n",
    "lib_dir = r\"E:\\Oracle\\instantclient-basic-windows.x64-21.10.0.0.0dbru\\instantclient_21_10\"\n",
    "\n",
    "try:\n",
    "    cx_Oracle.init_oracle_client(lib_dir=lib_dir)\n",
    "except Exception as err:\n",
    "    print(\"Error connecting: cx_Oracle.init_oracle_client()\")\n",
    "    print(err)\n",
    "\n",
    "cx_Oracle.clientversion()\n",
    "os.environ[\"PATH\"] = lib_dir + \";\" + os.environ[\"PATH\"]\n",
    "\n",
    "\n",
    "dsn_tns = cx_Oracle.makedsn(host, port, service_name=service_name) # if needed, place an 'r' before any parameter in order to address special characters such as '\\'.\n",
    "conn = cx_Oracle.connect(user=user, password=password, dsn=dsn_tns) # if needed, place an 'r' before any parameter in order to address special characters such as '\\'. For example, if your user name contains '\\', you'll need to place 'r' before the user name: user=r'User Name'\n",
    "c = conn.cursor()"
   ]
  },
  {
   "cell_type": "code",
   "execution_count": 8,
   "metadata": {},
   "outputs": [
    {
     "name": "stderr",
     "output_type": "stream",
     "text": [
      "c:\\Users\\tungtt1\\Envs\\quant\\lib\\site-packages\\pandas\\io\\sql.py:761: UserWarning: pandas only support SQLAlchemy connectable(engine/connection) ordatabase string URI or sqlite3 DBAPI2 connectionother DBAPI2 objects are not tested, please consider using SQLAlchemy\n",
      "  warnings.warn(\n"
     ]
    }
   ],
   "source": [
    "df = pd.read_sql_query(\n",
    "    \"\"\" SELECT * FROM BANK_BALANCE_SHEET\n",
    "    \"\"\", con=conn\n",
    ")"
   ]
  },
  {
   "cell_type": "code",
   "execution_count": 7,
   "metadata": {},
   "outputs": [],
   "source": [
    "# df = pd.read_excel(r\"OneDrive_1_5-29-2023/bank/algo_bbs.xlsx\")"
   ]
  },
  {
   "cell_type": "code",
   "execution_count": 9,
   "metadata": {},
   "outputs": [
    {
     "data": {
      "text/html": [
       "<div>\n",
       "<style scoped>\n",
       "    .dataframe tbody tr th:only-of-type {\n",
       "        vertical-align: middle;\n",
       "    }\n",
       "\n",
       "    .dataframe tbody tr th {\n",
       "        vertical-align: top;\n",
       "    }\n",
       "\n",
       "    .dataframe thead th {\n",
       "        text-align: right;\n",
       "    }\n",
       "</style>\n",
       "<table border=\"1\" class=\"dataframe\">\n",
       "  <thead>\n",
       "    <tr style=\"text-align: right;\">\n",
       "      <th></th>\n",
       "      <th>SCN</th>\n",
       "      <th>REPORT_DATE</th>\n",
       "      <th>REPORTED_DATE</th>\n",
       "      <th>FREQ_CODE</th>\n",
       "      <th>SECURITY_CODE</th>\n",
       "      <th>AUDITED</th>\n",
       "      <th>MONTH_IN_PERIOD</th>\n",
       "      <th>BBS_100</th>\n",
       "      <th>BBS_110</th>\n",
       "      <th>BBS_120</th>\n",
       "      <th>...</th>\n",
       "      <th>BBS_213</th>\n",
       "      <th>BBS_300</th>\n",
       "      <th>BBS_371</th>\n",
       "      <th>BBS_372</th>\n",
       "      <th>BBS_373</th>\n",
       "      <th>BBS_379</th>\n",
       "      <th>BBS_910</th>\n",
       "      <th>BBS_920</th>\n",
       "      <th>CREATED_DATE</th>\n",
       "      <th>UPDATED_DATE</th>\n",
       "    </tr>\n",
       "  </thead>\n",
       "  <tbody>\n",
       "    <tr>\n",
       "      <th>0</th>\n",
       "      <td>52573</td>\n",
       "      <td>2020-03-31</td>\n",
       "      <td>NaT</td>\n",
       "      <td>Q</td>\n",
       "      <td>ABB</td>\n",
       "      <td>N</td>\n",
       "      <td>3.0</td>\n",
       "      <td>9.537147e+13</td>\n",
       "      <td>5.828212e+11</td>\n",
       "      <td>1.199688e+12</td>\n",
       "      <td>...</td>\n",
       "      <td>NaN</td>\n",
       "      <td>NaN</td>\n",
       "      <td>NaN</td>\n",
       "      <td>NaN</td>\n",
       "      <td>NaN</td>\n",
       "      <td>NaN</td>\n",
       "      <td>NaN</td>\n",
       "      <td>NaN</td>\n",
       "      <td>2021-06-27 04:43:39.859534</td>\n",
       "      <td>2021-06-27 04:43:39.859534</td>\n",
       "    </tr>\n",
       "    <tr>\n",
       "      <th>1</th>\n",
       "      <td>52573</td>\n",
       "      <td>2020-03-31</td>\n",
       "      <td>NaT</td>\n",
       "      <td>Q</td>\n",
       "      <td>ACB</td>\n",
       "      <td>N</td>\n",
       "      <td>3.0</td>\n",
       "      <td>3.873961e+14</td>\n",
       "      <td>5.466150e+12</td>\n",
       "      <td>1.267115e+13</td>\n",
       "      <td>...</td>\n",
       "      <td>NaN</td>\n",
       "      <td>NaN</td>\n",
       "      <td>NaN</td>\n",
       "      <td>NaN</td>\n",
       "      <td>NaN</td>\n",
       "      <td>NaN</td>\n",
       "      <td>NaN</td>\n",
       "      <td>NaN</td>\n",
       "      <td>2021-06-27 04:43:39.859534</td>\n",
       "      <td>2021-06-27 04:43:39.859534</td>\n",
       "    </tr>\n",
       "    <tr>\n",
       "      <th>2</th>\n",
       "      <td>52573</td>\n",
       "      <td>2020-03-31</td>\n",
       "      <td>NaT</td>\n",
       "      <td>Q</td>\n",
       "      <td>BAB</td>\n",
       "      <td>N</td>\n",
       "      <td>3.0</td>\n",
       "      <td>1.098287e+14</td>\n",
       "      <td>5.554590e+11</td>\n",
       "      <td>2.828260e+11</td>\n",
       "      <td>...</td>\n",
       "      <td>NaN</td>\n",
       "      <td>NaN</td>\n",
       "      <td>NaN</td>\n",
       "      <td>NaN</td>\n",
       "      <td>NaN</td>\n",
       "      <td>NaN</td>\n",
       "      <td>NaN</td>\n",
       "      <td>NaN</td>\n",
       "      <td>2021-06-27 04:43:39.859534</td>\n",
       "      <td>2021-06-27 04:43:39.859534</td>\n",
       "    </tr>\n",
       "    <tr>\n",
       "      <th>3</th>\n",
       "      <td>52573</td>\n",
       "      <td>2020-03-31</td>\n",
       "      <td>NaT</td>\n",
       "      <td>Q</td>\n",
       "      <td>BAOVIETBANK</td>\n",
       "      <td>N</td>\n",
       "      <td>3.0</td>\n",
       "      <td>4.769021e+13</td>\n",
       "      <td>1.291240e+11</td>\n",
       "      <td>6.195074e+11</td>\n",
       "      <td>...</td>\n",
       "      <td>NaN</td>\n",
       "      <td>NaN</td>\n",
       "      <td>NaN</td>\n",
       "      <td>NaN</td>\n",
       "      <td>NaN</td>\n",
       "      <td>NaN</td>\n",
       "      <td>NaN</td>\n",
       "      <td>NaN</td>\n",
       "      <td>2021-06-27 04:43:39.859534</td>\n",
       "      <td>2021-06-27 04:43:39.859534</td>\n",
       "    </tr>\n",
       "    <tr>\n",
       "      <th>4</th>\n",
       "      <td>52573</td>\n",
       "      <td>2020-03-31</td>\n",
       "      <td>NaT</td>\n",
       "      <td>Q</td>\n",
       "      <td>BID</td>\n",
       "      <td>N</td>\n",
       "      <td>3.0</td>\n",
       "      <td>1.446044e+15</td>\n",
       "      <td>9.097015e+12</td>\n",
       "      <td>2.678262e+13</td>\n",
       "      <td>...</td>\n",
       "      <td>NaN</td>\n",
       "      <td>NaN</td>\n",
       "      <td>NaN</td>\n",
       "      <td>NaN</td>\n",
       "      <td>NaN</td>\n",
       "      <td>NaN</td>\n",
       "      <td>NaN</td>\n",
       "      <td>NaN</td>\n",
       "      <td>2021-06-27 04:43:39.859534</td>\n",
       "      <td>2021-06-27 04:43:39.859534</td>\n",
       "    </tr>\n",
       "    <tr>\n",
       "      <th>...</th>\n",
       "      <td>...</td>\n",
       "      <td>...</td>\n",
       "      <td>...</td>\n",
       "      <td>...</td>\n",
       "      <td>...</td>\n",
       "      <td>...</td>\n",
       "      <td>...</td>\n",
       "      <td>...</td>\n",
       "      <td>...</td>\n",
       "      <td>...</td>\n",
       "      <td>...</td>\n",
       "      <td>...</td>\n",
       "      <td>...</td>\n",
       "      <td>...</td>\n",
       "      <td>...</td>\n",
       "      <td>...</td>\n",
       "      <td>...</td>\n",
       "      <td>...</td>\n",
       "      <td>...</td>\n",
       "      <td>...</td>\n",
       "      <td>...</td>\n",
       "    </tr>\n",
       "    <tr>\n",
       "      <th>497</th>\n",
       "      <td>43431121</td>\n",
       "      <td>2023-03-31</td>\n",
       "      <td>NaT</td>\n",
       "      <td>Q</td>\n",
       "      <td>VAB</td>\n",
       "      <td>N</td>\n",
       "      <td>3.0</td>\n",
       "      <td>9.479152e+13</td>\n",
       "      <td>3.364633e+11</td>\n",
       "      <td>1.211673e+12</td>\n",
       "      <td>...</td>\n",
       "      <td>NaN</td>\n",
       "      <td>NaN</td>\n",
       "      <td>NaN</td>\n",
       "      <td>NaN</td>\n",
       "      <td>NaN</td>\n",
       "      <td>NaN</td>\n",
       "      <td>NaN</td>\n",
       "      <td>NaN</td>\n",
       "      <td>2023-04-28 09:28:16.813236</td>\n",
       "      <td>2023-04-28 09:28:16.813236</td>\n",
       "    </tr>\n",
       "    <tr>\n",
       "      <th>498</th>\n",
       "      <td>43372908</td>\n",
       "      <td>2022-12-31</td>\n",
       "      <td>NaT</td>\n",
       "      <td>Y</td>\n",
       "      <td>STB</td>\n",
       "      <td>Y</td>\n",
       "      <td>12.0</td>\n",
       "      <td>5.919077e+14</td>\n",
       "      <td>7.849898e+12</td>\n",
       "      <td>1.228612e+13</td>\n",
       "      <td>...</td>\n",
       "      <td>NaN</td>\n",
       "      <td>NaN</td>\n",
       "      <td>NaN</td>\n",
       "      <td>NaN</td>\n",
       "      <td>NaN</td>\n",
       "      <td>NaN</td>\n",
       "      <td>NaN</td>\n",
       "      <td>NaN</td>\n",
       "      <td>2023-01-30 15:49:03.241554</td>\n",
       "      <td>2023-03-31 16:39:59.316599</td>\n",
       "    </tr>\n",
       "    <tr>\n",
       "      <th>499</th>\n",
       "      <td>43434290</td>\n",
       "      <td>2023-03-31</td>\n",
       "      <td>NaT</td>\n",
       "      <td>Q</td>\n",
       "      <td>CTG</td>\n",
       "      <td>N</td>\n",
       "      <td>3.0</td>\n",
       "      <td>1.823962e+15</td>\n",
       "      <td>1.050989e+13</td>\n",
       "      <td>2.247973e+13</td>\n",
       "      <td>...</td>\n",
       "      <td>NaN</td>\n",
       "      <td>NaN</td>\n",
       "      <td>NaN</td>\n",
       "      <td>NaN</td>\n",
       "      <td>NaN</td>\n",
       "      <td>NaN</td>\n",
       "      <td>NaN</td>\n",
       "      <td>NaN</td>\n",
       "      <td>2023-05-03 00:55:17.546981</td>\n",
       "      <td>2023-05-03 00:55:17.546981</td>\n",
       "    </tr>\n",
       "    <tr>\n",
       "      <th>500</th>\n",
       "      <td>43433379</td>\n",
       "      <td>2023-03-31</td>\n",
       "      <td>NaT</td>\n",
       "      <td>Q</td>\n",
       "      <td>HDB</td>\n",
       "      <td>N</td>\n",
       "      <td>3.0</td>\n",
       "      <td>4.588027e+14</td>\n",
       "      <td>2.691430e+12</td>\n",
       "      <td>1.216227e+13</td>\n",
       "      <td>...</td>\n",
       "      <td>NaN</td>\n",
       "      <td>NaN</td>\n",
       "      <td>NaN</td>\n",
       "      <td>NaN</td>\n",
       "      <td>NaN</td>\n",
       "      <td>NaN</td>\n",
       "      <td>NaN</td>\n",
       "      <td>NaN</td>\n",
       "      <td>2023-04-29 17:49:17.445238</td>\n",
       "      <td>2023-04-29 17:49:17.445238</td>\n",
       "    </tr>\n",
       "    <tr>\n",
       "      <th>501</th>\n",
       "      <td>43433554</td>\n",
       "      <td>2023-03-31</td>\n",
       "      <td>NaT</td>\n",
       "      <td>Q</td>\n",
       "      <td>MSB</td>\n",
       "      <td>N</td>\n",
       "      <td>3.0</td>\n",
       "      <td>2.354732e+14</td>\n",
       "      <td>1.217649e+12</td>\n",
       "      <td>2.243322e+12</td>\n",
       "      <td>...</td>\n",
       "      <td>NaN</td>\n",
       "      <td>NaN</td>\n",
       "      <td>NaN</td>\n",
       "      <td>NaN</td>\n",
       "      <td>NaN</td>\n",
       "      <td>NaN</td>\n",
       "      <td>NaN</td>\n",
       "      <td>NaN</td>\n",
       "      <td>2023-04-30 15:53:44.658987</td>\n",
       "      <td>2023-04-30 15:53:44.658987</td>\n",
       "    </tr>\n",
       "  </tbody>\n",
       "</table>\n",
       "<p>502 rows × 109 columns</p>\n",
       "</div>"
      ],
      "text/plain": [
       "          SCN REPORT_DATE REPORTED_DATE FREQ_CODE SECURITY_CODE AUDITED  \\\n",
       "0       52573  2020-03-31           NaT         Q           ABB       N   \n",
       "1       52573  2020-03-31           NaT         Q           ACB       N   \n",
       "2       52573  2020-03-31           NaT         Q           BAB       N   \n",
       "3       52573  2020-03-31           NaT         Q   BAOVIETBANK       N   \n",
       "4       52573  2020-03-31           NaT         Q           BID       N   \n",
       "..        ...         ...           ...       ...           ...     ...   \n",
       "497  43431121  2023-03-31           NaT         Q           VAB       N   \n",
       "498  43372908  2022-12-31           NaT         Y           STB       Y   \n",
       "499  43434290  2023-03-31           NaT         Q           CTG       N   \n",
       "500  43433379  2023-03-31           NaT         Q           HDB       N   \n",
       "501  43433554  2023-03-31           NaT         Q           MSB       N   \n",
       "\n",
       "     MONTH_IN_PERIOD       BBS_100       BBS_110       BBS_120  ...  BBS_213  \\\n",
       "0                3.0  9.537147e+13  5.828212e+11  1.199688e+12  ...      NaN   \n",
       "1                3.0  3.873961e+14  5.466150e+12  1.267115e+13  ...      NaN   \n",
       "2                3.0  1.098287e+14  5.554590e+11  2.828260e+11  ...      NaN   \n",
       "3                3.0  4.769021e+13  1.291240e+11  6.195074e+11  ...      NaN   \n",
       "4                3.0  1.446044e+15  9.097015e+12  2.678262e+13  ...      NaN   \n",
       "..               ...           ...           ...           ...  ...      ...   \n",
       "497              3.0  9.479152e+13  3.364633e+11  1.211673e+12  ...      NaN   \n",
       "498             12.0  5.919077e+14  7.849898e+12  1.228612e+13  ...      NaN   \n",
       "499              3.0  1.823962e+15  1.050989e+13  2.247973e+13  ...      NaN   \n",
       "500              3.0  4.588027e+14  2.691430e+12  1.216227e+13  ...      NaN   \n",
       "501              3.0  2.354732e+14  1.217649e+12  2.243322e+12  ...      NaN   \n",
       "\n",
       "     BBS_300  BBS_371  BBS_372  BBS_373  BBS_379  BBS_910  BBS_920  \\\n",
       "0        NaN      NaN      NaN      NaN      NaN      NaN      NaN   \n",
       "1        NaN      NaN      NaN      NaN      NaN      NaN      NaN   \n",
       "2        NaN      NaN      NaN      NaN      NaN      NaN      NaN   \n",
       "3        NaN      NaN      NaN      NaN      NaN      NaN      NaN   \n",
       "4        NaN      NaN      NaN      NaN      NaN      NaN      NaN   \n",
       "..       ...      ...      ...      ...      ...      ...      ...   \n",
       "497      NaN      NaN      NaN      NaN      NaN      NaN      NaN   \n",
       "498      NaN      NaN      NaN      NaN      NaN      NaN      NaN   \n",
       "499      NaN      NaN      NaN      NaN      NaN      NaN      NaN   \n",
       "500      NaN      NaN      NaN      NaN      NaN      NaN      NaN   \n",
       "501      NaN      NaN      NaN      NaN      NaN      NaN      NaN   \n",
       "\n",
       "                  CREATED_DATE               UPDATED_DATE  \n",
       "0   2021-06-27 04:43:39.859534 2021-06-27 04:43:39.859534  \n",
       "1   2021-06-27 04:43:39.859534 2021-06-27 04:43:39.859534  \n",
       "2   2021-06-27 04:43:39.859534 2021-06-27 04:43:39.859534  \n",
       "3   2021-06-27 04:43:39.859534 2021-06-27 04:43:39.859534  \n",
       "4   2021-06-27 04:43:39.859534 2021-06-27 04:43:39.859534  \n",
       "..                         ...                        ...  \n",
       "497 2023-04-28 09:28:16.813236 2023-04-28 09:28:16.813236  \n",
       "498 2023-01-30 15:49:03.241554 2023-03-31 16:39:59.316599  \n",
       "499 2023-05-03 00:55:17.546981 2023-05-03 00:55:17.546981  \n",
       "500 2023-04-29 17:49:17.445238 2023-04-29 17:49:17.445238  \n",
       "501 2023-04-30 15:53:44.658987 2023-04-30 15:53:44.658987  \n",
       "\n",
       "[502 rows x 109 columns]"
      ]
     },
     "execution_count": 9,
     "metadata": {},
     "output_type": "execute_result"
    }
   ],
   "source": [
    "df"
   ]
  },
  {
   "cell_type": "code",
   "execution_count": 10,
   "metadata": {},
   "outputs": [
    {
     "name": "stdout",
     "output_type": "stream",
     "text": [
      "CHECK ITEM & SUB-ITEMS BBS_100\n"
     ]
    },
    {
     "data": {
      "text/html": [
       "<div>\n",
       "<style scoped>\n",
       "    .dataframe tbody tr th:only-of-type {\n",
       "        vertical-align: middle;\n",
       "    }\n",
       "\n",
       "    .dataframe tbody tr th {\n",
       "        vertical-align: top;\n",
       "    }\n",
       "\n",
       "    .dataframe thead th {\n",
       "        text-align: right;\n",
       "    }\n",
       "</style>\n",
       "<table border=\"1\" class=\"dataframe\">\n",
       "  <thead>\n",
       "    <tr style=\"text-align: right;\">\n",
       "      <th></th>\n",
       "      <th>SECURITY_CODE</th>\n",
       "      <th>REPORT_DATE</th>\n",
       "      <th>FREQ_CODE</th>\n",
       "      <th>AUDITED</th>\n",
       "      <th>BBS_100</th>\n",
       "      <th>BBS_110</th>\n",
       "      <th>BBS_120</th>\n",
       "      <th>BBS_130</th>\n",
       "      <th>BBS_140</th>\n",
       "      <th>BBS_150</th>\n",
       "      <th>BBS_160</th>\n",
       "      <th>BBS_180</th>\n",
       "      <th>BBS_170</th>\n",
       "      <th>BBS_210</th>\n",
       "      <th>BBS_220</th>\n",
       "      <th>BBS_240</th>\n",
       "      <th>BBS_250</th>\n",
       "    </tr>\n",
       "  </thead>\n",
       "  <tbody>\n",
       "  </tbody>\n",
       "</table>\n",
       "</div>"
      ],
      "text/plain": [
       "Empty DataFrame\n",
       "Columns: [SECURITY_CODE, REPORT_DATE, FREQ_CODE, AUDITED, BBS_100, BBS_110, BBS_120, BBS_130, BBS_140, BBS_150, BBS_160, BBS_180, BBS_170, BBS_210, BBS_220, BBS_240, BBS_250]\n",
       "Index: []"
      ]
     },
     "execution_count": 10,
     "metadata": {},
     "output_type": "execute_result"
    }
   ],
   "source": [
    "bbs.check_bbs_100(df=df)"
   ]
  },
  {
   "cell_type": "code",
   "execution_count": 11,
   "metadata": {},
   "outputs": [
    {
     "name": "stdout",
     "output_type": "stream",
     "text": [
      "CHECK ITEM & SUB-ITEMS BBS_130\n"
     ]
    },
    {
     "data": {
      "text/html": [
       "<div>\n",
       "<style scoped>\n",
       "    .dataframe tbody tr th:only-of-type {\n",
       "        vertical-align: middle;\n",
       "    }\n",
       "\n",
       "    .dataframe tbody tr th {\n",
       "        vertical-align: top;\n",
       "    }\n",
       "\n",
       "    .dataframe thead th {\n",
       "        text-align: right;\n",
       "    }\n",
       "</style>\n",
       "<table border=\"1\" class=\"dataframe\">\n",
       "  <thead>\n",
       "    <tr style=\"text-align: right;\">\n",
       "      <th></th>\n",
       "      <th>SECURITY_CODE</th>\n",
       "      <th>REPORT_DATE</th>\n",
       "      <th>FREQ_CODE</th>\n",
       "      <th>AUDITED</th>\n",
       "      <th>BBS_130</th>\n",
       "      <th>BBS_131</th>\n",
       "      <th>BBS_132</th>\n",
       "      <th>BBS_139</th>\n",
       "    </tr>\n",
       "  </thead>\n",
       "  <tbody>\n",
       "  </tbody>\n",
       "</table>\n",
       "</div>"
      ],
      "text/plain": [
       "Empty DataFrame\n",
       "Columns: [SECURITY_CODE, REPORT_DATE, FREQ_CODE, AUDITED, BBS_130, BBS_131, BBS_132, BBS_139]\n",
       "Index: []"
      ]
     },
     "execution_count": 11,
     "metadata": {},
     "output_type": "execute_result"
    }
   ],
   "source": [
    "bbs.check_bbs_130(df=df)"
   ]
  },
  {
   "cell_type": "code",
   "execution_count": 12,
   "metadata": {},
   "outputs": [
    {
     "name": "stdout",
     "output_type": "stream",
     "text": [
      "CHECK ITEM & SUB-ITEMS BBS_140\n"
     ]
    },
    {
     "data": {
      "text/html": [
       "<div>\n",
       "<style scoped>\n",
       "    .dataframe tbody tr th:only-of-type {\n",
       "        vertical-align: middle;\n",
       "    }\n",
       "\n",
       "    .dataframe tbody tr th {\n",
       "        vertical-align: top;\n",
       "    }\n",
       "\n",
       "    .dataframe thead th {\n",
       "        text-align: right;\n",
       "    }\n",
       "</style>\n",
       "<table border=\"1\" class=\"dataframe\">\n",
       "  <thead>\n",
       "    <tr style=\"text-align: right;\">\n",
       "      <th></th>\n",
       "      <th>SECURITY_CODE</th>\n",
       "      <th>REPORT_DATE</th>\n",
       "      <th>FREQ_CODE</th>\n",
       "      <th>AUDITED</th>\n",
       "      <th>BBS_140</th>\n",
       "      <th>BBS_141</th>\n",
       "      <th>BBS_149</th>\n",
       "    </tr>\n",
       "  </thead>\n",
       "  <tbody>\n",
       "  </tbody>\n",
       "</table>\n",
       "</div>"
      ],
      "text/plain": [
       "Empty DataFrame\n",
       "Columns: [SECURITY_CODE, REPORT_DATE, FREQ_CODE, AUDITED, BBS_140, BBS_141, BBS_149]\n",
       "Index: []"
      ]
     },
     "execution_count": 12,
     "metadata": {},
     "output_type": "execute_result"
    }
   ],
   "source": [
    "bbs.check_bbs_140(df=df)"
   ]
  },
  {
   "cell_type": "code",
   "execution_count": 13,
   "metadata": {},
   "outputs": [
    {
     "name": "stdout",
     "output_type": "stream",
     "text": [
      "CHECK ITEM & SUB-ITEMS BBS_160\n"
     ]
    },
    {
     "data": {
      "text/html": [
       "<div>\n",
       "<style scoped>\n",
       "    .dataframe tbody tr th:only-of-type {\n",
       "        vertical-align: middle;\n",
       "    }\n",
       "\n",
       "    .dataframe tbody tr th {\n",
       "        vertical-align: top;\n",
       "    }\n",
       "\n",
       "    .dataframe thead th {\n",
       "        text-align: right;\n",
       "    }\n",
       "</style>\n",
       "<table border=\"1\" class=\"dataframe\">\n",
       "  <thead>\n",
       "    <tr style=\"text-align: right;\">\n",
       "      <th></th>\n",
       "      <th>SECURITY_CODE</th>\n",
       "      <th>REPORT_DATE</th>\n",
       "      <th>FREQ_CODE</th>\n",
       "      <th>AUDITED</th>\n",
       "      <th>BBS_160</th>\n",
       "      <th>BBS_161</th>\n",
       "      <th>BBS_169</th>\n",
       "    </tr>\n",
       "  </thead>\n",
       "  <tbody>\n",
       "  </tbody>\n",
       "</table>\n",
       "</div>"
      ],
      "text/plain": [
       "Empty DataFrame\n",
       "Columns: [SECURITY_CODE, REPORT_DATE, FREQ_CODE, AUDITED, BBS_160, BBS_161, BBS_169]\n",
       "Index: []"
      ]
     },
     "execution_count": 13,
     "metadata": {},
     "output_type": "execute_result"
    }
   ],
   "source": [
    "bbs.check_bbs_160(df=df)"
   ]
  },
  {
   "cell_type": "code",
   "execution_count": 14,
   "metadata": {},
   "outputs": [
    {
     "name": "stdout",
     "output_type": "stream",
     "text": [
      "CHECK ITEM & SUB-ITEMS BBS_170\n"
     ]
    },
    {
     "data": {
      "text/html": [
       "<div>\n",
       "<style scoped>\n",
       "    .dataframe tbody tr th:only-of-type {\n",
       "        vertical-align: middle;\n",
       "    }\n",
       "\n",
       "    .dataframe tbody tr th {\n",
       "        vertical-align: top;\n",
       "    }\n",
       "\n",
       "    .dataframe thead th {\n",
       "        text-align: right;\n",
       "    }\n",
       "</style>\n",
       "<table border=\"1\" class=\"dataframe\">\n",
       "  <thead>\n",
       "    <tr style=\"text-align: right;\">\n",
       "      <th></th>\n",
       "      <th>SECURITY_CODE</th>\n",
       "      <th>REPORT_DATE</th>\n",
       "      <th>FREQ_CODE</th>\n",
       "      <th>AUDITED</th>\n",
       "      <th>BBS_170</th>\n",
       "      <th>BBS_171</th>\n",
       "      <th>BBS_172</th>\n",
       "      <th>BBS_179</th>\n",
       "    </tr>\n",
       "  </thead>\n",
       "  <tbody>\n",
       "  </tbody>\n",
       "</table>\n",
       "</div>"
      ],
      "text/plain": [
       "Empty DataFrame\n",
       "Columns: [SECURITY_CODE, REPORT_DATE, FREQ_CODE, AUDITED, BBS_170, BBS_171, BBS_172, BBS_179]\n",
       "Index: []"
      ]
     },
     "execution_count": 14,
     "metadata": {},
     "output_type": "execute_result"
    }
   ],
   "source": [
    "bbs.check_bbs_170(df=df)"
   ]
  },
  {
   "cell_type": "code",
   "execution_count": 15,
   "metadata": {},
   "outputs": [
    {
     "name": "stdout",
     "output_type": "stream",
     "text": [
      "CHECK ITEM & SUB-ITEMS BBS_210\n"
     ]
    },
    {
     "data": {
      "text/html": [
       "<div>\n",
       "<style scoped>\n",
       "    .dataframe tbody tr th:only-of-type {\n",
       "        vertical-align: middle;\n",
       "    }\n",
       "\n",
       "    .dataframe tbody tr th {\n",
       "        vertical-align: top;\n",
       "    }\n",
       "\n",
       "    .dataframe thead th {\n",
       "        text-align: right;\n",
       "    }\n",
       "</style>\n",
       "<table border=\"1\" class=\"dataframe\">\n",
       "  <thead>\n",
       "    <tr style=\"text-align: right;\">\n",
       "      <th></th>\n",
       "      <th>SECURITY_CODE</th>\n",
       "      <th>REPORT_DATE</th>\n",
       "      <th>FREQ_CODE</th>\n",
       "      <th>AUDITED</th>\n",
       "      <th>BBS_210</th>\n",
       "      <th>BBS_211</th>\n",
       "      <th>BBS_212</th>\n",
       "      <th>BBS_214</th>\n",
       "      <th>BBS_219</th>\n",
       "    </tr>\n",
       "  </thead>\n",
       "  <tbody>\n",
       "  </tbody>\n",
       "</table>\n",
       "</div>"
      ],
      "text/plain": [
       "Empty DataFrame\n",
       "Columns: [SECURITY_CODE, REPORT_DATE, FREQ_CODE, AUDITED, BBS_210, BBS_211, BBS_212, BBS_214, BBS_219]\n",
       "Index: []"
      ]
     },
     "execution_count": 15,
     "metadata": {},
     "output_type": "execute_result"
    }
   ],
   "source": [
    "bbs.check_bbs_210(df=df)"
   ]
  },
  {
   "cell_type": "code",
   "execution_count": 16,
   "metadata": {},
   "outputs": [
    {
     "name": "stdout",
     "output_type": "stream",
     "text": [
      "CHECK ITEM & SUB-ITEMS BBS_221\n"
     ]
    },
    {
     "data": {
      "text/html": [
       "<div>\n",
       "<style scoped>\n",
       "    .dataframe tbody tr th:only-of-type {\n",
       "        vertical-align: middle;\n",
       "    }\n",
       "\n",
       "    .dataframe tbody tr th {\n",
       "        vertical-align: top;\n",
       "    }\n",
       "\n",
       "    .dataframe thead th {\n",
       "        text-align: right;\n",
       "    }\n",
       "</style>\n",
       "<table border=\"1\" class=\"dataframe\">\n",
       "  <thead>\n",
       "    <tr style=\"text-align: right;\">\n",
       "      <th></th>\n",
       "      <th>SECURITY_CODE</th>\n",
       "      <th>REPORT_DATE</th>\n",
       "      <th>FREQ_CODE</th>\n",
       "      <th>AUDITED</th>\n",
       "      <th>BBS_221</th>\n",
       "      <th>BBS_222</th>\n",
       "      <th>BBS_223</th>\n",
       "    </tr>\n",
       "  </thead>\n",
       "  <tbody>\n",
       "  </tbody>\n",
       "</table>\n",
       "</div>"
      ],
      "text/plain": [
       "Empty DataFrame\n",
       "Columns: [SECURITY_CODE, REPORT_DATE, FREQ_CODE, AUDITED, BBS_221, BBS_222, BBS_223]\n",
       "Index: []"
      ]
     },
     "execution_count": 16,
     "metadata": {},
     "output_type": "execute_result"
    }
   ],
   "source": [
    "bbs.check_bbs_221(df=df)"
   ]
  },
  {
   "cell_type": "code",
   "execution_count": 17,
   "metadata": {},
   "outputs": [
    {
     "name": "stdout",
     "output_type": "stream",
     "text": [
      "CHECK ITEM & SUB-ITEMS BBS_224\n"
     ]
    },
    {
     "data": {
      "text/html": [
       "<div>\n",
       "<style scoped>\n",
       "    .dataframe tbody tr th:only-of-type {\n",
       "        vertical-align: middle;\n",
       "    }\n",
       "\n",
       "    .dataframe tbody tr th {\n",
       "        vertical-align: top;\n",
       "    }\n",
       "\n",
       "    .dataframe thead th {\n",
       "        text-align: right;\n",
       "    }\n",
       "</style>\n",
       "<table border=\"1\" class=\"dataframe\">\n",
       "  <thead>\n",
       "    <tr style=\"text-align: right;\">\n",
       "      <th></th>\n",
       "      <th>SECURITY_CODE</th>\n",
       "      <th>REPORT_DATE</th>\n",
       "      <th>FREQ_CODE</th>\n",
       "      <th>AUDITED</th>\n",
       "      <th>BBS_224</th>\n",
       "      <th>BBS_225</th>\n",
       "      <th>BBS_226</th>\n",
       "    </tr>\n",
       "  </thead>\n",
       "  <tbody>\n",
       "  </tbody>\n",
       "</table>\n",
       "</div>"
      ],
      "text/plain": [
       "Empty DataFrame\n",
       "Columns: [SECURITY_CODE, REPORT_DATE, FREQ_CODE, AUDITED, BBS_224, BBS_225, BBS_226]\n",
       "Index: []"
      ]
     },
     "execution_count": 17,
     "metadata": {},
     "output_type": "execute_result"
    }
   ],
   "source": [
    "bbs.check_bbs_224(df=df)"
   ]
  },
  {
   "cell_type": "code",
   "execution_count": 18,
   "metadata": {},
   "outputs": [
    {
     "name": "stdout",
     "output_type": "stream",
     "text": [
      "CHECK ITEM & SUB-ITEMS BBS_227\n"
     ]
    },
    {
     "data": {
      "text/html": [
       "<div>\n",
       "<style scoped>\n",
       "    .dataframe tbody tr th:only-of-type {\n",
       "        vertical-align: middle;\n",
       "    }\n",
       "\n",
       "    .dataframe tbody tr th {\n",
       "        vertical-align: top;\n",
       "    }\n",
       "\n",
       "    .dataframe thead th {\n",
       "        text-align: right;\n",
       "    }\n",
       "</style>\n",
       "<table border=\"1\" class=\"dataframe\">\n",
       "  <thead>\n",
       "    <tr style=\"text-align: right;\">\n",
       "      <th></th>\n",
       "      <th>SECURITY_CODE</th>\n",
       "      <th>REPORT_DATE</th>\n",
       "      <th>FREQ_CODE</th>\n",
       "      <th>AUDITED</th>\n",
       "      <th>BBS_227</th>\n",
       "      <th>BBS_228</th>\n",
       "      <th>BBS_229</th>\n",
       "    </tr>\n",
       "  </thead>\n",
       "  <tbody>\n",
       "  </tbody>\n",
       "</table>\n",
       "</div>"
      ],
      "text/plain": [
       "Empty DataFrame\n",
       "Columns: [SECURITY_CODE, REPORT_DATE, FREQ_CODE, AUDITED, BBS_227, BBS_228, BBS_229]\n",
       "Index: []"
      ]
     },
     "execution_count": 18,
     "metadata": {},
     "output_type": "execute_result"
    }
   ],
   "source": [
    "bbs.check_bbs_227(df=df)"
   ]
  },
  {
   "cell_type": "code",
   "execution_count": 19,
   "metadata": {},
   "outputs": [
    {
     "name": "stdout",
     "output_type": "stream",
     "text": [
      "CHECK ITEM & SUB-ITEMS BBS_240\n"
     ]
    },
    {
     "data": {
      "text/html": [
       "<div>\n",
       "<style scoped>\n",
       "    .dataframe tbody tr th:only-of-type {\n",
       "        vertical-align: middle;\n",
       "    }\n",
       "\n",
       "    .dataframe tbody tr th {\n",
       "        vertical-align: top;\n",
       "    }\n",
       "\n",
       "    .dataframe thead th {\n",
       "        text-align: right;\n",
       "    }\n",
       "</style>\n",
       "<table border=\"1\" class=\"dataframe\">\n",
       "  <thead>\n",
       "    <tr style=\"text-align: right;\">\n",
       "      <th></th>\n",
       "      <th>SECURITY_CODE</th>\n",
       "      <th>REPORT_DATE</th>\n",
       "      <th>FREQ_CODE</th>\n",
       "      <th>AUDITED</th>\n",
       "      <th>BBS_240</th>\n",
       "      <th>BBS_241</th>\n",
       "      <th>BBS_242</th>\n",
       "    </tr>\n",
       "  </thead>\n",
       "  <tbody>\n",
       "  </tbody>\n",
       "</table>\n",
       "</div>"
      ],
      "text/plain": [
       "Empty DataFrame\n",
       "Columns: [SECURITY_CODE, REPORT_DATE, FREQ_CODE, AUDITED, BBS_240, BBS_241, BBS_242]\n",
       "Index: []"
      ]
     },
     "execution_count": 19,
     "metadata": {},
     "output_type": "execute_result"
    }
   ],
   "source": [
    "bbs.check_bbs_240(df=df)"
   ]
  },
  {
   "cell_type": "code",
   "execution_count": 20,
   "metadata": {},
   "outputs": [
    {
     "name": "stdout",
     "output_type": "stream",
     "text": [
      "CHECK ITEM & SUB-ITEMS BBS_250\n"
     ]
    },
    {
     "data": {
      "text/html": [
       "<div>\n",
       "<style scoped>\n",
       "    .dataframe tbody tr th:only-of-type {\n",
       "        vertical-align: middle;\n",
       "    }\n",
       "\n",
       "    .dataframe tbody tr th {\n",
       "        vertical-align: top;\n",
       "    }\n",
       "\n",
       "    .dataframe thead th {\n",
       "        text-align: right;\n",
       "    }\n",
       "</style>\n",
       "<table border=\"1\" class=\"dataframe\">\n",
       "  <thead>\n",
       "    <tr style=\"text-align: right;\">\n",
       "      <th></th>\n",
       "      <th>SECURITY_CODE</th>\n",
       "      <th>REPORT_DATE</th>\n",
       "      <th>FREQ_CODE</th>\n",
       "      <th>AUDITED</th>\n",
       "      <th>BBS_250</th>\n",
       "      <th>BBS_251</th>\n",
       "      <th>BBS_252</th>\n",
       "      <th>BBS_253</th>\n",
       "      <th>BBS_254</th>\n",
       "      <th>BBS_259</th>\n",
       "    </tr>\n",
       "  </thead>\n",
       "  <tbody>\n",
       "  </tbody>\n",
       "</table>\n",
       "</div>"
      ],
      "text/plain": [
       "Empty DataFrame\n",
       "Columns: [SECURITY_CODE, REPORT_DATE, FREQ_CODE, AUDITED, BBS_250, BBS_251, BBS_252, BBS_253, BBS_254, BBS_259]\n",
       "Index: []"
      ]
     },
     "execution_count": 20,
     "metadata": {},
     "output_type": "execute_result"
    }
   ],
   "source": [
    "bbs.check_bbs_250(df=df)"
   ]
  },
  {
   "cell_type": "code",
   "execution_count": 21,
   "metadata": {},
   "outputs": [
    {
     "name": "stdout",
     "output_type": "stream",
     "text": [
      "CHECK ITEM & SUB-ITEMS BBS_320\n"
     ]
    },
    {
     "data": {
      "text/html": [
       "<div>\n",
       "<style scoped>\n",
       "    .dataframe tbody tr th:only-of-type {\n",
       "        vertical-align: middle;\n",
       "    }\n",
       "\n",
       "    .dataframe tbody tr th {\n",
       "        vertical-align: top;\n",
       "    }\n",
       "\n",
       "    .dataframe thead th {\n",
       "        text-align: right;\n",
       "    }\n",
       "</style>\n",
       "<table border=\"1\" class=\"dataframe\">\n",
       "  <thead>\n",
       "    <tr style=\"text-align: right;\">\n",
       "      <th></th>\n",
       "      <th>SECURITY_CODE</th>\n",
       "      <th>REPORT_DATE</th>\n",
       "      <th>FREQ_CODE</th>\n",
       "      <th>AUDITED</th>\n",
       "      <th>BBS_320</th>\n",
       "      <th>BBS_321</th>\n",
       "      <th>BBS_322</th>\n",
       "    </tr>\n",
       "  </thead>\n",
       "  <tbody>\n",
       "  </tbody>\n",
       "</table>\n",
       "</div>"
      ],
      "text/plain": [
       "Empty DataFrame\n",
       "Columns: [SECURITY_CODE, REPORT_DATE, FREQ_CODE, AUDITED, BBS_320, BBS_321, BBS_322]\n",
       "Index: []"
      ]
     },
     "execution_count": 21,
     "metadata": {},
     "output_type": "execute_result"
    }
   ],
   "source": [
    "bbs.check_bbs_320(df=df)"
   ]
  },
  {
   "cell_type": "code",
   "execution_count": 22,
   "metadata": {},
   "outputs": [
    {
     "name": "stdout",
     "output_type": "stream",
     "text": [
      "CHECK ITEM & SUB-ITEMS BBS_400\n"
     ]
    },
    {
     "data": {
      "text/html": [
       "<div>\n",
       "<style scoped>\n",
       "    .dataframe tbody tr th:only-of-type {\n",
       "        vertical-align: middle;\n",
       "    }\n",
       "\n",
       "    .dataframe tbody tr th {\n",
       "        vertical-align: top;\n",
       "    }\n",
       "\n",
       "    .dataframe thead th {\n",
       "        text-align: right;\n",
       "    }\n",
       "</style>\n",
       "<table border=\"1\" class=\"dataframe\">\n",
       "  <thead>\n",
       "    <tr style=\"text-align: right;\">\n",
       "      <th></th>\n",
       "      <th>SECURITY_CODE</th>\n",
       "      <th>REPORT_DATE</th>\n",
       "      <th>FREQ_CODE</th>\n",
       "      <th>AUDITED</th>\n",
       "      <th>BBS_400</th>\n",
       "      <th>BBS_310</th>\n",
       "      <th>BBS_320</th>\n",
       "      <th>BBS_330</th>\n",
       "      <th>BBS_340</th>\n",
       "      <th>BBS_350</th>\n",
       "      <th>BBS_360</th>\n",
       "      <th>BBS_370</th>\n",
       "    </tr>\n",
       "  </thead>\n",
       "  <tbody>\n",
       "  </tbody>\n",
       "</table>\n",
       "</div>"
      ],
      "text/plain": [
       "Empty DataFrame\n",
       "Columns: [SECURITY_CODE, REPORT_DATE, FREQ_CODE, AUDITED, BBS_400, BBS_310, BBS_320, BBS_330, BBS_340, BBS_350, BBS_360, BBS_370]\n",
       "Index: []"
      ]
     },
     "execution_count": 22,
     "metadata": {},
     "output_type": "execute_result"
    }
   ],
   "source": [
    "bbs.check_bbs_400(df=df)"
   ]
  },
  {
   "cell_type": "code",
   "execution_count": 23,
   "metadata": {},
   "outputs": [
    {
     "name": "stdout",
     "output_type": "stream",
     "text": [
      "CHECK ITEM & SUB-ITEMS BBS_410\n"
     ]
    },
    {
     "data": {
      "text/html": [
       "<div>\n",
       "<style scoped>\n",
       "    .dataframe tbody tr th:only-of-type {\n",
       "        vertical-align: middle;\n",
       "    }\n",
       "\n",
       "    .dataframe tbody tr th {\n",
       "        vertical-align: top;\n",
       "    }\n",
       "\n",
       "    .dataframe thead th {\n",
       "        text-align: right;\n",
       "    }\n",
       "</style>\n",
       "<table border=\"1\" class=\"dataframe\">\n",
       "  <thead>\n",
       "    <tr style=\"text-align: right;\">\n",
       "      <th></th>\n",
       "      <th>SECURITY_CODE</th>\n",
       "      <th>REPORT_DATE</th>\n",
       "      <th>FREQ_CODE</th>\n",
       "      <th>AUDITED</th>\n",
       "      <th>BBS_410</th>\n",
       "      <th>BBS_411</th>\n",
       "      <th>BBS_412</th>\n",
       "      <th>BBS_413</th>\n",
       "      <th>BBS_414</th>\n",
       "      <th>BBS_415</th>\n",
       "      <th>BBS_416</th>\n",
       "    </tr>\n",
       "  </thead>\n",
       "  <tbody>\n",
       "  </tbody>\n",
       "</table>\n",
       "</div>"
      ],
      "text/plain": [
       "Empty DataFrame\n",
       "Columns: [SECURITY_CODE, REPORT_DATE, FREQ_CODE, AUDITED, BBS_410, BBS_411, BBS_412, BBS_413, BBS_414, BBS_415, BBS_416]\n",
       "Index: []"
      ]
     },
     "execution_count": 23,
     "metadata": {},
     "output_type": "execute_result"
    }
   ],
   "source": [
    "bbs.check_bbs_410(df=df)"
   ]
  },
  {
   "cell_type": "code",
   "execution_count": 24,
   "metadata": {},
   "outputs": [
    {
     "name": "stdout",
     "output_type": "stream",
     "text": [
      "CHECK ITEM & SUB-ITEMS BBS_500\n"
     ]
    },
    {
     "data": {
      "text/html": [
       "<div>\n",
       "<style scoped>\n",
       "    .dataframe tbody tr th:only-of-type {\n",
       "        vertical-align: middle;\n",
       "    }\n",
       "\n",
       "    .dataframe tbody tr th {\n",
       "        vertical-align: top;\n",
       "    }\n",
       "\n",
       "    .dataframe thead th {\n",
       "        text-align: right;\n",
       "    }\n",
       "</style>\n",
       "<table border=\"1\" class=\"dataframe\">\n",
       "  <thead>\n",
       "    <tr style=\"text-align: right;\">\n",
       "      <th></th>\n",
       "      <th>SECURITY_CODE</th>\n",
       "      <th>REPORT_DATE</th>\n",
       "      <th>FREQ_CODE</th>\n",
       "      <th>AUDITED</th>\n",
       "      <th>BBS_500</th>\n",
       "      <th>BBS_410</th>\n",
       "      <th>BBS_420</th>\n",
       "      <th>BBS_430</th>\n",
       "      <th>BBS_440</th>\n",
       "      <th>BBS_450</th>\n",
       "    </tr>\n",
       "  </thead>\n",
       "  <tbody>\n",
       "    <tr>\n",
       "      <th>4</th>\n",
       "      <td>BID</td>\n",
       "      <td>2020-03-31</td>\n",
       "      <td>Q</td>\n",
       "      <td>N</td>\n",
       "      <td>7.926932e+13</td>\n",
       "      <td>5.478041e+13</td>\n",
       "      <td>7.005898e+12</td>\n",
       "      <td>2.982630e+11</td>\n",
       "      <td>0.0</td>\n",
       "      <td>1.401534e+13</td>\n",
       "    </tr>\n",
       "    <tr>\n",
       "      <th>6</th>\n",
       "      <td>CTG</td>\n",
       "      <td>2020-03-31</td>\n",
       "      <td>Q</td>\n",
       "      <td>N</td>\n",
       "      <td>7.881123e+13</td>\n",
       "      <td>4.672464e+13</td>\n",
       "      <td>9.605683e+12</td>\n",
       "      <td>6.416840e+11</td>\n",
       "      <td>0.0</td>\n",
       "      <td>2.128756e+13</td>\n",
       "    </tr>\n",
       "    <tr>\n",
       "      <th>10</th>\n",
       "      <td>HDB</td>\n",
       "      <td>2020-03-31</td>\n",
       "      <td>Q</td>\n",
       "      <td>N</td>\n",
       "      <td>2.138781e+13</td>\n",
       "      <td>1.138166e+13</td>\n",
       "      <td>1.246161e+12</td>\n",
       "      <td>1.937000e+10</td>\n",
       "      <td>0.0</td>\n",
       "      <td>7.019397e+12</td>\n",
       "    </tr>\n",
       "    <tr>\n",
       "      <th>13</th>\n",
       "      <td>MBB</td>\n",
       "      <td>2020-03-31</td>\n",
       "      <td>Q</td>\n",
       "      <td>N</td>\n",
       "      <td>4.398405e+13</td>\n",
       "      <td>2.510854e+13</td>\n",
       "      <td>4.927170e+12</td>\n",
       "      <td>0.000000e+00</td>\n",
       "      <td>0.0</td>\n",
       "      <td>1.197344e+13</td>\n",
       "    </tr>\n",
       "    <tr>\n",
       "      <th>16</th>\n",
       "      <td>VCB</td>\n",
       "      <td>2020-06-30</td>\n",
       "      <td>Q</td>\n",
       "      <td>Y</td>\n",
       "      <td>8.957846e+13</td>\n",
       "      <td>4.242882e+13</td>\n",
       "      <td>1.218371e+13</td>\n",
       "      <td>2.726500e+10</td>\n",
       "      <td>0.0</td>\n",
       "      <td>3.484516e+13</td>\n",
       "    </tr>\n",
       "    <tr>\n",
       "      <th>...</th>\n",
       "      <td>...</td>\n",
       "      <td>...</td>\n",
       "      <td>...</td>\n",
       "      <td>...</td>\n",
       "      <td>...</td>\n",
       "      <td>...</td>\n",
       "      <td>...</td>\n",
       "      <td>...</td>\n",
       "      <td>...</td>\n",
       "      <td>...</td>\n",
       "    </tr>\n",
       "    <tr>\n",
       "      <th>489</th>\n",
       "      <td>TCB</td>\n",
       "      <td>2023-03-31</td>\n",
       "      <td>Q</td>\n",
       "      <td>N</td>\n",
       "      <td>1.179654e+14</td>\n",
       "      <td>3.620480e+13</td>\n",
       "      <td>1.160668e+13</td>\n",
       "      <td>4.648000e+09</td>\n",
       "      <td>0.0</td>\n",
       "      <td>6.897932e+13</td>\n",
       "    </tr>\n",
       "    <tr>\n",
       "      <th>493</th>\n",
       "      <td>VCB</td>\n",
       "      <td>2023-03-31</td>\n",
       "      <td>Q</td>\n",
       "      <td>N</td>\n",
       "      <td>1.446584e+14</td>\n",
       "      <td>5.313039e+13</td>\n",
       "      <td>2.255683e+13</td>\n",
       "      <td>-8.425530e+11</td>\n",
       "      <td>0.0</td>\n",
       "      <td>6.971995e+13</td>\n",
       "    </tr>\n",
       "    <tr>\n",
       "      <th>495</th>\n",
       "      <td>VPB</td>\n",
       "      <td>2023-03-31</td>\n",
       "      <td>Q</td>\n",
       "      <td>N</td>\n",
       "      <td>1.050976e+14</td>\n",
       "      <td>6.655077e+13</td>\n",
       "      <td>1.353508e+13</td>\n",
       "      <td>0.000000e+00</td>\n",
       "      <td>0.0</td>\n",
       "      <td>1.926076e+13</td>\n",
       "    </tr>\n",
       "    <tr>\n",
       "      <th>499</th>\n",
       "      <td>CTG</td>\n",
       "      <td>2023-03-31</td>\n",
       "      <td>Q</td>\n",
       "      <td>N</td>\n",
       "      <td>1.129452e+14</td>\n",
       "      <td>5.786822e+13</td>\n",
       "      <td>1.607542e+13</td>\n",
       "      <td>7.535300e+10</td>\n",
       "      <td>0.0</td>\n",
       "      <td>3.816740e+13</td>\n",
       "    </tr>\n",
       "    <tr>\n",
       "      <th>500</th>\n",
       "      <td>HDB</td>\n",
       "      <td>2023-03-31</td>\n",
       "      <td>Q</td>\n",
       "      <td>N</td>\n",
       "      <td>4.082779e+13</td>\n",
       "      <td>2.542603e+13</td>\n",
       "      <td>3.522956e+12</td>\n",
       "      <td>1.896300e+10</td>\n",
       "      <td>0.0</td>\n",
       "      <td>1.008780e+13</td>\n",
       "    </tr>\n",
       "  </tbody>\n",
       "</table>\n",
       "<p>130 rows × 10 columns</p>\n",
       "</div>"
      ],
      "text/plain": [
       "    SECURITY_CODE REPORT_DATE FREQ_CODE AUDITED       BBS_500       BBS_410  \\\n",
       "4             BID  2020-03-31         Q       N  7.926932e+13  5.478041e+13   \n",
       "6             CTG  2020-03-31         Q       N  7.881123e+13  4.672464e+13   \n",
       "10            HDB  2020-03-31         Q       N  2.138781e+13  1.138166e+13   \n",
       "13            MBB  2020-03-31         Q       N  4.398405e+13  2.510854e+13   \n",
       "16            VCB  2020-06-30         Q       Y  8.957846e+13  4.242882e+13   \n",
       "..            ...         ...       ...     ...           ...           ...   \n",
       "489           TCB  2023-03-31         Q       N  1.179654e+14  3.620480e+13   \n",
       "493           VCB  2023-03-31         Q       N  1.446584e+14  5.313039e+13   \n",
       "495           VPB  2023-03-31         Q       N  1.050976e+14  6.655077e+13   \n",
       "499           CTG  2023-03-31         Q       N  1.129452e+14  5.786822e+13   \n",
       "500           HDB  2023-03-31         Q       N  4.082779e+13  2.542603e+13   \n",
       "\n",
       "          BBS_420       BBS_430  BBS_440       BBS_450  \n",
       "4    7.005898e+12  2.982630e+11      0.0  1.401534e+13  \n",
       "6    9.605683e+12  6.416840e+11      0.0  2.128756e+13  \n",
       "10   1.246161e+12  1.937000e+10      0.0  7.019397e+12  \n",
       "13   4.927170e+12  0.000000e+00      0.0  1.197344e+13  \n",
       "16   1.218371e+13  2.726500e+10      0.0  3.484516e+13  \n",
       "..            ...           ...      ...           ...  \n",
       "489  1.160668e+13  4.648000e+09      0.0  6.897932e+13  \n",
       "493  2.255683e+13 -8.425530e+11      0.0  6.971995e+13  \n",
       "495  1.353508e+13  0.000000e+00      0.0  1.926076e+13  \n",
       "499  1.607542e+13  7.535300e+10      0.0  3.816740e+13  \n",
       "500  3.522956e+12  1.896300e+10      0.0  1.008780e+13  \n",
       "\n",
       "[130 rows x 10 columns]"
      ]
     },
     "execution_count": 24,
     "metadata": {},
     "output_type": "execute_result"
    }
   ],
   "source": [
    "bbs.check_bbs_500(df=df)\n",
    "\n",
    "# HDB: BIS 420\n",
    "# CTG: Contains BIS_470"
   ]
  },
  {
   "cell_type": "code",
   "execution_count": 25,
   "metadata": {},
   "outputs": [
    {
     "name": "stdout",
     "output_type": "stream",
     "text": [
      "CHECK ITEM & SUB-ITEMS BBS_800\n"
     ]
    },
    {
     "data": {
      "text/html": [
       "<div>\n",
       "<style scoped>\n",
       "    .dataframe tbody tr th:only-of-type {\n",
       "        vertical-align: middle;\n",
       "    }\n",
       "\n",
       "    .dataframe tbody tr th {\n",
       "        vertical-align: top;\n",
       "    }\n",
       "\n",
       "    .dataframe thead th {\n",
       "        text-align: right;\n",
       "    }\n",
       "</style>\n",
       "<table border=\"1\" class=\"dataframe\">\n",
       "  <thead>\n",
       "    <tr style=\"text-align: right;\">\n",
       "      <th></th>\n",
       "      <th>SECURITY_CODE</th>\n",
       "      <th>REPORT_DATE</th>\n",
       "      <th>FREQ_CODE</th>\n",
       "      <th>AUDITED</th>\n",
       "      <th>BBS_800</th>\n",
       "      <th>BBS_400</th>\n",
       "      <th>BBS_500</th>\n",
       "    </tr>\n",
       "  </thead>\n",
       "  <tbody>\n",
       "  </tbody>\n",
       "</table>\n",
       "</div>"
      ],
      "text/plain": [
       "Empty DataFrame\n",
       "Columns: [SECURITY_CODE, REPORT_DATE, FREQ_CODE, AUDITED, BBS_800, BBS_400, BBS_500]\n",
       "Index: []"
      ]
     },
     "execution_count": 25,
     "metadata": {},
     "output_type": "execute_result"
    }
   ],
   "source": [
    "bbs.check_bbs_800(df=df)"
   ]
  },
  {
   "cell_type": "code",
   "execution_count": null,
   "metadata": {},
   "outputs": [],
   "source": []
  }
 ],
 "metadata": {
  "kernelspec": {
   "display_name": "quant_p",
   "language": "python",
   "name": "python3"
  },
  "language_info": {
   "codemirror_mode": {
    "name": "ipython",
    "version": 3
   },
   "file_extension": ".py",
   "mimetype": "text/x-python",
   "name": "python",
   "nbconvert_exporter": "python",
   "pygments_lexer": "ipython3",
   "version": "3.10.5"
  },
  "orig_nbformat": 4
 },
 "nbformat": 4,
 "nbformat_minor": 2
}
