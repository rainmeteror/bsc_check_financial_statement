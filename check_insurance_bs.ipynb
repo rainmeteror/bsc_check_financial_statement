{
 "cells": [
  {
   "cell_type": "code",
   "execution_count": 1,
   "metadata": {},
   "outputs": [],
   "source": [
    "import pandas as pd\n",
    "import numpy as np"
   ]
  },
  {
   "cell_type": "code",
   "execution_count": 2,
   "metadata": {},
   "outputs": [],
   "source": [
    "def check_ibs_110(df: pd.DataFrame) -> pd.DataFrame:\n",
    "    default_list = ['SECURITY_CODE', 'REPORT_DATE', 'FREQ_CODE', 'AUDITED']\n",
    "    check_list = ['IBS_110', 'IBS_111', 'IBS_112']\n",
    "    df['check'] = df[check_list[0]] - np.sum(df[i] for i in check_list[1:])\n",
    "    \n",
    "    return df[default_list + check_list].loc[df['check'] != 0]"
   ]
  },
  {
   "cell_type": "code",
   "execution_count": 3,
   "metadata": {},
   "outputs": [],
   "source": [
    "def check_ibs_120(df: pd.DataFrame) -> pd.DataFrame:\n",
    "    default_list = ['SECURITY_CODE', 'REPORT_DATE', 'FREQ_CODE', 'AUDITED']\n",
    "    check_list = ['IBS_120', 'IBS_121', 'IBS_129', 'IBS_1291']\n",
    "    df['check'] = df[check_list[0]] - np.sum(df[i] for i in check_list[1:])\n",
    "    \n",
    "    return df[default_list + check_list].loc[df['check'] != 0]"
   ]
  },
  {
   "cell_type": "code",
   "execution_count": null,
   "metadata": {},
   "outputs": [],
   "source": []
  }
 ],
 "metadata": {
  "kernelspec": {
   "display_name": "quant_p",
   "language": "python",
   "name": "python3"
  },
  "language_info": {
   "codemirror_mode": {
    "name": "ipython",
    "version": 3
   },
   "file_extension": ".py",
   "mimetype": "text/x-python",
   "name": "python",
   "nbconvert_exporter": "python",
   "pygments_lexer": "ipython3",
   "version": "3.11.2"
  },
  "orig_nbformat": 4
 },
 "nbformat": 4,
 "nbformat_minor": 2
}
