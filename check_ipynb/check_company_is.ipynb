{
 "cells": [
  {
   "cell_type": "code",
   "execution_count": 1,
   "metadata": {},
   "outputs": [],
   "source": [
    "import pandas as pd\n",
    "import numpy as np"
   ]
  },
  {
   "cell_type": "code",
   "execution_count": 2,
   "metadata": {},
   "outputs": [],
   "source": [
    "def check_cis_10(df: pd.DataFrame) -> pd.DataFrame:\n",
    "    default_list = ['SECURITY_CODE', 'REPORT_DATE', 'FREQ_CODE', 'AUDITED']\n",
    "    check_list = ['CIS_10', 'CIS_1', 'CIS_2']\n",
    "    df['check'] = df[check_list[0]] - np.sum(df[i] for i in check_list[1:])\n",
    "    \n",
    "    return df[default_list + check_list].loc[df['check'] != 0]"
   ]
  },
  {
   "cell_type": "code",
   "execution_count": 3,
   "metadata": {},
   "outputs": [],
   "source": [
    "def check_cis_20(df: pd.DataFrame) -> pd.DataFrame:\n",
    "    default_list = ['SECURITY_CODE', 'REPORT_DATE', 'FREQ_CODE', 'AUDITED']\n",
    "    check_list = ['CIS_20', 'CIS_10', 'CIS_11']\n",
    "    df['check'] = df[check_list[0]] - np.sum(df[i] for i in check_list[1:])\n",
    "    \n",
    "    return df[default_list + check_list].loc[df['check'] != 0]"
   ]
  },
  {
   "cell_type": "code",
   "execution_count": 4,
   "metadata": {},
   "outputs": [],
   "source": [
    "def check_cis_30(df: pd.DataFrame) -> pd.DataFrame:\n",
    "    default_list = ['SECURITY_CODE', 'REPORT_DATE', 'FREQ_CODE', 'AUDITED']\n",
    "    check_list = ['CIS_30', 'CIS_20', 'CIS_21', 'CIS_22',\n",
    "                  'CIS_24', 'CIS_25', 'CIS_26']\n",
    "    df['check'] = df[check_list[0]] - np.sum(df[i] for i in check_list[1:])\n",
    "    \n",
    "    return df[default_list + check_list].loc[df['check'] != 0]"
   ]
  },
  {
   "cell_type": "code",
   "execution_count": 5,
   "metadata": {},
   "outputs": [],
   "source": [
    "def check_cis_40(df: pd.DataFrame) -> pd.DataFrame:\n",
    "    default_list = ['SECURITY_CODE', 'REPORT_DATE', 'FREQ_CODE', 'AUDITED']\n",
    "    check_list = ['CIS_40', 'CIS_31', 'CIS_32']\n",
    "    df['check'] = df[check_list[0]] - np.sum(df[i] for i in check_list[1:])\n",
    "    \n",
    "    return df[default_list + check_list].loc[df['check'] != 0]"
   ]
  },
  {
   "cell_type": "code",
   "execution_count": 6,
   "metadata": {},
   "outputs": [],
   "source": [
    "def check_cis_50(df: pd.DataFrame) -> pd.DataFrame:\n",
    "    default_list = ['SECURITY_CODE', 'REPORT_DATE', 'FREQ_CODE', 'AUDITED']\n",
    "    check_list = ['CIS_50', 'CIS_30', 'CIS_40']\n",
    "    df['check'] = df[check_list[0]] - np.sum(df[i] for i in check_list[1:])\n",
    "    \n",
    "    return df[default_list + check_list].loc[df['check'] != 0]"
   ]
  },
  {
   "cell_type": "code",
   "execution_count": 7,
   "metadata": {},
   "outputs": [],
   "source": [
    "def check_cis_521(df: pd.DataFrame) -> pd.DataFrame:\n",
    "    default_list = ['SECURITY_CODE', 'REPORT_DATE', 'FREQ_CODE', 'AUDITED']\n",
    "    check_list = ['CIS_521', 'CIS_51', 'CIS_52']\n",
    "    df['check'] = df[check_list[0]] - np.sum(df[i] for i in check_list[1:])\n",
    "    \n",
    "    return df[default_list + check_list].loc[df['check'] != 0]"
   ]
  },
  {
   "cell_type": "code",
   "execution_count": 8,
   "metadata": {},
   "outputs": [],
   "source": [
    "def check_cis_60(df: pd.DataFrame) -> pd.DataFrame:\n",
    "    default_list = ['SECURITY_CODE', 'REPORT_DATE', 'FREQ_CODE', 'AUDITED']\n",
    "    check_list = ['CIS_60', 'CIS_50', 'CIS_521']\n",
    "    df['check'] = df[check_list[0]] - np.sum(df[i] for i in check_list[1:])\n",
    "    \n",
    "    return df[default_list + check_list].loc[df['check'] != 0]"
   ]
  },
  {
   "cell_type": "code",
   "execution_count": 9,
   "metadata": {},
   "outputs": [],
   "source": [
    "def check_cis_61(df: pd.DataFrame) -> pd.DataFrame:\n",
    "    default_list = ['SECURITY_CODE', 'REPORT_DATE', 'FREQ_CODE', 'AUDITED']\n",
    "    check_list = ['CIS_60', 'CIS_62', 'CIS_61']\n",
    "    df['check'] = df[check_list[0]] - np.sum(df[i] for i in check_list[1:])\n",
    "    \n",
    "    return df[default_list + check_list].loc[df['check'] != 0]"
   ]
  },
  {
   "cell_type": "code",
   "execution_count": null,
   "metadata": {},
   "outputs": [],
   "source": []
  }
 ],
 "metadata": {
  "kernelspec": {
   "display_name": "quant_p",
   "language": "python",
   "name": "python3"
  },
  "language_info": {
   "codemirror_mode": {
    "name": "ipython",
    "version": 3
   },
   "file_extension": ".py",
   "mimetype": "text/x-python",
   "name": "python",
   "nbconvert_exporter": "python",
   "pygments_lexer": "ipython3",
   "version": "3.11.2"
  },
  "orig_nbformat": 4
 },
 "nbformat": 4,
 "nbformat_minor": 2
}
