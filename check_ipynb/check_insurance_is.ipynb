{
 "cells": [
  {
   "cell_type": "code",
   "execution_count": 1,
   "metadata": {},
   "outputs": [],
   "source": [
    "import pandas as pd\n",
    "import numpy as np"
   ]
  },
  {
   "cell_type": "code",
   "execution_count": 2,
   "metadata": {},
   "outputs": [],
   "source": [
    "def check_iis_01(df: pd.DataFrame) -> pd.DataFrame:\n",
    "    default_list = ['SECURITY_CODE', 'REPORT_DATE', 'FREQ_CODE', 'AUDITED']\n",
    "    check_list = ['IIS_01', 'IIS_011', 'IIS_012', 'IIS_013']\n",
    "    df['check'] = df[check_list[0]] - np.sum(df[i] for i in check_list[1:])\n",
    "    \n",
    "    return df[default_list + check_list].loc[df['check'] != 0]"
   ]
  },
  {
   "cell_type": "code",
   "execution_count": 3,
   "metadata": {},
   "outputs": [],
   "source": [
    "def check_iis_02(df: pd.DataFrame) -> pd.DataFrame:\n",
    "    default_list = ['SECURITY_CODE', 'REPORT_DATE', 'FREQ_CODE', 'AUDITED']\n",
    "    check_list = ['IIS_02', 'IIS_021', 'IIS_022', 'IIS_023', 'IIS_024']\n",
    "    df['check'] = df[check_list[0]] - np.sum(df[i] for i in check_list[1:])\n",
    "    \n",
    "    return df[default_list + check_list].loc[df['check'] != 0]"
   ]
  },
  {
   "cell_type": "code",
   "execution_count": 4,
   "metadata": {},
   "outputs": [],
   "source": [
    "def check_iis_04(df: pd.DataFrame) -> pd.DataFrame:\n",
    "    default_list = ['SECURITY_CODE', 'REPORT_DATE', 'FREQ_CODE', 'AUDITED']\n",
    "    check_list = ['IIS_04', 'IIS_041', 'IIS_042']\n",
    "    df['check'] = df[check_list[0]] - np.sum(df[i] for i in check_list[1:])\n",
    "    \n",
    "    return df[default_list + check_list].loc[df['check'] != 0]"
   ]
  },
  {
   "cell_type": "code",
   "execution_count": 5,
   "metadata": {},
   "outputs": [],
   "source": [
    "def check_iis_042(df: pd.DataFrame) -> pd.DataFrame:\n",
    "    default_list = ['SECURITY_CODE', 'REPORT_DATE', 'FREQ_CODE', 'AUDITED']\n",
    "    check_list = ['IIS_042', 'IIS_043', 'IIS_044', 'IIS_045']\n",
    "    df['check'] = df[check_list[0]] - np.sum(df[i] for i in check_list[1:])\n",
    "    \n",
    "    return df[default_list + check_list].loc[df['check'] != 0]"
   ]
  },
  {
   "cell_type": "code",
   "execution_count": 6,
   "metadata": {},
   "outputs": [],
   "source": [
    "def check_iis_03(df: pd.DataFrame) -> pd.DataFrame:\n",
    "    default_list = ['SECURITY_CODE', 'REPORT_DATE', 'FREQ_CODE', 'AUDITED']\n",
    "    check_list = ['IIS_03', 'IIS_02', 'IIS_01']\n",
    "    df['check'] = df[check_list[0]] - np.sum(df[i] for i in check_list[1:])\n",
    "    \n",
    "    return df[default_list + check_list].loc[df['check'] != 0]"
   ]
  },
  {
   "cell_type": "code",
   "execution_count": 7,
   "metadata": {},
   "outputs": [],
   "source": [
    "def check_iis_10(df: pd.DataFrame) -> pd.DataFrame:\n",
    "    default_list = ['SECURITY_CODE', 'REPORT_DATE', 'FREQ_CODE', 'AUDITED']\n",
    "    check_list = ['IIS_10', 'IIS_03', 'IIS_04', 'IIS_023', 'IIS_024']\n",
    "    df['check'] = df[check_list[0]] - np.sum(df[i] for i in check_list[1:])\n",
    "    \n",
    "    return df[default_list + check_list].loc[df['check'] != 0]"
   ]
  },
  {
   "cell_type": "code",
   "execution_count": 8,
   "metadata": {},
   "outputs": [],
   "source": [
    "def check_iis_112(df: pd.DataFrame) -> pd.DataFrame:\n",
    "    default_list = ['SECURITY_CODE', 'REPORT_DATE', 'FREQ_CODE', 'AUDITED']\n",
    "    check_list = ['IIS_112', 'IIS_121', 'IIS_122', 'IIS_123']\n",
    "    df['check'] = df[check_list[0]] - np.sum(df[i] for i in check_list[1:])\n",
    "    \n",
    "    return df[default_list + check_list].loc[df['check'] != 0]"
   ]
  },
  {
   "cell_type": "code",
   "execution_count": 9,
   "metadata": {},
   "outputs": [],
   "source": [
    "def check_iis_126(df: pd.DataFrame) -> pd.DataFrame:\n",
    "    default_list = ['SECURITY_CODE', 'REPORT_DATE', 'FREQ_CODE', 'AUDITED']\n",
    "    check_list = ['IIS_126', 'IIS_13', 'IIS_14']\n",
    "    df['check'] = df[check_list[0]] - np.sum(df[i] for i in check_list[1:])\n",
    "    \n",
    "    return df[default_list + check_list].loc[df['check'] != 0]"
   ]
  },
  {
   "cell_type": "code",
   "execution_count": 10,
   "metadata": {},
   "outputs": [],
   "source": [
    "def check_iis_171(df: pd.DataFrame) -> pd.DataFrame:\n",
    "    default_list = ['SECURITY_CODE', 'REPORT_DATE', 'FREQ_CODE', 'AUDITED']\n",
    "    check_list = ['IIS_171', 'IIS_172', 'IIS_173', 'IIS_174',\n",
    "                  'IIS_175', 'IIS_176', 'IIS_177', 'IIS_178']\n",
    "    df['check'] = df[check_list[0]] - np.sum(df[i] for i in check_list[1:])\n",
    "    \n",
    "    return df[default_list + check_list].loc[df['check'] != 0]"
   ]
  },
  {
   "cell_type": "code",
   "execution_count": 11,
   "metadata": {},
   "outputs": [],
   "source": [
    "def check_iis_17(df: pd.DataFrame) -> pd.DataFrame:\n",
    "    default_list = ['SECURITY_CODE', 'REPORT_DATE', 'FREQ_CODE', 'AUDITED']\n",
    "    check_list = ['IIS_17', 'IIS_171', 'IIS_179', 'IIS_1710',\n",
    "                  'IIS_1711']\n",
    "    df['check'] = df[check_list[0]] - np.sum(df[i] for i in check_list[1:])\n",
    "    \n",
    "    return df[default_list + check_list].loc[df['check'] != 0]"
   ]
  },
  {
   "cell_type": "code",
   "execution_count": 12,
   "metadata": {},
   "outputs": [],
   "source": [
    "def check_iis_15(df: pd.DataFrame) -> pd.DataFrame:\n",
    "    default_list = ['SECURITY_CODE', 'REPORT_DATE', 'FREQ_CODE', 'AUDITED']\n",
    "    check_list = ['IIS_15', 'IIS_124', 'IIS_125']\n",
    "    df['check'] = df[check_list[0]] - np.sum(df[i] for i in check_list[1:])\n",
    "    \n",
    "    return df[default_list + check_list].loc[df['check'] != 0]"
   ]
  },
  {
   "cell_type": "code",
   "execution_count": 13,
   "metadata": {},
   "outputs": [],
   "source": [
    "def check_iis_18(df: pd.DataFrame) -> pd.DataFrame:\n",
    "    default_list = ['SECURITY_CODE', 'REPORT_DATE', 'FREQ_CODE', 'AUDITED']\n",
    "    check_list = ['IIS_18', 'IIS_15', 'IIS_161', 'IIS_162',\n",
    "                  'IIS_17']\n",
    "    df['check'] = df[check_list[0]] - np.sum(df[i] for i in check_list[1:])\n",
    "    \n",
    "    return df[default_list + check_list].loc[df['check'] != 0]"
   ]
  },
  {
   "cell_type": "code",
   "execution_count": 20,
   "metadata": {},
   "outputs": [],
   "source": [
    "def check_iis_19(df: pd.DataFrame) -> pd.DataFrame:\n",
    "    default_list = ['SECURITY_CODE', 'REPORT_DATE', 'FREQ_CODE', 'AUDITED']\n",
    "    check_list = ['IIS_19', 'IIS_10', 'IIS_18']\n",
    "    df['check'] = df[check_list[0]] - np.sum(df[i] for i in check_list[1:])\n",
    "    \n",
    "    return df[default_list + check_list].loc[df['check'] != 0]"
   ]
  },
  {
   "cell_type": "code",
   "execution_count": 14,
   "metadata": {},
   "outputs": [],
   "source": [
    "def check_iis_192(df: pd.DataFrame) -> pd.DataFrame:\n",
    "    default_list = ['SECURITY_CODE', 'REPORT_DATE', 'FREQ_CODE', 'AUDITED']\n",
    "    check_list = ['IIS_192', 'IIS_202', 'IIS_212']\n",
    "    df['check'] = df[check_list[0]] - np.sum(df[i] for i in check_list[1:])\n",
    "    \n",
    "    return df[default_list + check_list].loc[df['check'] != 0]"
   ]
  },
  {
   "cell_type": "code",
   "execution_count": 15,
   "metadata": {},
   "outputs": [],
   "source": [
    "def check_iis_193(df: pd.DataFrame) -> pd.DataFrame:\n",
    "    default_list = ['SECURITY_CODE', 'REPORT_DATE', 'FREQ_CODE', 'AUDITED']\n",
    "    check_list = ['IIS_193', 'IIS_203', 'IIS_213']\n",
    "    df['check'] = df[check_list[0]] - np.sum(df[i] for i in check_list[1:])\n",
    "    \n",
    "    return df[default_list + check_list].loc[df['check'] != 0]"
   ]
  },
  {
   "cell_type": "code",
   "execution_count": 16,
   "metadata": {},
   "outputs": [],
   "source": [
    "def check_iis_26(df: pd.DataFrame) -> pd.DataFrame:\n",
    "    default_list = ['SECURITY_CODE', 'REPORT_DATE', 'FREQ_CODE', 'AUDITED']\n",
    "    check_list = ['IIS_26', 'IIS_261', 'IIS_262', 'IIS_263']\n",
    "    df['check'] = df[check_list[0]] - np.sum(df[i] for i in check_list[1:])\n",
    "    \n",
    "    return df[default_list + check_list].loc[df['check'] != 0]"
   ]
  },
  {
   "cell_type": "code",
   "execution_count": 17,
   "metadata": {},
   "outputs": [],
   "source": [
    "def check_iis_301(df: pd.DataFrame) -> pd.DataFrame:\n",
    "    default_list = ['SECURITY_CODE', 'REPORT_DATE', 'FREQ_CODE', 'AUDITED']\n",
    "    check_list = ['IIS_301', 'IIS_302', 'IIS_303']\n",
    "    df['check'] = df[check_list[0]] - np.sum(df[i] for i in check_list[1:])\n",
    "    \n",
    "    return df[default_list + check_list].loc[df['check'] != 0]"
   ]
  },
  {
   "cell_type": "code",
   "execution_count": 18,
   "metadata": {},
   "outputs": [],
   "source": [
    "def check_iis_24(df: pd.DataFrame) -> pd.DataFrame:\n",
    "    default_list = ['SECURITY_CODE', 'REPORT_DATE', 'FREQ_CODE', 'AUDITED']\n",
    "    check_list = ['IIS_24', 'IIS_22', 'IIS_23', 'IIS_306']\n",
    "    df['check'] = df[check_list[0]] - np.sum(df[i] for i in check_list[1:])\n",
    "    \n",
    "    return df[default_list + check_list].loc[df['check'] != 0]"
   ]
  },
  {
   "cell_type": "code",
   "execution_count": 19,
   "metadata": {},
   "outputs": [],
   "source": [
    "def check_iis_40(df: pd.DataFrame) -> pd.DataFrame:\n",
    "    default_list = ['SECURITY_CODE', 'REPORT_DATE', 'FREQ_CODE', 'AUDITED']\n",
    "    check_list = ['IIS_40', 'IIS_31', 'IIS_32']\n",
    "    df['check'] = df[check_list[0]] - np.sum(df[i] for i in check_list[1:])\n",
    "    \n",
    "    return df[default_list + check_list].loc[df['check'] != 0]"
   ]
  },
  {
   "cell_type": "code",
   "execution_count": null,
   "metadata": {},
   "outputs": [],
   "source": []
  }
 ],
 "metadata": {
  "kernelspec": {
   "display_name": "quant_p",
   "language": "python",
   "name": "python3"
  },
  "language_info": {
   "codemirror_mode": {
    "name": "ipython",
    "version": 3
   },
   "file_extension": ".py",
   "mimetype": "text/x-python",
   "name": "python",
   "nbconvert_exporter": "python",
   "pygments_lexer": "ipython3",
   "version": "3.11.2"
  },
  "orig_nbformat": 4
 },
 "nbformat": 4,
 "nbformat_minor": 2
}
