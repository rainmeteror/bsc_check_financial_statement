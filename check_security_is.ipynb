{
 "cells": [
  {
   "cell_type": "code",
   "execution_count": 1,
   "metadata": {},
   "outputs": [],
   "source": [
    "import pandas as pd\n",
    "import numpy as np"
   ]
  },
  {
   "cell_type": "code",
   "execution_count": 2,
   "metadata": {},
   "outputs": [],
   "source": [
    "def check_sis_1(df: pd.DataFrame) -> pd.DataFrame:\n",
    "    default_list = ['SECURITY_CODE', 'REPORT_DATE', 'FREQ_CODE', 'AUDITED']\n",
    "    check_list = ['SIS_1', 'SIS_1_1', 'SIS_1_2', 'SIS_1_3']\n",
    "    df['check'] = df[check_list[0]] - np.sum(df[i] for i in check_list[1:])\n",
    "    \n",
    "    return df[default_list + check_list].loc[df['check'] != 0]"
   ]
  },
  {
   "cell_type": "code",
   "execution_count": 3,
   "metadata": {},
   "outputs": [],
   "source": [
    "def check_sis_20(df: pd.DataFrame) -> pd.DataFrame:\n",
    "    default_list = ['SECURITY_CODE', 'REPORT_DATE', 'FREQ_CODE', 'AUDITED']\n",
    "    check_list = ['SIS_20', 'SIS_1', 'SIS_2', 'SIS_4',\n",
    "                  'SIS_5', 'SIS_6', 'SIS_7_1', 'SIS_7_2',\n",
    "                  'SIS_8', 'SIS_8_1', 'SIS_9', 'SIS_9_1',\n",
    "                  'SIS_9_2', 'SIS_10', 'SIS_11']\n",
    "    df['check'] = df[check_list[0]] - np.sum(df[i] for i in check_list[1:])\n",
    "    \n",
    "    return df[default_list + check_list].loc[df['check'] != 0]"
   ]
  },
  {
   "cell_type": "code",
   "execution_count": 4,
   "metadata": {},
   "outputs": [],
   "source": [
    "def check_sis_11_2(df: pd.DataFrame) -> pd.DataFrame:\n",
    "    default_list = ['SECURITY_CODE', 'REPORT_DATE', 'FREQ_CODE', 'AUDITED']\n",
    "    check_list = ['SIS_11_2', 'SIS_20', 'SIS_11_1']\n",
    "    df['check'] = df[check_list[0]] - np.sum(df[i] for i in check_list[1:])\n",
    "    \n",
    "    return df[default_list + check_list].loc[df['check'] != 0]"
   ]
  },
  {
   "cell_type": "code",
   "execution_count": 5,
   "metadata": {},
   "outputs": [],
   "source": [
    "def check_sis_21(df: pd.DataFrame) -> pd.DataFrame:\n",
    "    default_list = ['SECURITY_CODE', 'REPORT_DATE', 'FREQ_CODE', 'AUDITED']\n",
    "    check_list = ['SIS_21', 'SIS_21_1', 'SIS_21_2', 'SIS_21_3']\n",
    "    df['check'] = df[check_list[0]] - np.sum(df[i] for i in check_list[1:])\n",
    "    \n",
    "    return df[default_list + check_list].loc[df['check'] != 0]"
   ]
  },
  {
   "cell_type": "code",
   "execution_count": 6,
   "metadata": {},
   "outputs": [],
   "source": [
    "def check_sis_40(df: pd.DataFrame) -> pd.DataFrame:\n",
    "    default_list = ['SECURITY_CODE', 'REPORT_DATE', 'FREQ_CODE', 'AUDITED']\n",
    "    check_list = ['SIS_40', 'SIS_21', 'SIS_22', 'SIS_22_1',\n",
    "                  'SIS_23', 'SIS_24', 'SIS_25', 'SIS_26',\n",
    "                  'SIS_27', 'SIS_28', 'SIS_29', 'SIS_29_1',\n",
    "                  'SIS_30', 'SIS_31', 'SIS_32']\n",
    "    df['check'] = df[check_list[0]] - np.sum(df[i] for i in check_list[1:])\n",
    "    \n",
    "    return df[default_list + check_list].loc[df['check'] != 0]"
   ]
  },
  {
   "cell_type": "code",
   "execution_count": 7,
   "metadata": {},
   "outputs": [],
   "source": [
    "def check_sis_50_1(df: pd.DataFrame) -> pd.DataFrame:\n",
    "    default_list = ['SECURITY_CODE', 'REPORT_DATE', 'FREQ_CODE', 'AUDITED']\n",
    "    check_list = ['SIS_50_1', 'SIS_11_2', 'SIS_40']\n",
    "    df['check'] = df[check_list[0]] - np.sum(df[i] for i in check_list[1:])\n",
    "    \n",
    "    return df[default_list + check_list].loc[df['check'] != 0]"
   ]
  },
  {
   "cell_type": "code",
   "execution_count": 8,
   "metadata": {},
   "outputs": [],
   "source": [
    "def check_sis_50(df: pd.DataFrame) -> pd.DataFrame:\n",
    "    default_list = ['SECURITY_CODE', 'REPORT_DATE', 'FREQ_CODE', 'AUDITED']\n",
    "    check_list = ['SIS_50', 'SIS_41', 'SIS_42', 'SIS_43',\n",
    "                  'SIS_44']\n",
    "    df['check'] = df[check_list[0]] - np.sum(df[i] for i in check_list[1:])\n",
    "    \n",
    "    return df[default_list + check_list].loc[df['check'] != 0]"
   ]
  },
  {
   "cell_type": "code",
   "execution_count": 9,
   "metadata": {},
   "outputs": [],
   "source": [
    "def check_sis_60(df: pd.DataFrame) -> pd.DataFrame:\n",
    "    default_list = ['SECURITY_CODE', 'REPORT_DATE', 'FREQ_CODE', 'AUDITED']\n",
    "    check_list = ['SIS_60', 'SIS_51', 'SIS_52', 'SIS_53',\n",
    "                  'SIS_54', 'SIS_55']\n",
    "    df['check'] = df[check_list[0]] - np.sum(df[i] for i in check_list[1:])\n",
    "    \n",
    "    return df[default_list + check_list].loc[df['check'] != 0]"
   ]
  },
  {
   "cell_type": "code",
   "execution_count": 10,
   "metadata": {},
   "outputs": [],
   "source": [
    "def check_sis_70(df: pd.DataFrame) -> pd.DataFrame:\n",
    "    default_list = ['SECURITY_CODE', 'REPORT_DATE', 'FREQ_CODE', 'AUDITED']\n",
    "    check_list = ['SIS_70', 'SIS_50_1', 'SIS_50', 'SIS_60',\n",
    "                  'SIS_56', 'SIS_61', 'SIS_62']\n",
    "    df['check'] = df[check_list[0]] - np.sum(df[i] for i in check_list[1:])\n",
    "    \n",
    "    return df[default_list + check_list].loc[df['check'] != 0]"
   ]
  },
  {
   "cell_type": "code",
   "execution_count": 11,
   "metadata": {},
   "outputs": [],
   "source": [
    "def check_sis_80(df: pd.DataFrame) -> pd.DataFrame:\n",
    "    default_list = ['SECURITY_CODE', 'REPORT_DATE', 'FREQ_CODE', 'AUDITED']\n",
    "    check_list = ['SIS_80', 'SIS_71', 'SIS_72']\n",
    "    df['check'] = df[check_list[0]] - np.sum(df[i] for i in check_list[1:])\n",
    "    \n",
    "    return df[default_list + check_list].loc[df['check'] != 0]"
   ]
  },
  {
   "cell_type": "code",
   "execution_count": 12,
   "metadata": {},
   "outputs": [],
   "source": [
    "def check_sis_90(df: pd.DataFrame) -> pd.DataFrame:\n",
    "    default_list = ['SECURITY_CODE', 'REPORT_DATE', 'FREQ_CODE', 'AUDITED']\n",
    "    check_list = ['SIS_90', 'SIS_70', 'SIS_80']\n",
    "    df['check'] = df[check_list[0]] - np.sum(df[i] for i in check_list[1:])\n",
    "    \n",
    "    return df[default_list + check_list].loc[df['check'] != 0]"
   ]
  },
  {
   "cell_type": "code",
   "execution_count": 13,
   "metadata": {},
   "outputs": [],
   "source": [
    "def check_sis_90_sub_items(df: pd.DataFrame) -> pd.DataFrame:\n",
    "    default_list = ['SECURITY_CODE', 'REPORT_DATE', 'FREQ_CODE', 'AUDITED']\n",
    "    check_list = ['SIS_90', 'SIS_91', 'SIS_92']\n",
    "    df['check'] = df[check_list[0]] - np.sum(df[i] for i in check_list[1:])\n",
    "    \n",
    "    return df[default_list + check_list].loc[df['check'] != 0]"
   ]
  },
  {
   "cell_type": "code",
   "execution_count": 15,
   "metadata": {},
   "outputs": [],
   "source": [
    "def check_sis_200(df: pd.DataFrame) -> pd.DataFrame:\n",
    "    default_list = ['SECURITY_CODE', 'REPORT_DATE', 'FREQ_CODE', 'AUDITED']\n",
    "    check_list = ['SIS_200', 'SIS_201', 'SIS_202', 'SIS_203']\n",
    "    df['check'] = df[check_list[0]] - np.sum(df[i] for i in check_list[1:])\n",
    "    \n",
    "    return df[default_list + check_list].loc[df['check'] != 0]"
   ]
  },
  {
   "cell_type": "code",
   "execution_count": 17,
   "metadata": {},
   "outputs": [],
   "source": [
    "def check_sis_400(df: pd.DataFrame) -> pd.DataFrame:\n",
    "    default_list = ['SECURITY_CODE', 'REPORT_DATE', 'FREQ_CODE', 'AUDITED']\n",
    "    check_list = ['SIS_400', 'SIS_203_1', 'SIS_301', 'SIS_302', \n",
    "                  'SIS_303', 'SIS_304', 'SIS_305', 'SIS_306', \n",
    "                  'SIS_307']\n",
    "    df['check'] = df[check_list[0]] - np.sum(df[i] for i in check_list[1:])\n",
    "    \n",
    "    return df[default_list + check_list].loc[df['check'] != 0]"
   ]
  },
  {
   "cell_type": "code",
   "execution_count": 18,
   "metadata": {},
   "outputs": [],
   "source": [
    "def check_sis_400_sub_items(df: pd.DataFrame) -> pd.DataFrame:\n",
    "    default_list = ['SECURITY_CODE', 'REPORT_DATE', 'FREQ_CODE', 'AUDITED']\n",
    "    check_list = ['SIS_400', 'SIS_401', 'SIS_402']\n",
    "    df['check'] = df[check_list[0]] - np.sum(df[i] for i in check_list[1:])\n",
    "    \n",
    "    return df[default_list + check_list].loc[df['check'] != 0]"
   ]
  },
  {
   "cell_type": "code",
   "execution_count": null,
   "metadata": {},
   "outputs": [],
   "source": []
  }
 ],
 "metadata": {
  "kernelspec": {
   "display_name": "quant_p",
   "language": "python",
   "name": "python3"
  },
  "language_info": {
   "codemirror_mode": {
    "name": "ipython",
    "version": 3
   },
   "file_extension": ".py",
   "mimetype": "text/x-python",
   "name": "python",
   "nbconvert_exporter": "python",
   "pygments_lexer": "ipython3",
   "version": "3.11.2"
  },
  "orig_nbformat": 4
 },
 "nbformat": 4,
 "nbformat_minor": 2
}
